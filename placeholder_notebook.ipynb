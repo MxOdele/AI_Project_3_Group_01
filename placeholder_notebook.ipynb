{
 "cells": [
  {
   "cell_type": "markdown",
   "metadata": {},
   "source": [
    "# **Project Title**\n",
    "#### *Project Subtitle*"
   ]
  },
  {
   "cell_type": "markdown",
   "metadata": {},
   "source": [
    "## Hypothesis;\n",
    "\n",
    "Project thesis"
   ]
  },
  {
   "cell_type": "code",
   "execution_count": null,
   "metadata": {},
   "outputs": [],
   "source": [
    "# Importing dependencies\n",
    "import pandas as pd"
   ]
  },
  {
   "cell_type": "markdown",
   "metadata": {},
   "source": [
    "# **Data**"
   ]
  },
  {
   "cell_type": "markdown",
   "metadata": {},
   "source": [
    "## Dataset"
   ]
  },
  {
   "cell_type": "markdown",
   "metadata": {},
   "source": [
    "Dataset details"
   ]
  },
  {
   "cell_type": "code",
   "execution_count": null,
   "metadata": {},
   "outputs": [],
   "source": [
    "# Reading in data\n",
    "# (potentially?)"
   ]
  },
  {
   "cell_type": "markdown",
   "metadata": {},
   "source": [
    "### EDA"
   ]
  },
  {
   "cell_type": "code",
   "execution_count": null,
   "metadata": {},
   "outputs": [],
   "source": [
    "# Beginning EDA"
   ]
  },
  {
   "cell_type": "markdown",
   "metadata": {},
   "source": [
    "# **Ramona's Code Space**"
   ]
  },
  {
   "cell_type": "code",
   "execution_count": null,
   "metadata": {},
   "outputs": [],
   "source": []
  },
  {
   "cell_type": "markdown",
   "metadata": {},
   "source": [
    "*End Code Space*"
   ]
  },
  {
   "cell_type": "markdown",
   "metadata": {},
   "source": [
    "# **Christian's Code Space**"
   ]
  },
  {
   "cell_type": "markdown",
   "metadata": {},
   "source": [
    "### Dependencies"
   ]
  },
  {
   "cell_type": "code",
   "execution_count": null,
   "metadata": {},
   "outputs": [],
   "source": [
    "# Installing gdown (uncomment if needed)\n",
    "# %pip install gdown --quiet"
   ]
  },
  {
   "cell_type": "code",
   "execution_count": null,
   "metadata": {},
   "outputs": [],
   "source": [
    "# Imports and dependencies\n",
    "import os\n",
    "import re\n",
    "import numpy as np\n",
    "import scipy as sp\n",
    "import pandas as pd\n",
    "import matplotlib.pyplot as plt\n",
    "import seaborn as sns\n",
    "\n",
    "# json\n",
    "import json\n",
    "\n",
    "# gdown\n",
    "import gdown"
   ]
  },
  {
   "cell_type": "markdown",
   "metadata": {},
   "source": [
    "#### Resources path"
   ]
  },
  {
   "cell_type": "code",
   "execution_count": null,
   "metadata": {},
   "outputs": [],
   "source": [
    "# Defining a function to access datasets through `gdown`\n",
    "def fetch_data(set):\n",
    "    # Declaring `url` and `output` for dataset\n",
    "    match set:\n",
    "        case 'business':\n",
    "            url = 'https://drive.google.com/file/d/1t-_rOjZ8oMqPcMJunVaMgY3OEbhnuSCv/view?usp=sharing'\n",
    "            output = 'Resources/business_dataset.csv'\n",
    "        case 'checkin':\n",
    "            url = 'https://drive.google.com/file/d/1_AVWp31ymfvf4QgTiMN_WLAeapfr0omf/view?usp=sharing'\n",
    "            output = 'Resources/checkin_dataset.csv'\n",
    "        case 'reviews':\n",
    "            url = 'https://drive.google.com/file/d/1L8rFjhOQyU90Ycr9t_OLA70vCYM0e7ck/view?usp=sharing'\n",
    "            output = 'Resources/reviews_dataset.csv'\n",
    "        case 'tip':\n",
    "            url = 'https://drive.google.com/file/d/1LMkCi5AFC_58_m7ELmn1hR8YDykuXwqq/view?usp=sharing'\n",
    "            output = 'Resources/tip_dataset.csv'\n",
    "        case 'user':\n",
    "            url = 'https://drive.google.com/file/d/1kQ522qcod7AjD5DO9vj8qFcSKxwJCDrO/view?usp=sharing'\n",
    "            output = 'Resources/user_dataset.csv'\n",
    "        case _:\n",
    "            print('Invalid dataset selected, please try again')\n",
    "            return None\n",
    "    \n",
    "    # Downloading dataset\n",
    "    gdown.download(url, output, fuzzy=True, quiet=True)\n",
    "\n",
    "    # Reading in the dataset\n",
    "    df = pd.read_csv(output)\n",
    "\n",
    "    # Returning the dataset\n",
    "    return df"
   ]
  },
  {
   "cell_type": "markdown",
   "metadata": {},
   "source": [
    "---"
   ]
  },
  {
   "cell_type": "markdown",
   "metadata": {},
   "source": [
    "#### Business dataset"
   ]
  },
  {
   "cell_type": "markdown",
   "metadata": {},
   "source": [
    "#### <font color='blue'> Description:</font> \n",
    "**Contains business data including location data, attributes, and categories.**"
   ]
  },
  {
   "cell_type": "markdown",
   "metadata": {},
   "source": [
    "#### Loading data"
   ]
  },
  {
   "cell_type": "code",
   "execution_count": null,
   "metadata": {},
   "outputs": [],
   "source": [
    "# Fetching `business_dataset`\n",
    "business_df = fetch_data('business')"
   ]
  },
  {
   "cell_type": "markdown",
   "metadata": {},
   "source": [
    "#### Overview"
   ]
  },
  {
   "cell_type": "code",
   "execution_count": null,
   "metadata": {},
   "outputs": [],
   "source": [
    "business_df.head()"
   ]
  },
  {
   "cell_type": "markdown",
   "metadata": {},
   "source": [
    "#### Info"
   ]
  },
  {
   "cell_type": "code",
   "execution_count": null,
   "metadata": {},
   "outputs": [],
   "source": [
    "business_df.info()"
   ]
  },
  {
   "cell_type": "markdown",
   "metadata": {},
   "source": [
    "---"
   ]
  },
  {
   "cell_type": "markdown",
   "metadata": {},
   "source": [
    "#### Checkin dataset"
   ]
  },
  {
   "cell_type": "markdown",
   "metadata": {},
   "source": [
    "#### <font color='blue'> Description:</font>\n",
    "**Checkins on a business.**"
   ]
  },
  {
   "cell_type": "markdown",
   "metadata": {},
   "source": [
    "#### Loading Data"
   ]
  },
  {
   "cell_type": "code",
   "execution_count": null,
   "metadata": {},
   "outputs": [],
   "source": [
    "# Fethching `checkin_dataset`\n",
    "checkin_df = fetch_data('checkin')"
   ]
  },
  {
   "cell_type": "markdown",
   "metadata": {},
   "source": [
    "#### Overview"
   ]
  },
  {
   "cell_type": "code",
   "execution_count": null,
   "metadata": {},
   "outputs": [],
   "source": [
    "checkin_df.head()"
   ]
  },
  {
   "cell_type": "markdown",
   "metadata": {},
   "source": [
    "#### Info"
   ]
  },
  {
   "cell_type": "code",
   "execution_count": null,
   "metadata": {},
   "outputs": [],
   "source": [
    "checkin_df.info()"
   ]
  },
  {
   "cell_type": "markdown",
   "metadata": {},
   "source": [
    "#### **<font color='orange'> Notes:</font>**\n",
    "**The team has determined this dataset would not add any value to our training data.**"
   ]
  },
  {
   "cell_type": "markdown",
   "metadata": {},
   "source": [
    "---"
   ]
  },
  {
   "cell_type": "markdown",
   "metadata": {},
   "source": [
    "#### Reviews dataset"
   ]
  },
  {
   "cell_type": "markdown",
   "metadata": {},
   "source": [
    "#### <font color = 'blue'>Description:</font>\n",
    "**Contains full review text data including the user_id that wrote the review and the business_id the review is written for.**"
   ]
  },
  {
   "cell_type": "markdown",
   "metadata": {},
   "source": [
    "#### Loading Data"
   ]
  },
  {
   "cell_type": "code",
   "execution_count": null,
   "metadata": {},
   "outputs": [],
   "source": [
    "# Fetching `reviews_dataset`\n",
    "reviews_df = fetch_data('reviews')"
   ]
  },
  {
   "cell_type": "markdown",
   "metadata": {},
   "source": [
    "#### Overview"
   ]
  },
  {
   "cell_type": "code",
   "execution_count": null,
   "metadata": {},
   "outputs": [],
   "source": [
    "reviews_df.head()"
   ]
  },
  {
   "cell_type": "markdown",
   "metadata": {},
   "source": [
    "#### Info"
   ]
  },
  {
   "cell_type": "code",
   "execution_count": null,
   "metadata": {},
   "outputs": [],
   "source": [
    "reviews_df.info()"
   ]
  },
  {
   "cell_type": "markdown",
   "metadata": {},
   "source": [
    "#### Na count"
   ]
  },
  {
   "cell_type": "code",
   "execution_count": null,
   "metadata": {},
   "outputs": [],
   "source": [
    "reviews_df.isna().sum()"
   ]
  },
  {
   "cell_type": "markdown",
   "metadata": {},
   "source": [
    "#### Dropping columns:\n",
    "- **review_id**\n",
    "- **useful**\n",
    "- **funny**\n",
    "- **cool**"
   ]
  },
  {
   "cell_type": "code",
   "execution_count": null,
   "metadata": {},
   "outputs": [],
   "source": [
    "reviews_df.drop(columns = ['review_id','useful','funny','cool'],\n",
    "                inplace = True)"
   ]
  },
  {
   "cell_type": "markdown",
   "metadata": {},
   "source": [
    "#### Renaming the 'text' field to 'review'"
   ]
  },
  {
   "cell_type": "code",
   "execution_count": null,
   "metadata": {},
   "outputs": [],
   "source": [
    "reviews_df.rename(columns = {'text':'review'},inplace = True)\n",
    "reviews_df.head()"
   ]
  },
  {
   "cell_type": "markdown",
   "metadata": {},
   "source": [
    "#### **<font color='orange'> Notes:</font>**\n",
    "- **review_id: Eliminated due to low informational value.**\n",
    "- **useful: Eliminated due to low relevance.**\n",
    "- **funny: Eliminated due to low relevance.**\n",
    "- **cool: Eliminated due to low relevance.**\n",
    "\n",
    "  **The *<font color='green'>'business_id'</font>* feature will be used as the identifier, *<font color='green'>'stars'</font>* is the rating metric and the *<font color='grey'>'review'</font>*  field encapsulates**<br>\n",
    "  **the data to be processed. the *<font color='green'>'date'</font>* variable is in place if time series analysis is needed.**"
   ]
  },
  {
   "cell_type": "markdown",
   "metadata": {},
   "source": [
    "---"
   ]
  },
  {
   "cell_type": "markdown",
   "metadata": {},
   "source": [
    "#### Tips dataset"
   ]
  },
  {
   "cell_type": "markdown",
   "metadata": {},
   "source": [
    "#### <font color='blue'>Description:</font>\n",
    "**Tips written by a user on a business. Tips are shorter than reviews and tend to convey quick suggestions.**"
   ]
  },
  {
   "cell_type": "markdown",
   "metadata": {},
   "source": [
    "#### Loading Data"
   ]
  },
  {
   "cell_type": "code",
   "execution_count": null,
   "metadata": {},
   "outputs": [],
   "source": [
    "# Fetching `tips_dataset`\n",
    "tips_df = fetch_data('tip')"
   ]
  },
  {
   "cell_type": "markdown",
   "metadata": {},
   "source": [
    "#### Overview"
   ]
  },
  {
   "cell_type": "code",
   "execution_count": null,
   "metadata": {},
   "outputs": [],
   "source": [
    "tips_df.head()"
   ]
  },
  {
   "cell_type": "markdown",
   "metadata": {},
   "source": [
    "#### Info"
   ]
  },
  {
   "cell_type": "code",
   "execution_count": null,
   "metadata": {},
   "outputs": [],
   "source": [
    "tips_df.info()"
   ]
  },
  {
   "cell_type": "markdown",
   "metadata": {},
   "source": [
    "#### Dropping columns:\n",
    "- **compliment_count**"
   ]
  },
  {
   "cell_type": "code",
   "execution_count": null,
   "metadata": {},
   "outputs": [],
   "source": [
    "tips_df.drop(columns = ['compliment_count'],\n",
    "             inplace =True)"
   ]
  },
  {
   "cell_type": "markdown",
   "metadata": {},
   "source": [
    "#### Renaming the 'text' column to 'recommendations'"
   ]
  },
  {
   "cell_type": "code",
   "execution_count": null,
   "metadata": {},
   "outputs": [],
   "source": [
    "tips_df.rename(columns = {'text':'recommendations'},inplace = True)\n",
    "tips_df.head()"
   ]
  },
  {
   "cell_type": "markdown",
   "metadata": {},
   "source": [
    "#### **<font color='orange'> Notes:</font>**\n",
    "- **compliment_count: Eliminated due to low informational value.**\n",
    "\n",
    "\n",
    " **Since this data set has recommendations from the user to improve customer experience the 'recommendations' field could be a useful target variable.**"
   ]
  },
  {
   "cell_type": "markdown",
   "metadata": {},
   "source": [
    "---"
   ]
  },
  {
   "cell_type": "markdown",
   "metadata": {},
   "source": [
    "#### User dataset"
   ]
  },
  {
   "cell_type": "markdown",
   "metadata": {},
   "source": [
    "#### <font color = 'blue'>Note:</font>\n",
    "**User data including the user's friend mapping and all the metadata associated with the user.**"
   ]
  },
  {
   "cell_type": "markdown",
   "metadata": {},
   "source": [
    "#### Loading Data"
   ]
  },
  {
   "cell_type": "code",
   "execution_count": null,
   "metadata": {},
   "outputs": [],
   "source": [
    "# Fetching `user_dataset`\n",
    "user_df = fetch_data('user')"
   ]
  },
  {
   "cell_type": "markdown",
   "metadata": {},
   "source": [
    "#### Overview"
   ]
  },
  {
   "cell_type": "code",
   "execution_count": null,
   "metadata": {},
   "outputs": [],
   "source": [
    "user_df.head()"
   ]
  },
  {
   "cell_type": "markdown",
   "metadata": {},
   "source": [
    "#### Info"
   ]
  },
  {
   "cell_type": "code",
   "execution_count": null,
   "metadata": {},
   "outputs": [],
   "source": [
    "user_df.info()"
   ]
  },
  {
   "cell_type": "markdown",
   "metadata": {},
   "source": [
    "#### **<font color='orange'> Notes:</font>**\n",
    "**This data set will not be included in the training data to preserve user anonimity.**"
   ]
  },
  {
   "cell_type": "markdown",
   "metadata": {},
   "source": [
    "# //////////////////////////////////////////////////////////////////////////////////////////////////////////////////////////"
   ]
  },
  {
   "cell_type": "markdown",
   "metadata": {},
   "source": [
    "## **<font color = 'darkgrey'>Merging the reviews data set and the business data set</font>**"
   ]
  },
  {
   "cell_type": "markdown",
   "metadata": {},
   "source": [
    "#### <font color = 'blue'>Description:</font>\n",
    "**This data set contains the fields that will be used to train the model**"
   ]
  },
  {
   "cell_type": "code",
   "execution_count": null,
   "metadata": {},
   "outputs": [],
   "source": [
    "data_df = reviews_df.merge(business_df,how='left',on = 'business_id')"
   ]
  },
  {
   "cell_type": "code",
   "execution_count": null,
   "metadata": {},
   "outputs": [],
   "source": [
    "data_df.info()"
   ]
  },
  {
   "cell_type": "code",
   "execution_count": null,
   "metadata": {},
   "outputs": [],
   "source": [
    "data_df.head()"
   ]
  },
  {
   "cell_type": "markdown",
   "metadata": {},
   "source": [
    "#### Na count"
   ]
  },
  {
   "cell_type": "code",
   "execution_count": null,
   "metadata": {},
   "outputs": [],
   "source": [
    "data_df.isna().sum()"
   ]
  },
  {
   "cell_type": "code",
   "execution_count": null,
   "metadata": {},
   "outputs": [],
   "source": [
    "na_prcnt = data_df[['attributes','categories','hours']].isna().sum()/data_df.shape[0]*100\n",
    "nas_df = pd.DataFrame(na_prcnt, columns=['percentage'])\n",
    "nas_df = nas_df.transpose()\n",
    "nas_df.round(4)"
   ]
  },
  {
   "cell_type": "code",
   "execution_count": null,
   "metadata": {},
   "outputs": [],
   "source": [
    "sns.barplot(data = nas_df).set_title('Na percentage')"
   ]
  },
  {
   "cell_type": "markdown",
   "metadata": {},
   "source": [
    "#### **<font color='orange'> Notes:</font>**\n",
    "**After consulting with the team we decided to drop all three columns.**"
   ]
  },
  {
   "cell_type": "markdown",
   "metadata": {},
   "source": [
    "#### Dropping rows with na values"
   ]
  },
  {
   "cell_type": "code",
   "execution_count": null,
   "metadata": {},
   "outputs": [],
   "source": [
    "data_df.drop(columns = ['attributes','categories','hours'],inplace=True)"
   ]
  },
  {
   "cell_type": "code",
   "execution_count": null,
   "metadata": {},
   "outputs": [],
   "source": [
    "data_df.isna().sum()"
   ]
  },
  {
   "cell_type": "markdown",
   "metadata": {},
   "source": [
    "#### *<font color='grey'>stars_x* and *<font color='grey'>stars_y* comparison"
   ]
  },
  {
   "cell_type": "code",
   "execution_count": null,
   "metadata": {},
   "outputs": [],
   "source": [
    "data_df.loc[data_df['stars_x'] != data_df['stars_y']][['stars_x','stars_y']].head()"
   ]
  },
  {
   "cell_type": "markdown",
   "metadata": {},
   "source": [
    "#### *<font color='grey'>stars_x* and *<font color='grey'>stars_y*  for the same customer"
   ]
  },
  {
   "cell_type": "code",
   "execution_count": null,
   "metadata": {},
   "outputs": [],
   "source": [
    "data_df.loc[data_df['business_id']=='XQfwVwDr-v0ZS3_CbbE5Xw'][['stars_x','stars_y']].head()"
   ]
  },
  {
   "cell_type": "markdown",
   "metadata": {},
   "source": [
    "#### *<font color='grey'>stars_x* average"
   ]
  },
  {
   "cell_type": "code",
   "execution_count": null,
   "metadata": {},
   "outputs": [],
   "source": [
    "round(data_df.loc[data_df['business_id']=='XQfwVwDr-v0ZS3_CbbE5Xw']['stars_x'].mean(),2)"
   ]
  },
  {
   "cell_type": "markdown",
   "metadata": {},
   "source": [
    "#### **<font color='orange'> Notes:</font>**\n",
    "**Because** *<font color='grey'> star_y</font>* **represents the average star rating, renaming** *<font color='grey'> star_y:</font>* **to:** *<font color='grey'> star_avg:</font>*"
   ]
  },
  {
   "cell_type": "markdown",
   "metadata": {},
   "source": [
    "#### Renaming"
   ]
  },
  {
   "cell_type": "code",
   "execution_count": null,
   "metadata": {},
   "outputs": [],
   "source": [
    "data_df.rename(columns={'stars_y':'stars_avg','stars_x':'stars'},inplace = True)"
   ]
  },
  {
   "cell_type": "markdown",
   "metadata": {},
   "source": [
    "#### Dropping is_open feature"
   ]
  },
  {
   "cell_type": "code",
   "execution_count": null,
   "metadata": {},
   "outputs": [],
   "source": [
    "fig,ax = plt.subplots()\n",
    "sns.countplot(data_df,\n",
    "             x='is_open',\n",
    "             hue = 'is_open',\n",
    "             ax = ax).set_title('is_open Feature')"
   ]
  },
  {
   "cell_type": "markdown",
   "metadata": {},
   "source": [
    "#### droppin is_open"
   ]
  },
  {
   "cell_type": "code",
   "execution_count": null,
   "metadata": {},
   "outputs": [],
   "source": [
    "data_df.drop(columns = ['is_open'],inplace = True)"
   ]
  },
  {
   "cell_type": "markdown",
   "metadata": {},
   "source": [
    "#### **<font color='orange'> Notes:</font>**\n",
    "**After cosulting with the team we decided to drop this feature due low informational value and feature imbalance**"
   ]
  },
  {
   "cell_type": "markdown",
   "metadata": {},
   "source": [
    "# //////////////////////////////////////////////////////////////////////////////////////////////////"
   ]
  },
  {
   "cell_type": "markdown",
   "metadata": {},
   "source": [
    "## **<font color='darkgrey'>Merging with the tips data set exploration</font>**"
   ]
  },
  {
   "cell_type": "markdown",
   "metadata": {},
   "source": [
    "#### <font color = 'blue'>Description:</font>\n",
    "**Contains customer recommendatins to improve experience**"
   ]
  },
  {
   "cell_type": "code",
   "execution_count": null,
   "metadata": {},
   "outputs": [],
   "source": [
    "tips_df.head()"
   ]
  },
  {
   "cell_type": "code",
   "execution_count": null,
   "metadata": {},
   "outputs": [],
   "source": [
    "tips_df.info()"
   ]
  },
  {
   "cell_type": "markdown",
   "metadata": {},
   "source": [
    "#### Quantity of unique business_id in the tips data set"
   ]
  },
  {
   "cell_type": "code",
   "execution_count": null,
   "metadata": {},
   "outputs": [],
   "source": [
    "display(tips_df['business_id'].unique().shape[0])"
   ]
  },
  {
   "cell_type": "markdown",
   "metadata": {},
   "source": [
    "#### Quantity of unique business_id in  data_df"
   ]
  },
  {
   "cell_type": "code",
   "execution_count": null,
   "metadata": {},
   "outputs": [],
   "source": [
    "data_df['business_id'].unique().shape[0]"
   ]
  },
  {
   "cell_type": "markdown",
   "metadata": {},
   "source": [
    "#### Subset of *<font color='grey'>business_id</font>* in *<font color='grey'>data_df</font>* not found in *<font color='grey'>tips_df</font>*."
   ]
  },
  {
   "cell_type": "code",
   "execution_count": null,
   "metadata": {},
   "outputs": [],
   "source": [
    "no_tips_df = data_df[~data_df['business_id'].isin(tips_df['business_id'])]\n",
    "no_tips_df.head()"
   ]
  },
  {
   "cell_type": "markdown",
   "metadata": {},
   "source": [
    "#### Number of *<font color='grey'>business_id</font>* in *<font color='grey'>data_df</font>* not found in *<font color='grey'>tips_df</font>*."
   ]
  },
  {
   "cell_type": "code",
   "execution_count": null,
   "metadata": {},
   "outputs": [],
   "source": [
    "no_tips_df = data_df[~data_df['business_id'].isin(tips_df['business_id'])]\n",
    "not_found = no_tips_df['business_id'].unique().shape[0]\n",
    "print(f'Number of business_ids in tips_df not found in data_df: {not_found}')"
   ]
  },
  {
   "cell_type": "markdown",
   "metadata": {},
   "source": [
    "#### Evidence"
   ]
  },
  {
   "cell_type": "code",
   "execution_count": null,
   "metadata": {},
   "outputs": [],
   "source": [
    "tips_df.loc[tips_df['business_id'] == no_tips_df['business_id'].iloc[33]]"
   ]
  },
  {
   "cell_type": "markdown",
   "metadata": {},
   "source": [
    "#### Merge"
   ]
  },
  {
   "cell_type": "code",
   "execution_count": null,
   "metadata": {},
   "outputs": [],
   "source": [
    "test_df = pd.merge(tips_df,data_df,\n",
    "                   on = ['business_id','user_id'],\n",
    "                   how = 'inner')\n",
    "                         "
   ]
  },
  {
   "cell_type": "markdown",
   "metadata": {},
   "source": [
    "#### Overview"
   ]
  },
  {
   "cell_type": "code",
   "execution_count": null,
   "metadata": {},
   "outputs": [],
   "source": [
    "test_df.info()"
   ]
  },
  {
   "cell_type": "code",
   "execution_count": null,
   "metadata": {},
   "outputs": [],
   "source": [
    "test_df.head()"
   ]
  },
  {
   "cell_type": "markdown",
   "metadata": {},
   "source": [
    "#### Comparison review vs. recommendations"
   ]
  },
  {
   "cell_type": "code",
   "execution_count": null,
   "metadata": {},
   "outputs": [],
   "source": [
    "test_df[['review','recommendations']].head()"
   ]
  },
  {
   "cell_type": "markdown",
   "metadata": {},
   "source": [
    "##### **<font color='orange'> Notes:</font>**\n",
    "**The <font color='grey'>data_df</font> has approximately <font color='green'>7 million</font> entries and <font color='grey'>tips_df</font> about <font color='green'>1 million</font> after merging them we end up the a little under half a million**.<br>\n",
    "**In the comparison above I don't see a difference between a review from the *reviews data set* and a recommendation from the *tips data set***.<br>\n",
    "**As shown above we stand to loose a significant amount of data if a merge is performed**."
   ]
  },
  {
   "cell_type": "markdown",
   "metadata": {},
   "source": [
    "# ///////////////////////////////////////////////////////////////////////////////////////////////////"
   ]
  },
  {
   "cell_type": "markdown",
   "metadata": {},
   "source": [
    "## <font color='darkgrey'>Final Data Overview</font>"
   ]
  },
  {
   "cell_type": "markdown",
   "metadata": {},
   "source": [
    "#### Dropping the user_id column to preserv user anonimity"
   ]
  },
  {
   "cell_type": "code",
   "execution_count": null,
   "metadata": {},
   "outputs": [],
   "source": [
    "data_df.drop(columns = ['user_id'],inplace = True)"
   ]
  },
  {
   "cell_type": "markdown",
   "metadata": {},
   "source": [
    "#### Overview"
   ]
  },
  {
   "cell_type": "code",
   "execution_count": null,
   "metadata": {},
   "outputs": [],
   "source": [
    "data_df.head()"
   ]
  },
  {
   "cell_type": "markdown",
   "metadata": {},
   "source": [
    "#### Info"
   ]
  },
  {
   "cell_type": "code",
   "execution_count": null,
   "metadata": {},
   "outputs": [],
   "source": [
    "data_df.info()"
   ]
  },
  {
   "cell_type": "markdown",
   "metadata": {},
   "source": [
    "#### Na verification"
   ]
  },
  {
   "cell_type": "code",
   "execution_count": null,
   "metadata": {},
   "outputs": [],
   "source": [
    "data_df.isna().sum()"
   ]
  },
  {
   "cell_type": "markdown",
   "metadata": {},
   "source": [
    "*End Code Space*"
   ]
  },
  {
   "cell_type": "markdown",
   "metadata": {},
   "source": [
    "# **Leigh's Code Space**"
   ]
  },
  {
   "cell_type": "code",
   "execution_count": null,
   "metadata": {},
   "outputs": [],
   "source": []
  },
  {
   "cell_type": "markdown",
   "metadata": {},
   "source": [
    "*End Code Space*"
   ]
  },
  {
   "cell_type": "markdown",
   "metadata": {},
   "source": [
    "# **Angelica's Code Space**"
   ]
  },
  {
   "cell_type": "code",
   "execution_count": 2,
   "metadata": {},
   "outputs": [],
   "source": [
    "#import required libraries\n",
    "from selenium import webdriver\n",
    "from selenium.webdriver.chrome.service import Service as ChromeService\n",
    "from webdriver_manager.chrome import ChromeDriverManager\n",
    "from bs4 import BeautifulSoup\n",
    "import time\n",
    "from selenium.webdriver.support.ui import WebDriverWait\n",
    "from selenium.webdriver.common.by import By\n",
    "from selenium.webdriver.support import expected_conditions as EC\n",
    "import pandas as pd"
   ]
  },
  {
   "cell_type": "code",
   "execution_count": 3,
   "metadata": {},
   "outputs": [
    {
     "data": {
      "text/html": [
       "<div>\n",
       "<style scoped>\n",
       "    .dataframe tbody tr th:only-of-type {\n",
       "        vertical-align: middle;\n",
       "    }\n",
       "\n",
       "    .dataframe tbody tr th {\n",
       "        vertical-align: top;\n",
       "    }\n",
       "\n",
       "    .dataframe thead th {\n",
       "        text-align: right;\n",
       "    }\n",
       "</style>\n",
       "<table border=\"1\" class=\"dataframe\">\n",
       "  <thead>\n",
       "    <tr style=\"text-align: right;\">\n",
       "      <th></th>\n",
       "      <th>review</th>\n",
       "      <th>rating</th>\n",
       "      <th>bus_id</th>\n",
       "      <th>avg_rating</th>\n",
       "      <th>bus_add</th>\n",
       "      <th>bus_city</th>\n",
       "      <th>lat</th>\n",
       "      <th>lon</th>\n",
       "    </tr>\n",
       "  </thead>\n",
       "  <tbody>\n",
       "    <tr>\n",
       "      <th>0</th>\n",
       "      <td>The cakes are beautiful and delicious, but you...</td>\n",
       "      <td>5</td>\n",
       "      <td>Dulce De Leche Bakery</td>\n",
       "      <td>4.7</td>\n",
       "      <td>376 Central Ave</td>\n",
       "      <td>Jersey City</td>\n",
       "      <td>40.7476428</td>\n",
       "      <td>-74.0527625</td>\n",
       "    </tr>\n",
       "    <tr>\n",
       "      <th>1</th>\n",
       "      <td>The entire experience was excellent: well-brew...</td>\n",
       "      <td>5</td>\n",
       "      <td>Dulce De Leche Bakery</td>\n",
       "      <td>4.7</td>\n",
       "      <td>376 Central Ave</td>\n",
       "      <td>Jersey City</td>\n",
       "      <td>40.7476428</td>\n",
       "      <td>-74.0527625</td>\n",
       "    </tr>\n",
       "    <tr>\n",
       "      <th>2</th>\n",
       "      <td>Everything was great.\\n\\nFood, service, and th...</td>\n",
       "      <td>5</td>\n",
       "      <td>Dulce De Leche Bakery</td>\n",
       "      <td>4.7</td>\n",
       "      <td>376 Central Ave</td>\n",
       "      <td>Jersey City</td>\n",
       "      <td>40.7476428</td>\n",
       "      <td>-74.0527625</td>\n",
       "    </tr>\n",
       "    <tr>\n",
       "      <th>3</th>\n",
       "      <td>The soup is amazing. My family likes the Itali...</td>\n",
       "      <td>5</td>\n",
       "      <td>Dulce De Leche Bakery</td>\n",
       "      <td>4.7</td>\n",
       "      <td>376 Central Ave</td>\n",
       "      <td>Jersey City</td>\n",
       "      <td>40.7476428</td>\n",
       "      <td>-74.0527625</td>\n",
       "    </tr>\n",
       "    <tr>\n",
       "      <th>4</th>\n",
       "      <td>Absolutely love Dulce de Leche Bakery in Jerse...</td>\n",
       "      <td>5</td>\n",
       "      <td>Dulce De Leche Bakery</td>\n",
       "      <td>4.7</td>\n",
       "      <td>376 Central Ave</td>\n",
       "      <td>Jersey City</td>\n",
       "      <td>40.7476428</td>\n",
       "      <td>-74.0527625</td>\n",
       "    </tr>\n",
       "    <tr>\n",
       "      <th>5</th>\n",
       "      <td>We had the coconut mousse cake. It was beautif...</td>\n",
       "      <td>3</td>\n",
       "      <td>Dulce De Leche Bakery</td>\n",
       "      <td>4.7</td>\n",
       "      <td>376 Central Ave</td>\n",
       "      <td>Jersey City</td>\n",
       "      <td>40.7476428</td>\n",
       "      <td>-74.0527625</td>\n",
       "    </tr>\n",
       "    <tr>\n",
       "      <th>6</th>\n",
       "      <td>I'd rate the food an impressive 8.3 out of 10 ...</td>\n",
       "      <td>5</td>\n",
       "      <td>Dulce De Leche Bakery</td>\n",
       "      <td>4.7</td>\n",
       "      <td>376 Central Ave</td>\n",
       "      <td>Jersey City</td>\n",
       "      <td>40.7476428</td>\n",
       "      <td>-74.0527625</td>\n",
       "    </tr>\n",
       "    <tr>\n",
       "      <th>7</th>\n",
       "      <td>Embarrasing. They raised the price of the ham,...</td>\n",
       "      <td>1</td>\n",
       "      <td>Dulce De Leche Bakery</td>\n",
       "      <td>4.7</td>\n",
       "      <td>376 Central Ave</td>\n",
       "      <td>Jersey City</td>\n",
       "      <td>40.7476428</td>\n",
       "      <td>-74.0527625</td>\n",
       "    </tr>\n",
       "    <tr>\n",
       "      <th>8</th>\n",
       "      <td>I’ve been going to this bakery in this locatio...</td>\n",
       "      <td>4</td>\n",
       "      <td>Dulce De Leche Bakery</td>\n",
       "      <td>4.7</td>\n",
       "      <td>376 Central Ave</td>\n",
       "      <td>Jersey City</td>\n",
       "      <td>40.7476428</td>\n",
       "      <td>-74.0527625</td>\n",
       "    </tr>\n",
       "    <tr>\n",
       "      <th>9</th>\n",
       "      <td>This bakery offers a delightful atmosphere wit...</td>\n",
       "      <td>4</td>\n",
       "      <td>Dulce De Leche Bakery</td>\n",
       "      <td>4.7</td>\n",
       "      <td>376 Central Ave</td>\n",
       "      <td>Jersey City</td>\n",
       "      <td>40.7476428</td>\n",
       "      <td>-74.0527625</td>\n",
       "    </tr>\n",
       "    <tr>\n",
       "      <th>10</th>\n",
       "      <td>MORE MORE ❤️❤️ You will want more and more of ...</td>\n",
       "      <td>5</td>\n",
       "      <td>Dulce De Leche Bakery</td>\n",
       "      <td>4.6</td>\n",
       "      <td>6510 Bergenline Ave</td>\n",
       "      <td>West New York</td>\n",
       "      <td>40.7933982</td>\n",
       "      <td>-74.015315</td>\n",
       "    </tr>\n",
       "    <tr>\n",
       "      <th>11</th>\n",
       "      <td>The food was absolutely delicious. The line wa...</td>\n",
       "      <td>5</td>\n",
       "      <td>Dulce De Leche Bakery</td>\n",
       "      <td>4.6</td>\n",
       "      <td>6510 Bergenline Ave</td>\n",
       "      <td>West New York</td>\n",
       "      <td>40.7933982</td>\n",
       "      <td>-74.015315</td>\n",
       "    </tr>\n",
       "    <tr>\n",
       "      <th>12</th>\n",
       "      <td>Looking for somewhat fast ordering food and fo...</td>\n",
       "      <td>5</td>\n",
       "      <td>Dulce De Leche Bakery</td>\n",
       "      <td>4.6</td>\n",
       "      <td>6510 Bergenline Ave</td>\n",
       "      <td>West New York</td>\n",
       "      <td>40.7933982</td>\n",
       "      <td>-74.015315</td>\n",
       "    </tr>\n",
       "    <tr>\n",
       "      <th>13</th>\n",
       "      <td>I love dulce de leche bakery a lot. Perfect co...</td>\n",
       "      <td>5</td>\n",
       "      <td>Dulce De Leche Bakery</td>\n",
       "      <td>4.6</td>\n",
       "      <td>6510 Bergenline Ave</td>\n",
       "      <td>West New York</td>\n",
       "      <td>40.7933982</td>\n",
       "      <td>-74.015315</td>\n",
       "    </tr>\n",
       "    <tr>\n",
       "      <th>14</th>\n",
       "      <td>They have an extremely huge variety of parties...</td>\n",
       "      <td>2</td>\n",
       "      <td>Dulce De Leche Bakery</td>\n",
       "      <td>4.6</td>\n",
       "      <td>6510 Bergenline Ave</td>\n",
       "      <td>West New York</td>\n",
       "      <td>40.7933982</td>\n",
       "      <td>-74.015315</td>\n",
       "    </tr>\n",
       "    <tr>\n",
       "      <th>15</th>\n",
       "      <td>Flies. Flies everywhere. Flies on the croissan...</td>\n",
       "      <td>2</td>\n",
       "      <td>Dulce De Leche Bakery</td>\n",
       "      <td>4.6</td>\n",
       "      <td>6510 Bergenline Ave</td>\n",
       "      <td>West New York</td>\n",
       "      <td>40.7933982</td>\n",
       "      <td>-74.015315</td>\n",
       "    </tr>\n",
       "    <tr>\n",
       "      <th>16</th>\n",
       "      <td>Absolutely delicious! The latte was great, the...</td>\n",
       "      <td>5</td>\n",
       "      <td>Dulce De Leche Bakery</td>\n",
       "      <td>4.6</td>\n",
       "      <td>6510 Bergenline Ave</td>\n",
       "      <td>West New York</td>\n",
       "      <td>40.7933982</td>\n",
       "      <td>-74.015315</td>\n",
       "    </tr>\n",
       "    <tr>\n",
       "      <th>17</th>\n",
       "      <td>Cheese empanada and spinach danish were both d...</td>\n",
       "      <td>5</td>\n",
       "      <td>Dulce De Leche Bakery</td>\n",
       "      <td>4.6</td>\n",
       "      <td>6510 Bergenline Ave</td>\n",
       "      <td>West New York</td>\n",
       "      <td>40.7933982</td>\n",
       "      <td>-74.015315</td>\n",
       "    </tr>\n",
       "    <tr>\n",
       "      <th>18</th>\n",
       "      <td>This place makes great food. Coffee was not go...</td>\n",
       "      <td>2</td>\n",
       "      <td>Dulce De Leche Bakery</td>\n",
       "      <td>4.6</td>\n",
       "      <td>6510 Bergenline Ave</td>\n",
       "      <td>West New York</td>\n",
       "      <td>40.7933982</td>\n",
       "      <td>-74.015315</td>\n",
       "    </tr>\n",
       "    <tr>\n",
       "      <th>19</th>\n",
       "      <td>We are from Uruguay and I have to say that the...</td>\n",
       "      <td>5</td>\n",
       "      <td>Dulce De Leche Bakery</td>\n",
       "      <td>4.6</td>\n",
       "      <td>6510 Bergenline Ave</td>\n",
       "      <td>West New York</td>\n",
       "      <td>40.7933982</td>\n",
       "      <td>-74.015315</td>\n",
       "    </tr>\n",
       "    <tr>\n",
       "      <th>20</th>\n",
       "      <td>Beautiful &amp; Clean bakery right off Bergenline ...</td>\n",
       "      <td>5</td>\n",
       "      <td>Dulce De Leche Bakery</td>\n",
       "      <td>4.8</td>\n",
       "      <td>7001 Adams St #1805</td>\n",
       "      <td>Guttenberg</td>\n",
       "      <td>40.7978647</td>\n",
       "      <td>-74.0166515</td>\n",
       "    </tr>\n",
       "    <tr>\n",
       "      <th>21</th>\n",
       "      <td>Amazing custom Cake in less than 24 hours!!! I...</td>\n",
       "      <td>5</td>\n",
       "      <td>Dulce De Leche Bakery</td>\n",
       "      <td>4.8</td>\n",
       "      <td>7001 Adams St #1805</td>\n",
       "      <td>Guttenberg</td>\n",
       "      <td>40.7978647</td>\n",
       "      <td>-74.0166515</td>\n",
       "    </tr>\n",
       "    <tr>\n",
       "      <th>22</th>\n",
       "      <td>Great place for pastries and bakery items. Mos...</td>\n",
       "      <td>5</td>\n",
       "      <td>Dulce De Leche Bakery</td>\n",
       "      <td>4.8</td>\n",
       "      <td>7001 Adams St #1805</td>\n",
       "      <td>Guttenberg</td>\n",
       "      <td>40.7978647</td>\n",
       "      <td>-74.0166515</td>\n",
       "    </tr>\n",
       "    <tr>\n",
       "      <th>23</th>\n",
       "      <td>excellent attention, sweets and desserts.  100...</td>\n",
       "      <td>5</td>\n",
       "      <td>Dulce De Leche Bakery</td>\n",
       "      <td>4.8</td>\n",
       "      <td>7001 Adams St #1805</td>\n",
       "      <td>Guttenberg</td>\n",
       "      <td>40.7978647</td>\n",
       "      <td>-74.0166515</td>\n",
       "    </tr>\n",
       "    <tr>\n",
       "      <th>24</th>\n",
       "      <td>Dulce De Leche Bakery is an amazing place to g...</td>\n",
       "      <td>5</td>\n",
       "      <td>Dulce De Leche Bakery</td>\n",
       "      <td>4.8</td>\n",
       "      <td>7001 Adams St #1805</td>\n",
       "      <td>Guttenberg</td>\n",
       "      <td>40.7978647</td>\n",
       "      <td>-74.0166515</td>\n",
       "    </tr>\n",
       "    <tr>\n",
       "      <th>25</th>\n",
       "      <td>Excellent soups, great sandwiches. Staff is re...</td>\n",
       "      <td>5</td>\n",
       "      <td>Dulce De Leche Bakery</td>\n",
       "      <td>4.8</td>\n",
       "      <td>7001 Adams St #1805</td>\n",
       "      <td>Guttenberg</td>\n",
       "      <td>40.7978647</td>\n",
       "      <td>-74.0166515</td>\n",
       "    </tr>\n",
       "    <tr>\n",
       "      <th>26</th>\n",
       "      <td>This is the best place for pastries in my opin...</td>\n",
       "      <td>5</td>\n",
       "      <td>Dulce De Leche Bakery</td>\n",
       "      <td>4.8</td>\n",
       "      <td>7001 Adams St #1805</td>\n",
       "      <td>Guttenberg</td>\n",
       "      <td>40.7978647</td>\n",
       "      <td>-74.0166515</td>\n",
       "    </tr>\n",
       "    <tr>\n",
       "      <th>27</th>\n",
       "      <td>Amazing custom Cake in less than 24 hours!!!</td>\n",
       "      <td>5</td>\n",
       "      <td>Dulce De Leche Bakery</td>\n",
       "      <td>4.8</td>\n",
       "      <td>7001 Adams St #1805</td>\n",
       "      <td>Guttenberg</td>\n",
       "      <td>40.7978647</td>\n",
       "      <td>-74.0166515</td>\n",
       "    </tr>\n",
       "    <tr>\n",
       "      <th>28</th>\n",
       "      <td>this is the factory, please update the name or...</td>\n",
       "      <td>3</td>\n",
       "      <td>Dulce De Leche Bakery</td>\n",
       "      <td>4.8</td>\n",
       "      <td>7001 Adams St #1805</td>\n",
       "      <td>Guttenberg</td>\n",
       "      <td>40.7978647</td>\n",
       "      <td>-74.0166515</td>\n",
       "    </tr>\n",
       "    <tr>\n",
       "      <th>29</th>\n",
       "      <td>Amazing</td>\n",
       "      <td>5</td>\n",
       "      <td>Dulce De Leche Bakery</td>\n",
       "      <td>4.8</td>\n",
       "      <td>7001 Adams St #1805</td>\n",
       "      <td>Guttenberg</td>\n",
       "      <td>40.7978647</td>\n",
       "      <td>-74.0166515</td>\n",
       "    </tr>\n",
       "    <tr>\n",
       "      <th>30</th>\n",
       "      <td>Awesome bakery right in the heart of Englewood...</td>\n",
       "      <td>5</td>\n",
       "      <td>Dulce de Leche Bakery</td>\n",
       "      <td>4.7</td>\n",
       "      <td>55 W Palisade Ave</td>\n",
       "      <td>Englewood</td>\n",
       "      <td>40.8955358</td>\n",
       "      <td>-73.9798118</td>\n",
       "    </tr>\n",
       "    <tr>\n",
       "      <th>31</th>\n",
       "      <td>Love! Love! Love! My favorite bakery! The cake...</td>\n",
       "      <td>5</td>\n",
       "      <td>Dulce de Leche Bakery</td>\n",
       "      <td>4.7</td>\n",
       "      <td>55 W Palisade Ave</td>\n",
       "      <td>Englewood</td>\n",
       "      <td>40.8955358</td>\n",
       "      <td>-73.9798118</td>\n",
       "    </tr>\n",
       "    <tr>\n",
       "      <th>32</th>\n",
       "      <td>This place gets crazy! This place is spacious ...</td>\n",
       "      <td>4</td>\n",
       "      <td>Dulce de Leche Bakery</td>\n",
       "      <td>4.7</td>\n",
       "      <td>55 W Palisade Ave</td>\n",
       "      <td>Englewood</td>\n",
       "      <td>40.8955358</td>\n",
       "      <td>-73.9798118</td>\n",
       "    </tr>\n",
       "    <tr>\n",
       "      <th>33</th>\n",
       "      <td>The cake was beautiful and delicious! Perfect ...</td>\n",
       "      <td>5</td>\n",
       "      <td>Dulce de Leche Bakery</td>\n",
       "      <td>4.7</td>\n",
       "      <td>55 W Palisade Ave</td>\n",
       "      <td>Englewood</td>\n",
       "      <td>40.8955358</td>\n",
       "      <td>-73.9798118</td>\n",
       "    </tr>\n",
       "    <tr>\n",
       "      <th>34</th>\n",
       "      <td>Delicious deserts and baked goods here. I orde...</td>\n",
       "      <td>5</td>\n",
       "      <td>Dulce de Leche Bakery</td>\n",
       "      <td>4.7</td>\n",
       "      <td>55 W Palisade Ave</td>\n",
       "      <td>Englewood</td>\n",
       "      <td>40.8955358</td>\n",
       "      <td>-73.9798118</td>\n",
       "    </tr>\n",
       "    <tr>\n",
       "      <th>35</th>\n",
       "      <td>Legendary Dulce de leche has a branch in engle...</td>\n",
       "      <td>5</td>\n",
       "      <td>Dulce de Leche Bakery</td>\n",
       "      <td>4.7</td>\n",
       "      <td>55 W Palisade Ave</td>\n",
       "      <td>Englewood</td>\n",
       "      <td>40.8955358</td>\n",
       "      <td>-73.9798118</td>\n",
       "    </tr>\n",
       "    <tr>\n",
       "      <th>36</th>\n",
       "      <td>It’s not expensive, but the taste is satisfyin...</td>\n",
       "      <td>3</td>\n",
       "      <td>Dulce de Leche Bakery</td>\n",
       "      <td>4.7</td>\n",
       "      <td>55 W Palisade Ave</td>\n",
       "      <td>Englewood</td>\n",
       "      <td>40.8955358</td>\n",
       "      <td>-73.9798118</td>\n",
       "    </tr>\n",
       "    <tr>\n",
       "      <th>37</th>\n",
       "      <td>Everything I had from here was absolutely deli...</td>\n",
       "      <td>5</td>\n",
       "      <td>Dulce de Leche Bakery</td>\n",
       "      <td>4.7</td>\n",
       "      <td>55 W Palisade Ave</td>\n",
       "      <td>Englewood</td>\n",
       "      <td>40.8955358</td>\n",
       "      <td>-73.9798118</td>\n",
       "    </tr>\n",
       "    <tr>\n",
       "      <th>38</th>\n",
       "      <td>I was impressed by how popular the cafe is on ...</td>\n",
       "      <td>5</td>\n",
       "      <td>Dulce de Leche Bakery</td>\n",
       "      <td>4.7</td>\n",
       "      <td>55 W Palisade Ave</td>\n",
       "      <td>Englewood</td>\n",
       "      <td>40.8955358</td>\n",
       "      <td>-73.9798118</td>\n",
       "    </tr>\n",
       "    <tr>\n",
       "      <th>39</th>\n",
       "      <td>This place is out of control, breakfast for tw...</td>\n",
       "      <td>5</td>\n",
       "      <td>Dulce de Leche Bakery</td>\n",
       "      <td>4.7</td>\n",
       "      <td>55 W Palisade Ave</td>\n",
       "      <td>Englewood</td>\n",
       "      <td>40.8955358</td>\n",
       "      <td>-73.9798118</td>\n",
       "    </tr>\n",
       "    <tr>\n",
       "      <th>40</th>\n",
       "      <td>We are traveling through and stopped for dinne...</td>\n",
       "      <td>4</td>\n",
       "      <td>Olga's Diner</td>\n",
       "      <td>4.3</td>\n",
       "      <td>200 NJ-73</td>\n",
       "      <td>Marlton</td>\n",
       "      <td>39.8985545</td>\n",
       "      <td>-74.9335449</td>\n",
       "    </tr>\n",
       "    <tr>\n",
       "      <th>41</th>\n",
       "      <td>Had never been here before, but went with my w...</td>\n",
       "      <td>5</td>\n",
       "      <td>Olga's Diner</td>\n",
       "      <td>4.3</td>\n",
       "      <td>200 NJ-73</td>\n",
       "      <td>Marlton</td>\n",
       "      <td>39.8985545</td>\n",
       "      <td>-74.9335449</td>\n",
       "    </tr>\n",
       "    <tr>\n",
       "      <th>42</th>\n",
       "      <td>These breakfast tacos were amazing, i really h...</td>\n",
       "      <td>5</td>\n",
       "      <td>Olga's Diner</td>\n",
       "      <td>4.3</td>\n",
       "      <td>200 NJ-73</td>\n",
       "      <td>Marlton</td>\n",
       "      <td>39.8985545</td>\n",
       "      <td>-74.9335449</td>\n",
       "    </tr>\n",
       "    <tr>\n",
       "      <th>43</th>\n",
       "      <td>I was so excited when I saw the cabbage. It’s ...</td>\n",
       "      <td>5</td>\n",
       "      <td>Olga's Diner</td>\n",
       "      <td>4.3</td>\n",
       "      <td>200 NJ-73</td>\n",
       "      <td>Marlton</td>\n",
       "      <td>39.8985545</td>\n",
       "      <td>-74.9335449</td>\n",
       "    </tr>\n",
       "    <tr>\n",
       "      <th>44</th>\n",
       "      <td>Overall a very pleasant experience. The restau...</td>\n",
       "      <td>5</td>\n",
       "      <td>Olga's Diner</td>\n",
       "      <td>4.3</td>\n",
       "      <td>200 NJ-73</td>\n",
       "      <td>Marlton</td>\n",
       "      <td>39.8985545</td>\n",
       "      <td>-74.9335449</td>\n",
       "    </tr>\n",
       "    <tr>\n",
       "      <th>45</th>\n",
       "      <td>Food was fast. Service was adequate. The bacon...</td>\n",
       "      <td>4</td>\n",
       "      <td>Olga's Diner</td>\n",
       "      <td>4.3</td>\n",
       "      <td>200 NJ-73</td>\n",
       "      <td>Marlton</td>\n",
       "      <td>39.8985545</td>\n",
       "      <td>-74.9335449</td>\n",
       "    </tr>\n",
       "    <tr>\n",
       "      <th>46</th>\n",
       "      <td>2024-05-31 Another great breakfast at 3pm. Wif...</td>\n",
       "      <td>5</td>\n",
       "      <td>Olga's Diner</td>\n",
       "      <td>4.3</td>\n",
       "      <td>200 NJ-73</td>\n",
       "      <td>Marlton</td>\n",
       "      <td>39.8985545</td>\n",
       "      <td>-74.9335449</td>\n",
       "    </tr>\n",
       "    <tr>\n",
       "      <th>47</th>\n",
       "      <td>Cream of turkey soup was delicious for starter...</td>\n",
       "      <td>3</td>\n",
       "      <td>Olga's Diner</td>\n",
       "      <td>4.3</td>\n",
       "      <td>200 NJ-73</td>\n",
       "      <td>Marlton</td>\n",
       "      <td>39.8985545</td>\n",
       "      <td>-74.9335449</td>\n",
       "    </tr>\n",
       "    <tr>\n",
       "      <th>48</th>\n",
       "      <td>Good morning Google Family. I have never visit...</td>\n",
       "      <td>2</td>\n",
       "      <td>Olga's Diner</td>\n",
       "      <td>4.3</td>\n",
       "      <td>200 NJ-73</td>\n",
       "      <td>Marlton</td>\n",
       "      <td>39.8985545</td>\n",
       "      <td>-74.9335449</td>\n",
       "    </tr>\n",
       "    <tr>\n",
       "      <th>49</th>\n",
       "      <td>For dinner we ended up having a slam dunk dinn...</td>\n",
       "      <td>5</td>\n",
       "      <td>Olga's Diner</td>\n",
       "      <td>4.3</td>\n",
       "      <td>200 NJ-73</td>\n",
       "      <td>Marlton</td>\n",
       "      <td>39.8985545</td>\n",
       "      <td>-74.9335449</td>\n",
       "    </tr>\n",
       "  </tbody>\n",
       "</table>\n",
       "</div>"
      ],
      "text/plain": [
       "                                               review rating  \\\n",
       "0   The cakes are beautiful and delicious, but you...      5   \n",
       "1   The entire experience was excellent: well-brew...      5   \n",
       "2   Everything was great.\\n\\nFood, service, and th...      5   \n",
       "3   The soup is amazing. My family likes the Itali...      5   \n",
       "4   Absolutely love Dulce de Leche Bakery in Jerse...      5   \n",
       "5   We had the coconut mousse cake. It was beautif...      3   \n",
       "6   I'd rate the food an impressive 8.3 out of 10 ...      5   \n",
       "7   Embarrasing. They raised the price of the ham,...      1   \n",
       "8   I’ve been going to this bakery in this locatio...      4   \n",
       "9   This bakery offers a delightful atmosphere wit...      4   \n",
       "10  MORE MORE ❤️❤️ You will want more and more of ...      5   \n",
       "11  The food was absolutely delicious. The line wa...      5   \n",
       "12  Looking for somewhat fast ordering food and fo...      5   \n",
       "13  I love dulce de leche bakery a lot. Perfect co...      5   \n",
       "14  They have an extremely huge variety of parties...      2   \n",
       "15  Flies. Flies everywhere. Flies on the croissan...      2   \n",
       "16  Absolutely delicious! The latte was great, the...      5   \n",
       "17  Cheese empanada and spinach danish were both d...      5   \n",
       "18  This place makes great food. Coffee was not go...      2   \n",
       "19  We are from Uruguay and I have to say that the...      5   \n",
       "20  Beautiful & Clean bakery right off Bergenline ...      5   \n",
       "21  Amazing custom Cake in less than 24 hours!!! I...      5   \n",
       "22  Great place for pastries and bakery items. Mos...      5   \n",
       "23  excellent attention, sweets and desserts.  100...      5   \n",
       "24  Dulce De Leche Bakery is an amazing place to g...      5   \n",
       "25  Excellent soups, great sandwiches. Staff is re...      5   \n",
       "26  This is the best place for pastries in my opin...      5   \n",
       "27       Amazing custom Cake in less than 24 hours!!!      5   \n",
       "28  this is the factory, please update the name or...      3   \n",
       "29                                            Amazing      5   \n",
       "30  Awesome bakery right in the heart of Englewood...      5   \n",
       "31  Love! Love! Love! My favorite bakery! The cake...      5   \n",
       "32  This place gets crazy! This place is spacious ...      4   \n",
       "33  The cake was beautiful and delicious! Perfect ...      5   \n",
       "34  Delicious deserts and baked goods here. I orde...      5   \n",
       "35  Legendary Dulce de leche has a branch in engle...      5   \n",
       "36  It’s not expensive, but the taste is satisfyin...      3   \n",
       "37  Everything I had from here was absolutely deli...      5   \n",
       "38  I was impressed by how popular the cafe is on ...      5   \n",
       "39  This place is out of control, breakfast for tw...      5   \n",
       "40  We are traveling through and stopped for dinne...      4   \n",
       "41  Had never been here before, but went with my w...      5   \n",
       "42  These breakfast tacos were amazing, i really h...      5   \n",
       "43  I was so excited when I saw the cabbage. It’s ...      5   \n",
       "44  Overall a very pleasant experience. The restau...      5   \n",
       "45  Food was fast. Service was adequate. The bacon...      4   \n",
       "46  2024-05-31 Another great breakfast at 3pm. Wif...      5   \n",
       "47  Cream of turkey soup was delicious for starter...      3   \n",
       "48  Good morning Google Family. I have never visit...      2   \n",
       "49  For dinner we ended up having a slam dunk dinn...      5   \n",
       "\n",
       "                   bus_id avg_rating              bus_add        bus_city  \\\n",
       "0   Dulce De Leche Bakery        4.7      376 Central Ave     Jersey City   \n",
       "1   Dulce De Leche Bakery        4.7      376 Central Ave     Jersey City   \n",
       "2   Dulce De Leche Bakery        4.7      376 Central Ave     Jersey City   \n",
       "3   Dulce De Leche Bakery        4.7      376 Central Ave     Jersey City   \n",
       "4   Dulce De Leche Bakery        4.7      376 Central Ave     Jersey City   \n",
       "5   Dulce De Leche Bakery        4.7      376 Central Ave     Jersey City   \n",
       "6   Dulce De Leche Bakery        4.7      376 Central Ave     Jersey City   \n",
       "7   Dulce De Leche Bakery        4.7      376 Central Ave     Jersey City   \n",
       "8   Dulce De Leche Bakery        4.7      376 Central Ave     Jersey City   \n",
       "9   Dulce De Leche Bakery        4.7      376 Central Ave     Jersey City   \n",
       "10  Dulce De Leche Bakery        4.6  6510 Bergenline Ave   West New York   \n",
       "11  Dulce De Leche Bakery        4.6  6510 Bergenline Ave   West New York   \n",
       "12  Dulce De Leche Bakery        4.6  6510 Bergenline Ave   West New York   \n",
       "13  Dulce De Leche Bakery        4.6  6510 Bergenline Ave   West New York   \n",
       "14  Dulce De Leche Bakery        4.6  6510 Bergenline Ave   West New York   \n",
       "15  Dulce De Leche Bakery        4.6  6510 Bergenline Ave   West New York   \n",
       "16  Dulce De Leche Bakery        4.6  6510 Bergenline Ave   West New York   \n",
       "17  Dulce De Leche Bakery        4.6  6510 Bergenline Ave   West New York   \n",
       "18  Dulce De Leche Bakery        4.6  6510 Bergenline Ave   West New York   \n",
       "19  Dulce De Leche Bakery        4.6  6510 Bergenline Ave   West New York   \n",
       "20  Dulce De Leche Bakery        4.8  7001 Adams St #1805      Guttenberg   \n",
       "21  Dulce De Leche Bakery        4.8  7001 Adams St #1805      Guttenberg   \n",
       "22  Dulce De Leche Bakery        4.8  7001 Adams St #1805      Guttenberg   \n",
       "23  Dulce De Leche Bakery        4.8  7001 Adams St #1805      Guttenberg   \n",
       "24  Dulce De Leche Bakery        4.8  7001 Adams St #1805      Guttenberg   \n",
       "25  Dulce De Leche Bakery        4.8  7001 Adams St #1805      Guttenberg   \n",
       "26  Dulce De Leche Bakery        4.8  7001 Adams St #1805      Guttenberg   \n",
       "27  Dulce De Leche Bakery        4.8  7001 Adams St #1805      Guttenberg   \n",
       "28  Dulce De Leche Bakery        4.8  7001 Adams St #1805      Guttenberg   \n",
       "29  Dulce De Leche Bakery        4.8  7001 Adams St #1805      Guttenberg   \n",
       "30  Dulce de Leche Bakery        4.7    55 W Palisade Ave       Englewood   \n",
       "31  Dulce de Leche Bakery        4.7    55 W Palisade Ave       Englewood   \n",
       "32  Dulce de Leche Bakery        4.7    55 W Palisade Ave       Englewood   \n",
       "33  Dulce de Leche Bakery        4.7    55 W Palisade Ave       Englewood   \n",
       "34  Dulce de Leche Bakery        4.7    55 W Palisade Ave       Englewood   \n",
       "35  Dulce de Leche Bakery        4.7    55 W Palisade Ave       Englewood   \n",
       "36  Dulce de Leche Bakery        4.7    55 W Palisade Ave       Englewood   \n",
       "37  Dulce de Leche Bakery        4.7    55 W Palisade Ave       Englewood   \n",
       "38  Dulce de Leche Bakery        4.7    55 W Palisade Ave       Englewood   \n",
       "39  Dulce de Leche Bakery        4.7    55 W Palisade Ave       Englewood   \n",
       "40           Olga's Diner        4.3            200 NJ-73         Marlton   \n",
       "41           Olga's Diner        4.3            200 NJ-73         Marlton   \n",
       "42           Olga's Diner        4.3            200 NJ-73         Marlton   \n",
       "43           Olga's Diner        4.3            200 NJ-73         Marlton   \n",
       "44           Olga's Diner        4.3            200 NJ-73         Marlton   \n",
       "45           Olga's Diner        4.3            200 NJ-73         Marlton   \n",
       "46           Olga's Diner        4.3            200 NJ-73         Marlton   \n",
       "47           Olga's Diner        4.3            200 NJ-73         Marlton   \n",
       "48           Olga's Diner        4.3            200 NJ-73         Marlton   \n",
       "49           Olga's Diner        4.3            200 NJ-73         Marlton   \n",
       "\n",
       "           lat          lon  \n",
       "0   40.7476428  -74.0527625  \n",
       "1   40.7476428  -74.0527625  \n",
       "2   40.7476428  -74.0527625  \n",
       "3   40.7476428  -74.0527625  \n",
       "4   40.7476428  -74.0527625  \n",
       "5   40.7476428  -74.0527625  \n",
       "6   40.7476428  -74.0527625  \n",
       "7   40.7476428  -74.0527625  \n",
       "8   40.7476428  -74.0527625  \n",
       "9   40.7476428  -74.0527625  \n",
       "10  40.7933982   -74.015315  \n",
       "11  40.7933982   -74.015315  \n",
       "12  40.7933982   -74.015315  \n",
       "13  40.7933982   -74.015315  \n",
       "14  40.7933982   -74.015315  \n",
       "15  40.7933982   -74.015315  \n",
       "16  40.7933982   -74.015315  \n",
       "17  40.7933982   -74.015315  \n",
       "18  40.7933982   -74.015315  \n",
       "19  40.7933982   -74.015315  \n",
       "20  40.7978647  -74.0166515  \n",
       "21  40.7978647  -74.0166515  \n",
       "22  40.7978647  -74.0166515  \n",
       "23  40.7978647  -74.0166515  \n",
       "24  40.7978647  -74.0166515  \n",
       "25  40.7978647  -74.0166515  \n",
       "26  40.7978647  -74.0166515  \n",
       "27  40.7978647  -74.0166515  \n",
       "28  40.7978647  -74.0166515  \n",
       "29  40.7978647  -74.0166515  \n",
       "30  40.8955358  -73.9798118  \n",
       "31  40.8955358  -73.9798118  \n",
       "32  40.8955358  -73.9798118  \n",
       "33  40.8955358  -73.9798118  \n",
       "34  40.8955358  -73.9798118  \n",
       "35  40.8955358  -73.9798118  \n",
       "36  40.8955358  -73.9798118  \n",
       "37  40.8955358  -73.9798118  \n",
       "38  40.8955358  -73.9798118  \n",
       "39  40.8955358  -73.9798118  \n",
       "40  39.8985545  -74.9335449  \n",
       "41  39.8985545  -74.9335449  \n",
       "42  39.8985545  -74.9335449  \n",
       "43  39.8985545  -74.9335449  \n",
       "44  39.8985545  -74.9335449  \n",
       "45  39.8985545  -74.9335449  \n",
       "46  39.8985545  -74.9335449  \n",
       "47  39.8985545  -74.9335449  \n",
       "48  39.8985545  -74.9335449  \n",
       "49  39.8985545  -74.9335449  "
      ]
     },
     "execution_count": 3,
     "metadata": {},
     "output_type": "execute_result"
    }
   ],
   "source": [
    "# define a function to create df with the business name, avg rating and address of each location\n",
    "def business_Overview(business_name,avg_rating,address1,lat,long,df):\n",
    "    df['bus_id'] = business_name\n",
    "    df['avg_rating'] = avg_rating\n",
    "    address_list = address1.split(',')\n",
    "    df['bus_add'] = address_list[0]\n",
    "    df['bus_city'] = address_list[1]\n",
    "    df['lat'] = lat\n",
    "    df['lon'] = long\n",
    "    return df\n",
    "\n",
    "# import business df with Google Maps url for web scrapping\n",
    "url_df = pd.read_csv('Resources/business_urls.csv')\n",
    "\n",
    "\n",
    "# create list of urls and lat/long for web scrapping step \n",
    "url = url_df['url'].tolist()\n",
    "lat = url_df['lat'].astype(str).tolist()\n",
    "long = url_df['long'].astype(str).tolist()\n",
    "#url = ['https://www.google.com/maps/place/Victoria+and+Albert+Museum/@51.4966392,-0.17218,15z/data=!4m5!3m4!1s0x0:0x9eb7094dfdcd651f!8m2!3d51.4966392!4d-0.17218']\n",
    "\n",
    "# initiate driver\n",
    "driver = webdriver.Chrome(service = ChromeService(ChromeDriverManager().install()))\n",
    "\n",
    "#create for loop to parse through the different locations in the url list above\n",
    "c = 0\n",
    "df_list = []\n",
    "\n",
    "for i in range(0,len(url)):\n",
    "    c += 1\n",
    "    driver.get(url[i])\n",
    "    time.sleep(5)\n",
    "\n",
    "    # get parameters needed for business overview function\n",
    "    response = BeautifulSoup(driver.page_source, 'html.parser')\n",
    "    business_name = response.find('h1',class_='DUwDvf lfPIob').text\n",
    "    avg_rating = response.find('div',class_='fontDisplayLarge').text\n",
    "    address = response.find('div',class_= 'rogA2c').text\n",
    "    lat_ = lat[i]\n",
    "    long_ = long[i]\n",
    "    \n",
    "    # navigate to Reviews tab\n",
    "    driver.find_element(By.CLASS_NAME, \"RWPxGd\").click()\n",
    "    time.sleep(3)\n",
    "\n",
    "    #Find the total number of reviews\n",
    "    total_number_of_reviews = driver.find_element('xpath','//*[@id=\"QA0Szd\"]/div/div/div[1]/div[2]/div/div[1]/div/div/div[2]/div[2]/div/div[2]/div[3]').text.split(\" \")[0]\n",
    "    total_number_of_reviews = int(total_number_of_reviews.replace(',','')) if ',' in total_number_of_reviews else int(total_number_of_reviews)\n",
    "\n",
    "    total_number_of_reviews = 10\n",
    "\n",
    "    #Find scroll layout\n",
    "    scrollable_div = driver.find_element('xpath','//*[@id=\"QA0Szd\"]/div/div/div[1]/div[2]/div/div[1]/div/div/div[2]')\n",
    "\n",
    "    #Scroll as many times as necessary to load all reviews - 10 reviews shown at a time\n",
    "    for i in range(0,(round(total_number_of_reviews/10 - 1))):\n",
    "        driver.execute_script('arguments[0].scrollTop = arguments[0].scrollHeight', scrollable_div)\n",
    "        time.sleep(1)\n",
    "\n",
    "    # #parse HTML and Data Extraction\n",
    "    # response = BeautifulSoup(driver.page_source, 'html.parser')\n",
    "    # reviews = response.find_all('div', class_= 'm6QErb DxyBCb kA9KIf dS8AEf XiKgde')\n",
    "\n",
    "    # loop over the number of reviews \n",
    "    next_item = driver.find_elements('xpath','//*[@id=\"QA0Szd\"]/div/div/div[1]/div[2]/div/div[1]/div/div/div[2]/div[9]/div[1]/div/div')\n",
    "    time.sleep(3)\n",
    "\n",
    "    #expand review by click on 'more' button\n",
    "    for i in next_item:\n",
    "        button = i.find_elements(By.TAG_NAME,'button')\n",
    "        for m in button:\n",
    "            if m.text == \"More\":\n",
    "                m.click()\n",
    "        time.sleep(5)\n",
    "\n",
    "    # parse through the HTML \n",
    "    response = BeautifulSoup(driver.page_source, 'html.parser')\n",
    "    reviews = response.find_all('div',class_ = 'jftiEf')\n",
    "\n",
    "    # define function to gather relevant data from the reviews result set obtained by parsing through HTML\n",
    "    def get_review_summary(result_set):\n",
    "            rev_dict = {\n",
    "                'review' : [],\n",
    "                'rating' : []}\n",
    "\n",
    "            for result in result_set:\n",
    "                #review_name = result.find(class_='d4r55').text\n",
    "                review_text = result.find('span',class_='wiI7pd').text\n",
    "                review_rating = result.find(class_='kvMYJc')['aria-label']\n",
    "                review_rating = review_rating[0]\n",
    "                rev_dict['review'].append(review_text)\n",
    "                rev_dict['rating'].append(review_rating)\n",
    "            \n",
    "            import pandas as pd\n",
    "            return(pd.DataFrame(rev_dict))\n",
    "    \n",
    "    # gather relevant data using newly created function above \n",
    "    summary_df = get_review_summary(reviews)\n",
    "\n",
    "    # access the number of locations in the url list\n",
    "    df = business_Overview(business_name,avg_rating,address,lat_,long_,summary_df)\n",
    "\n",
    "    # append df to df list \n",
    "    df_list.append(df)\n",
    "\n",
    "\n",
    "#concat list of data frames into one \n",
    "final_df = pd.concat(df_list, ignore_index=True)\n",
    "final_df\n"
   ]
  },
  {
   "cell_type": "markdown",
   "metadata": {},
   "source": [
    "*End Code Space*"
   ]
  },
  {
   "cell_type": "markdown",
   "metadata": {},
   "source": [
    "# **Odele's Code Space**"
   ]
  },
  {
   "cell_type": "code",
   "execution_count": null,
   "metadata": {},
   "outputs": [],
   "source": []
  },
  {
   "cell_type": "markdown",
   "metadata": {},
   "source": [
    "*End Code Space*"
   ]
  },
  {
   "cell_type": "markdown",
   "metadata": {},
   "source": [
    "# **Vanessa's Code Space**"
   ]
  },
  {
   "cell_type": "code",
   "execution_count": null,
   "metadata": {},
   "outputs": [],
   "source": []
  },
  {
   "cell_type": "markdown",
   "metadata": {},
   "source": [
    "*End Code Space*"
   ]
  },
  {
   "cell_type": "markdown",
   "metadata": {},
   "source": [
    "# **Train Test Splitting**"
   ]
  },
  {
   "cell_type": "code",
   "execution_count": null,
   "metadata": {},
   "outputs": [],
   "source": []
  },
  {
   "cell_type": "markdown",
   "metadata": {},
   "source": [
    "# **Scaling and Encoding**"
   ]
  },
  {
   "cell_type": "code",
   "execution_count": null,
   "metadata": {},
   "outputs": [],
   "source": []
  },
  {
   "cell_type": "markdown",
   "metadata": {},
   "source": [
    "# **Modeling**"
   ]
  },
  {
   "cell_type": "code",
   "execution_count": null,
   "metadata": {},
   "outputs": [],
   "source": []
  },
  {
   "cell_type": "markdown",
   "metadata": {},
   "source": [
    "# **Application (?)**"
   ]
  },
  {
   "cell_type": "code",
   "execution_count": null,
   "metadata": {},
   "outputs": [],
   "source": []
  },
  {
   "cell_type": "markdown",
   "metadata": {},
   "source": [
    "# **Findings**"
   ]
  },
  {
   "cell_type": "markdown",
   "metadata": {},
   "source": [
    "# **Citations and Licenses**"
   ]
  },
  {
   "cell_type": "markdown",
   "metadata": {},
   "source": [
    "## Citations"
   ]
  },
  {
   "cell_type": "markdown",
   "metadata": {},
   "source": [
    "## Licenses"
   ]
  },
  {
   "cell_type": "markdown",
   "metadata": {},
   "source": []
  }
 ],
 "metadata": {
  "kernelspec": {
   "display_name": "base",
   "language": "python",
   "name": "python3"
  },
  "language_info": {
   "codemirror_mode": {
    "name": "ipython",
    "version": 3
   },
   "file_extension": ".py",
   "mimetype": "text/x-python",
   "name": "python",
   "nbconvert_exporter": "python",
   "pygments_lexer": "ipython3",
   "version": "3.11.7"
  }
 },
 "nbformat": 4,
 "nbformat_minor": 4
}

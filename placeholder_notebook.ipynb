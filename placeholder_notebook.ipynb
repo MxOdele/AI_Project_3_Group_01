<<<<<<< HEAD
{
 "cells": [
  {
   "cell_type": "markdown",
   "metadata": {},
   "source": [
    "# **Project Title**\n",
    "#### *Project Subtitle*"
   ]
  },
  {
   "cell_type": "markdown",
   "metadata": {},
   "source": [
    "## Hypothesis;\n",
    "\n",
    "Project thesis"
   ]
  },
  {
   "cell_type": "code",
   "execution_count": null,
   "metadata": {},
   "outputs": [],
   "source": [
    "# Importing dependencies\n",
    "import pandas as pd"
   ]
  },
  {
   "cell_type": "markdown",
   "metadata": {},
   "source": [
    "# **Data**"
   ]
  },
  {
   "cell_type": "markdown",
   "metadata": {},
   "source": [
    "## Dataset"
   ]
  },
  {
   "cell_type": "markdown",
   "metadata": {},
   "source": [
    "Dataset details"
   ]
  },
  {
   "cell_type": "code",
   "execution_count": null,
   "metadata": {},
   "outputs": [],
   "source": [
    "# Reading in data\n",
    "# (potentially?)"
   ]
  },
  {
   "cell_type": "markdown",
   "metadata": {},
   "source": [
    "### EDA"
   ]
  },
  {
   "cell_type": "code",
   "execution_count": null,
   "metadata": {},
   "outputs": [],
   "source": [
    "# Beginning EDA"
   ]
  },
  {
   "cell_type": "markdown",
   "metadata": {},
   "source": [
    "# **Ramona's Code Space**"
   ]
  },
  {
   "cell_type": "code",
   "execution_count": null,
   "metadata": {},
   "outputs": [],
   "source": []
  },
  {
   "cell_type": "markdown",
   "metadata": {},
   "source": [
    "*End Code Space*"
   ]
  },
  {
   "cell_type": "markdown",
   "metadata": {},
   "source": [
    "# **Christian's Code Space**"
   ]
  },
  {
   "cell_type": "markdown",
   "metadata": {},
   "source": [
    "### Dependencies"
   ]
  },
  {
   "cell_type": "code",
   "execution_count": null,
   "metadata": {},
   "outputs": [],
   "source": [
    "# Installing necessary libraries (uncomment if needed)\n",
    "# %pip install gdown --quiet\n",
    "# ! pip install evaluate --quiet"
   ]
  },
  {
   "cell_type": "code",
   "execution_count": 27,
   "metadata": {},
   "outputs": [],
   "source": [
    "# Imports and dependencies\n",
    "import os\n",
    "import re\n",
    "import numpy as np\n",
    "import scipy as sp\n",
    "import pandas as pd\n",
    "import matplotlib.pyplot as plt\n",
    "import seaborn as sns\n",
    "\n",
    "# json\n",
    "import json\n",
    "\n",
    "# gdown\n",
    "import gdown\n",
    "\n",
    "# zipfile\n",
    "import zipfile\n",
    "\n",
    "from tqdm import tqdm\n",
    "import unicodedata\n",
    "\n",
    "import torch\n",
    "from datasets import load_metric\n",
    "\n",
    "import nltk\n",
    "from nltk.corpus import stopwords\n",
    "from nltk.tokenize import word_tokenize\n",
    "\n",
    "from sklearn.model_selection import train_test_split\n",
    "\n",
    "import transformers\n",
    "from transformers import DistilBertForSequenceClassification, DistilBertTokenizer\n",
    "from transformers import AutoTokenizer\n",
    "from transformers import DataCollatorWithPadding\n",
    "from transformers import AutoModelForSequenceClassification\n",
    "from transformers import TrainingArguments,Trainer\n",
    "from transformers import pipeline\n",
    "\n",
    "from huggingface_hub import notebook_login\n",
    "\n",
    "#import accelerate\n",
    "\n",
    "from datasets import Dataset\n",
    "\n",
    "#from evaluate import load"
   ]
  },
  {
   "cell_type": "markdown",
   "metadata": {},
   "source": [
    "#### Resources path"
   ]
  },
  {
   "cell_type": "code",
   "execution_count": null,
   "metadata": {},
   "outputs": [],
   "source": [
    "# Defining a function to access datasets through `gdown`\n",
    "def fetch_data(set):\n",
    "    # Declaring `url` and `output` for dataset\n",
    "    match set:\n",
    "        case 'business':\n",
    "            url = 'https://drive.google.com/file/d/1t-_rOjZ8oMqPcMJunVaMgY3OEbhnuSCv/view?usp=sharing'\n",
    "            output = 'Resources/business_dataset.csv'\n",
    "        case 'checkin':\n",
    "            url = 'https://drive.google.com/file/d/1_AVWp31ymfvf4QgTiMN_WLAeapfr0omf/view?usp=sharing'\n",
    "            output = 'Resources/checkin_dataset.csv'\n",
    "        case 'reviews':\n",
    "            url = 'https://drive.google.com/file/d/1L8rFjhOQyU90Ycr9t_OLA70vCYM0e7ck/view?usp=sharing'\n",
    "            output = 'Resources/reviews_dataset.csv'\n",
    "        case 'tip':\n",
    "            url = 'https://drive.google.com/file/d/1LMkCi5AFC_58_m7ELmn1hR8YDykuXwqq/view?usp=sharing'\n",
    "            output = 'Resources/tip_dataset.csv'\n",
    "        case 'user':\n",
    "            url = 'https://drive.google.com/file/d/1kQ522qcod7AjD5DO9vj8qFcSKxwJCDrO/view?usp=sharing'\n",
    "            output = 'Resources/user_dataset.csv'\n",
    "        case _:\n",
    "            print('Invalid dataset selected, please try again')\n",
    "            return None\n",
    "    \n",
    "    # Downloading dataset\n",
    "    gdown.download(url, output, fuzzy=True, quiet=True)\n",
    "\n",
    "    # Reading in the dataset\n",
    "    df = pd.read_csv(output, low_memory=False)\n",
    "\n",
    "    # Returning the dataset\n",
    "    return df"
   ]
  },
  {
   "cell_type": "markdown",
   "metadata": {},
   "source": [
    "Fetching/reading in all datasets"
   ]
  },
  {
   "cell_type": "code",
   "execution_count": null,
   "metadata": {},
   "outputs": [],
   "source": [
    "# Fetching all datasets (uncomment for first run of code)\n",
    "# business_df = fetch_data('business')\n",
    "# checkin_df = fetch_data('checkin')\n",
    "# reviews_df = fetch_data('reviews')\n",
    "# tips_df = fetch_data('tip')\n",
    "# user_df = fetch_data('user')\n",
    "\n",
    "# Reading in all datasets (uncomment if data already fetched)\n",
    "business_df = pd.read_csv('./Resources/business_dataset.csv')\n",
    "checkin_df = pd.read_csv('./Resources/checkin_dataset.csv')\n",
    "reviews_df = pd.read_csv('./Resources/reviews_dataset.csv')\n",
    "tips_df = pd.read_csv('./Resources/tip_dataset.csv')\n",
    "user_df = pd.read_csv('./Resources/user_dataset.csv')"
   ]
  },
  {
   "cell_type": "markdown",
   "metadata": {},
   "source": [
    "---"
   ]
  },
  {
   "cell_type": "markdown",
   "metadata": {},
   "source": [
    "#### Business dataset"
   ]
  },
  {
   "cell_type": "markdown",
   "metadata": {},
   "source": [
    "#### <font color='blue'> Description:</font> \n",
    "**Contains business data including location data, attributes, and categories.**"
   ]
  },
  {
   "cell_type": "markdown",
   "metadata": {},
   "source": [
    "#### Overview"
   ]
  },
  {
   "cell_type": "code",
   "execution_count": null,
   "metadata": {},
   "outputs": [],
   "source": [
    "business_df.head()"
   ]
  },
  {
   "cell_type": "markdown",
   "metadata": {},
   "source": [
    "#### Info"
   ]
  },
  {
   "cell_type": "code",
   "execution_count": null,
   "metadata": {},
   "outputs": [],
   "source": [
    "business_df.info()"
   ]
  },
  {
   "cell_type": "markdown",
   "metadata": {},
   "source": [
    "---"
   ]
  },
  {
   "cell_type": "markdown",
   "metadata": {},
   "source": [
    "#### Checkin dataset"
   ]
  },
  {
   "cell_type": "markdown",
   "metadata": {},
   "source": [
    "#### <font color='blue'> Description:</font>\n",
    "**Checkins on a business.**"
   ]
  },
  {
   "cell_type": "markdown",
   "metadata": {},
   "source": [
    "#### Overview"
   ]
  },
  {
   "cell_type": "code",
   "execution_count": null,
   "metadata": {},
   "outputs": [],
   "source": [
    "checkin_df.head()"
   ]
  },
  {
   "cell_type": "markdown",
   "metadata": {},
   "source": [
    "#### Info"
   ]
  },
  {
   "cell_type": "code",
   "execution_count": null,
   "metadata": {},
   "outputs": [],
   "source": [
    "checkin_df.info()"
   ]
  },
  {
   "cell_type": "markdown",
   "metadata": {},
   "source": [
    "#### **<font color='orange'> Notes:</font>**\n",
    "**The team has determined this dataset would not add any value to our training data.**"
   ]
  },
  {
   "cell_type": "markdown",
   "metadata": {},
   "source": [
    "---"
   ]
  },
  {
   "cell_type": "markdown",
   "metadata": {},
   "source": [
    "#### Reviews dataset"
   ]
  },
  {
   "cell_type": "markdown",
   "metadata": {},
   "source": [
    "#### <font color = 'blue'>Description:</font>\n",
    "**Contains full review text data including the user_id that wrote the review and the business_id the review is written for.**"
   ]
  },
  {
   "cell_type": "markdown",
   "metadata": {},
   "source": [
    "#### Overview"
   ]
  },
  {
   "cell_type": "code",
   "execution_count": null,
   "metadata": {},
   "outputs": [],
   "source": [
    "reviews_df.head()"
   ]
  },
  {
   "cell_type": "markdown",
   "metadata": {},
   "source": [
    "#### Info"
   ]
  },
  {
   "cell_type": "code",
   "execution_count": null,
   "metadata": {},
   "outputs": [],
   "source": [
    "reviews_df.info()"
   ]
  },
  {
   "cell_type": "markdown",
   "metadata": {},
   "source": [
    "#### Na count"
   ]
  },
  {
   "cell_type": "code",
   "execution_count": null,
   "metadata": {},
   "outputs": [],
   "source": [
    "reviews_df.isna().sum()"
   ]
  },
  {
   "cell_type": "markdown",
   "metadata": {},
   "source": [
    "#### Dropping columns:\n",
    "- **review_id**\n",
    "- **useful**\n",
    "- **funny**\n",
    "- **cool**"
   ]
  },
  {
   "cell_type": "code",
   "execution_count": null,
   "metadata": {},
   "outputs": [],
   "source": [
    "reviews_df.drop(columns = ['review_id','useful','funny','cool'],\n",
    "                inplace = True)"
   ]
  },
  {
   "cell_type": "markdown",
   "metadata": {},
   "source": [
    "#### Renaming the 'text' field to 'review'"
   ]
  },
  {
   "cell_type": "code",
   "execution_count": null,
   "metadata": {},
   "outputs": [],
   "source": [
    "reviews_df.rename(columns = {'text':'review'},inplace = True)\n",
    "reviews_df.head()"
   ]
  },
  {
   "cell_type": "markdown",
   "metadata": {},
   "source": [
    "#### **<font color='orange'> Notes:</font>**\n",
    "- **review_id: Eliminated due to low informational value.**\n",
    "- **useful: Eliminated due to low relevance.**\n",
    "- **funny: Eliminated due to low relevance.**\n",
    "- **cool: Eliminated due to low relevance.**\n",
    "\n",
    "  **The *<font color='green'>'business_id'</font>* feature will be used as the identifier, *<font color='green'>'stars'</font>* is the rating metric and the *<font color='grey'>'review'</font>*  field encapsulates**<br>\n",
    "  **the data to be processed. the *<font color='green'>'date'</font>* variable is in place if time series analysis is needed.**"
   ]
  },
  {
   "cell_type": "markdown",
   "metadata": {},
   "source": [
    "---"
   ]
  },
  {
   "cell_type": "markdown",
   "metadata": {},
   "source": [
    "#### Tips dataset"
   ]
  },
  {
   "cell_type": "markdown",
   "metadata": {},
   "source": [
    "#### <font color='blue'>Description:</font>\n",
    "**Tips written by a user on a business. Tips are shorter than reviews and tend to convey quick suggestions.**"
   ]
  },
  {
   "cell_type": "markdown",
   "metadata": {},
   "source": [
    "#### Overview"
   ]
  },
  {
   "cell_type": "code",
   "execution_count": null,
   "metadata": {},
   "outputs": [],
   "source": [
    "tips_df.head()"
   ]
  },
  {
   "cell_type": "markdown",
   "metadata": {},
   "source": [
    "#### Info"
   ]
  },
  {
   "cell_type": "code",
   "execution_count": null,
   "metadata": {},
   "outputs": [],
   "source": [
    "tips_df.info()"
   ]
  },
  {
   "cell_type": "markdown",
   "metadata": {},
   "source": [
    "#### Dropping columns:\n",
    "- **compliment_count**"
   ]
  },
  {
   "cell_type": "code",
   "execution_count": null,
   "metadata": {},
   "outputs": [],
   "source": [
    "tips_df.drop(columns = ['compliment_count'],\n",
    "             inplace =True)"
   ]
  },
  {
   "cell_type": "markdown",
   "metadata": {},
   "source": [
    "#### Renaming the 'text' column to 'recommendations'"
   ]
  },
  {
   "cell_type": "code",
   "execution_count": null,
   "metadata": {},
   "outputs": [],
   "source": [
    "tips_df.rename(columns = {'text':'recommendations'},inplace = True)\n",
    "tips_df.head()"
   ]
  },
  {
   "cell_type": "markdown",
   "metadata": {},
   "source": [
    "#### **<font color='orange'> Notes:</font>**\n",
    "- **compliment_count: Eliminated due to low informational value.**\n",
    "\n",
    "\n",
    " **Since this data set has recommendations from the user to improve customer experience the 'recommendations' field could be a useful target variable.**"
   ]
  },
  {
   "cell_type": "markdown",
   "metadata": {},
   "source": [
    "---"
   ]
  },
  {
   "cell_type": "markdown",
   "metadata": {},
   "source": [
    "#### User dataset"
   ]
  },
  {
   "cell_type": "markdown",
   "metadata": {},
   "source": [
    "#### <font color = 'blue'>Note:</font>\n",
    "**User data including the user's friend mapping and all the metadata associated with the user.**"
   ]
  },
  {
   "cell_type": "markdown",
   "metadata": {},
   "source": [
    "#### Overview"
   ]
  },
  {
   "cell_type": "code",
   "execution_count": null,
   "metadata": {},
   "outputs": [],
   "source": [
    "user_df.head()"
   ]
  },
  {
   "cell_type": "markdown",
   "metadata": {},
   "source": [
    "#### Info"
   ]
  },
  {
   "cell_type": "code",
   "execution_count": null,
   "metadata": {},
   "outputs": [],
   "source": [
    "user_df.info()"
   ]
  },
  {
   "cell_type": "markdown",
   "metadata": {},
   "source": [
    "#### **<font color='orange'> Notes:</font>**\n",
    "**This data set will not be included in the training data to preserve user anonimity.**"
   ]
  },
  {
   "cell_type": "markdown",
   "metadata": {},
   "source": [
    "# //////////////////////////////////////////////////////////////////////////////////////////////////////////////////////////"
   ]
  },
  {
   "cell_type": "markdown",
   "metadata": {},
   "source": [
    "## **<font color = 'darkgrey'>Merging the reviews data set and the business data set</font>**"
   ]
  },
  {
   "cell_type": "markdown",
   "metadata": {},
   "source": [
    "#### <font color = 'blue'>Description:</font>\n",
    "**This data set contains the fields that will be used to train the model**"
   ]
  },
  {
   "cell_type": "code",
   "execution_count": null,
   "metadata": {},
   "outputs": [],
   "source": [
    "data_df = reviews_df.merge(business_df,how='left',on = 'business_id')"
   ]
  },
  {
   "cell_type": "code",
   "execution_count": null,
   "metadata": {},
   "outputs": [],
   "source": [
    "data_df.info()"
   ]
  },
  {
   "cell_type": "code",
   "execution_count": null,
   "metadata": {},
   "outputs": [],
   "source": [
    "data_df.head()"
   ]
  },
  {
   "cell_type": "markdown",
   "metadata": {},
   "source": [
    "#### Na count"
   ]
  },
  {
   "cell_type": "code",
   "execution_count": null,
   "metadata": {},
   "outputs": [],
   "source": [
    "data_df.isna().sum()"
   ]
  },
  {
   "cell_type": "code",
   "execution_count": null,
   "metadata": {},
   "outputs": [],
   "source": [
    "na_prcnt = data_df[['attributes','categories','hours']].isna().sum()/data_df.shape[0]*100\n",
    "nas_df = pd.DataFrame(na_prcnt, columns=['percentage'])\n",
    "nas_df = nas_df.transpose()\n",
    "nas_df.round(4)"
   ]
  },
  {
   "cell_type": "code",
   "execution_count": null,
   "metadata": {},
   "outputs": [],
   "source": [
    "sns.barplot(data = nas_df).set_title('Na percentage')"
   ]
  },
  {
   "cell_type": "markdown",
   "metadata": {},
   "source": [
    "#### **<font color='orange'> Notes:</font>**\n",
    "**After consulting with the team we decided to drop all three columns.**"
   ]
  },
  {
   "cell_type": "markdown",
   "metadata": {},
   "source": [
    "#### Dropping rows with na values"
   ]
  },
  {
   "cell_type": "code",
   "execution_count": null,
   "metadata": {},
   "outputs": [],
   "source": [
    "data_df.drop(columns = ['attributes','categories','hours'],inplace=True)"
   ]
  },
  {
   "cell_type": "code",
   "execution_count": null,
   "metadata": {},
   "outputs": [],
   "source": [
    "data_df.isna().sum()"
   ]
  },
  {
   "cell_type": "markdown",
   "metadata": {},
   "source": [
    "#### *<font color='grey'>stars_x* and *<font color='grey'>stars_y* comparison"
   ]
  },
  {
   "cell_type": "code",
   "execution_count": null,
   "metadata": {},
   "outputs": [],
   "source": [
    "data_df.loc[data_df['stars_x'] != data_df['stars_y']][['stars_x','stars_y']].head()"
   ]
  },
  {
   "cell_type": "markdown",
   "metadata": {},
   "source": [
    "#### *<font color='grey'>stars_x* and *<font color='grey'>stars_y*  for the same customer"
   ]
  },
  {
   "cell_type": "code",
   "execution_count": null,
   "metadata": {},
   "outputs": [],
   "source": [
    "data_df.loc[data_df['business_id']=='XQfwVwDr-v0ZS3_CbbE5Xw'][['stars_x','stars_y']].head()"
   ]
  },
  {
   "cell_type": "markdown",
   "metadata": {},
   "source": [
    "#### *<font color='grey'>stars_x* average"
   ]
  },
  {
   "cell_type": "code",
   "execution_count": null,
   "metadata": {},
   "outputs": [],
   "source": [
    "round(data_df.loc[data_df['business_id']=='XQfwVwDr-v0ZS3_CbbE5Xw']['stars_x'].mean(),2)"
   ]
  },
  {
   "cell_type": "markdown",
   "metadata": {},
   "source": [
    "#### **<font color='orange'> Notes:</font>**\n",
    "**Because** *<font color='grey'> star_y</font>* **represents the average star rating, renaming** *<font color='grey'> star_y:</font>* **to:** *<font color='grey'> star_avg:</font>*"
   ]
  },
  {
   "cell_type": "markdown",
   "metadata": {},
   "source": [
    "#### Renaming"
   ]
  },
  {
   "cell_type": "code",
   "execution_count": null,
   "metadata": {},
   "outputs": [],
   "source": [
    "data_df.rename(columns={'stars_y':'stars_avg','stars_x':'stars'},inplace = True)"
   ]
  },
  {
   "cell_type": "markdown",
   "metadata": {},
   "source": [
    "#### Dropping is_open feature"
   ]
  },
  {
   "cell_type": "code",
   "execution_count": null,
   "metadata": {},
   "outputs": [],
   "source": [
    "fig,ax = plt.subplots()\n",
    "sns.countplot(data_df,\n",
    "             x='is_open',\n",
    "             hue = 'is_open',\n",
    "             ax = ax).set_title('is_open Feature')"
   ]
  },
  {
   "cell_type": "markdown",
   "metadata": {},
   "source": [
    "#### droppin is_open"
   ]
  },
  {
   "cell_type": "code",
   "execution_count": null,
   "metadata": {},
   "outputs": [],
   "source": [
    "data_df.drop(columns = ['is_open'],inplace = True)"
   ]
  },
  {
   "cell_type": "markdown",
   "metadata": {},
   "source": [
    "#### **<font color='orange'> Notes:</font>**\n",
    "**After cosulting with the team we decided to drop this feature due low informational value and feature imbalance**"
   ]
  },
  {
   "cell_type": "markdown",
   "metadata": {},
   "source": [
    "# //////////////////////////////////////////////////////////////////////////////////////////////////"
   ]
  },
  {
   "cell_type": "markdown",
   "metadata": {},
   "source": [
    "## **<font color='darkgrey'>Merging with the tips data set exploration</font>**"
   ]
  },
  {
   "cell_type": "markdown",
   "metadata": {},
   "source": [
    "#### <font color = 'blue'>Description:</font>\n",
    "**Contains customer recommendatins to improve experience**"
   ]
  },
  {
   "cell_type": "code",
   "execution_count": null,
   "metadata": {},
   "outputs": [],
   "source": [
    "tips_df.head()"
   ]
  },
  {
   "cell_type": "code",
   "execution_count": null,
   "metadata": {},
   "outputs": [],
   "source": [
    "tips_df.info()"
   ]
  },
  {
   "cell_type": "markdown",
   "metadata": {},
   "source": [
    "#### Quantity of unique business_id in the tips data set"
   ]
  },
  {
   "cell_type": "code",
   "execution_count": null,
   "metadata": {},
   "outputs": [],
   "source": [
    "display(tips_df['business_id'].unique().shape[0])"
   ]
  },
  {
   "cell_type": "markdown",
   "metadata": {},
   "source": [
    "#### Quantity of unique business_id in  data_df"
   ]
  },
  {
   "cell_type": "code",
   "execution_count": null,
   "metadata": {},
   "outputs": [],
   "source": [
    "data_df['business_id'].unique().shape[0]"
   ]
  },
  {
   "cell_type": "markdown",
   "metadata": {},
   "source": [
    "#### Subset of *<font color='grey'>business_id</font>* in *<font color='grey'>data_df</font>* not found in *<font color='grey'>tips_df</font>*."
   ]
  },
  {
   "cell_type": "code",
   "execution_count": null,
   "metadata": {},
   "outputs": [],
   "source": [
    "no_tips_df = data_df[~data_df['business_id'].isin(tips_df['business_id'])]\n",
    "no_tips_df.head()"
   ]
  },
  {
   "cell_type": "markdown",
   "metadata": {},
   "source": [
    "#### Number of *<font color='grey'>business_id</font>* in *<font color='grey'>data_df</font>* not found in *<font color='grey'>tips_df</font>*."
   ]
  },
  {
   "cell_type": "code",
   "execution_count": null,
   "metadata": {},
   "outputs": [],
   "source": [
    "no_tips_df = data_df[~data_df['business_id'].isin(tips_df['business_id'])]\n",
    "not_found = no_tips_df['business_id'].unique().shape[0]\n",
    "print(f'Number of business_ids in tips_df not found in data_df: {not_found}')"
   ]
  },
  {
   "cell_type": "markdown",
   "metadata": {},
   "source": [
    "#### Evidence"
   ]
  },
  {
   "cell_type": "code",
   "execution_count": null,
   "metadata": {},
   "outputs": [],
   "source": [
    "tips_df.loc[tips_df['business_id'] == no_tips_df['business_id'].iloc[33]]"
   ]
  },
  {
   "cell_type": "markdown",
   "metadata": {},
   "source": [
    "#### Merge"
   ]
  },
  {
   "cell_type": "code",
   "execution_count": null,
   "metadata": {},
   "outputs": [],
   "source": [
    "test_df = pd.merge(tips_df,data_df,\n",
    "                   on = ['business_id','user_id'],\n",
    "                   how = 'inner')\n",
    "                         "
   ]
  },
  {
   "cell_type": "markdown",
   "metadata": {},
   "source": [
    "#### Overview"
   ]
  },
  {
   "cell_type": "code",
   "execution_count": null,
   "metadata": {},
   "outputs": [],
   "source": [
    "test_df.info()"
   ]
  },
  {
   "cell_type": "code",
   "execution_count": null,
   "metadata": {},
   "outputs": [],
   "source": [
    "test_df.head()"
   ]
  },
  {
   "cell_type": "markdown",
   "metadata": {},
   "source": [
    "#### Comparison review vs. recommendations"
   ]
  },
  {
   "cell_type": "code",
   "execution_count": null,
   "metadata": {},
   "outputs": [],
   "source": [
    "test_df[['review','recommendations']].head()"
   ]
  },
  {
   "cell_type": "markdown",
   "metadata": {},
   "source": [
    "##### **<font color='orange'> Notes:</font>**\n",
    "**The <font color='grey'>data_df</font> has approximately <font color='green'>7 million</font> entries and <font color='grey'>tips_df</font> about <font color='green'>1 million</font> after merging them we end up the a little under half a million**.<br>\n",
    "**In the comparison above I don't see a difference between a review from the *reviews data set* and a recommendation from the *tips data set***.<br>\n",
    "**As shown above we stand to loose a significant amount of data if a merge is performed**."
   ]
  },
  {
   "cell_type": "markdown",
   "metadata": {},
   "source": [
    "# ///////////////////////////////////////////////////////////////////////////////////////////////////"
   ]
  },
  {
   "cell_type": "markdown",
   "metadata": {},
   "source": [
    "## <font color='darkgrey'>Final Data Overview</font>"
   ]
  },
  {
   "cell_type": "markdown",
   "metadata": {},
   "source": [
    "#### Dropping the user_id column to preserv user anonimity"
   ]
  },
  {
   "cell_type": "code",
   "execution_count": null,
   "metadata": {},
   "outputs": [],
   "source": [
    "data_df.drop(columns = ['user_id'],inplace = True)"
   ]
  },
  {
   "cell_type": "markdown",
   "metadata": {},
   "source": [
    "#### Overview"
   ]
  },
  {
   "cell_type": "code",
   "execution_count": null,
   "metadata": {},
   "outputs": [],
   "source": [
    "data_df.head()"
   ]
  },
  {
   "cell_type": "markdown",
   "metadata": {},
   "source": [
    "#### Info"
   ]
  },
  {
   "cell_type": "code",
   "execution_count": null,
   "metadata": {},
   "outputs": [],
   "source": [
    "data_df.info()"
   ]
  },
  {
   "cell_type": "markdown",
   "metadata": {},
   "source": [
    "#### Na verification"
   ]
  },
  {
   "cell_type": "code",
   "execution_count": null,
   "metadata": {},
   "outputs": [],
   "source": [
    "data_df.isna().sum()"
   ]
  },
  {
   "cell_type": "markdown",
   "metadata": {},
   "source": [
    "## Modeling"
   ]
  },
  {
   "cell_type": "code",
   "execution_count": null,
   "metadata": {},
   "outputs": [],
   "source": [
    "# Narrowing data to trainable scope\n",
    "def sample_stars(df, val):\n",
    "    df = df[df['stars'] == val].copy()\n",
    "    if val >= 4:\n",
    "        df = df.sample(1000)\n",
    "    elif val <= 2:\n",
    "        df = df.sample(1000)\n",
    "    else:\n",
    "        df = df.sample(2000)\n",
    "    df.reset_index(inplace=True)\n",
    "    return df"
   ]
  },
  {
   "cell_type": "code",
   "execution_count": null,
   "metadata": {},
   "outputs": [],
   "source": [
    "sample_5 = sample_stars(data_df,5)\n",
    "sample_4 = sample_stars(data_df,4)\n",
    "sample_3 = sample_stars(data_df,3)\n",
    "sample_2 = sample_stars(data_df,2)\n",
    "sample_1 = sample_stars(data_df,1)"
   ]
  },
  {
   "cell_type": "code",
   "execution_count": null,
   "metadata": {},
   "outputs": [],
   "source": [
    "sample_data_df = pd.concat(\n",
    "    [\n",
    "        sample_1,\n",
    "        sample_2,\n",
    "        sample_3,\n",
    "        sample_4,\n",
    "        sample_5\n",
    "    ], axis=0, ignore_index=True\n",
    ")\n",
    "\n",
    "sample_data_df.shape"
   ]
  },
  {
   "cell_type": "code",
   "execution_count": null,
   "metadata": {},
   "outputs": [],
   "source": [
    "sample_data_df['stars'].value_counts()"
   ]
  },
  {
   "cell_type": "code",
   "execution_count": null,
   "metadata": {},
   "outputs": [],
   "source": [
    "sample_data_df['stars']= sample_data_df['stars'].replace(to_replace=[1,2], value=0)\n",
    "sample_data_df['stars']= sample_data_df['stars'].replace(to_replace=3, value=1)\n",
    "sample_data_df['stars']= sample_data_df['stars'].replace(to_replace=[4,5], value=2)"
   ]
  },
  {
   "cell_type": "code",
   "execution_count": null,
   "metadata": {},
   "outputs": [],
   "source": [
    "sample_data_df['stars'].value_counts()"
   ]
  },
  {
   "cell_type": "code",
   "execution_count": null,
   "metadata": {},
   "outputs": [],
   "source": [
    "sample_data_df.isna().sum()"
   ]
  },
  {
   "cell_type": "code",
   "execution_count": null,
   "metadata": {},
   "outputs": [],
   "source": [
    "sample_data_df.rename(columns={'review':'text','stars':'label'},inplace = True)"
   ]
  },
  {
   "cell_type": "markdown",
   "metadata": {},
   "source": [
    "Removing accented characters"
   ]
  },
  {
   "cell_type": "code",
   "execution_count": null,
   "metadata": {},
   "outputs": [],
   "source": [
    "def remove_accented_chars(text):\n",
    "  text = unicodedata.normalize('NFKD', text).encode('ascii', 'ignore').decode('utf-8', 'ignore')\n",
    "  return text"
   ]
  },
  {
   "cell_type": "markdown",
   "metadata": {},
   "source": [
    "Cleaning text"
   ]
  },
  {
   "cell_type": "code",
   "execution_count": null,
   "metadata": {},
   "outputs": [],
   "source": [
    "def clean_text(text):\n",
    "    # Remove URLs\n",
    "    text = re.sub(r\"http\\S+\", \"\", text)\n",
    "    # Remove mentions\n",
    "    text = re.sub(r\"@\\S+\", \"\", text)\n",
    "    # Remove hashtags\n",
    "    text = re.sub(r\"#\\S+\", \"\", text)\n",
    "    # Replace multiple spaces with a single space\n",
    "    text = re.sub(r'\\s+', ' ', text).strip()\n",
    "    return text"
   ]
  },
  {
   "cell_type": "markdown",
   "metadata": {},
   "source": [
    "Preprocessing reviews"
   ]
  },
  {
   "cell_type": "code",
   "execution_count": null,
   "metadata": {},
   "outputs": [],
   "source": [
    "def pre_process_reviews(reviews):\n",
    "  stop_words = set(stopwords.words('english'))  \n",
    "  norm_reviews = []\n",
    "  for review in tqdm(reviews):\n",
    "    \n",
    "    # Clean text\n",
    "    review = clean_text(review)\n",
    "    # remove extra newlines and convert them to spaces\n",
    "    review = review.translate(review.maketrans(\"\\n\\t\\r\", \"   \"))\n",
    "    # lower case\n",
    "    review = review.lower()\n",
    "    # remove accents\n",
    "    review = remove_accented_chars(review)\n",
    "    # remove special characters\n",
    "    review = re.sub(r'[^a-zA-Z0-9\\s]', '', review, flags=re.I|re.A)\n",
    "    # remove extra whitespaces\n",
    "    review = re.sub(' +', ' ', review)\n",
    "    # remove leading and training whitespaces\n",
    "    review = review.strip()\n",
    "\n",
    "    review_tokens = word_tokenize(review)\n",
    "    review = [w for w in review_tokens if not w in stop_words]\n",
    "    review = ' '.join(review)\n",
    "      \n",
    "    norm_reviews.append(review)\n",
    "\n",
    "  return norm_reviews"
   ]
  },
  {
   "cell_type": "markdown",
   "metadata": {},
   "source": [
    "Tokenizer function"
   ]
  },
  {
   "cell_type": "code",
   "execution_count": null,
   "metadata": {},
   "outputs": [],
   "source": [
    "def tokenizer_function(review):\n",
    "    # Extracting text\n",
    "    text = review['text']\n",
    "\n",
    "    # Tokenize text with truncation and padding\n",
    "    tokenized_inputs = tokenizer(\n",
    "        text,\n",
    "        # Truncate to max_length from the right by default\n",
    "        truncation=True,\n",
    "        # Pad to the maximum length\n",
    "        padding=\"max_length\",\n",
    "        # Maximum sequence length for BERT models\n",
    "        max_length=512,\n",
    "        # Assuming you are using PyTorch; change to 'np' if necessary\n",
    "        return_tensors='pt'\n",
    "    )\n",
    "\n",
    "    return tokenized_inputs"
   ]
  },
  {
   "cell_type": "markdown",
   "metadata": {},
   "source": [
    "Metrics"
   ]
  },
  {
   "cell_type": "code",
   "execution_count": null,
   "metadata": {},
   "outputs": [],
   "source": [
    "# Load multiple metrics\n",
    "accuracy_metric = load(\"accuracy\")\n",
    "precision_metric = load(\"precision\")\n",
    "recall_metric = load(\"recall\")\n",
    "f1_metric = load(\"f1\")\n",
    "\n",
    "def compute_metrics(pred):\n",
    "    predictions, labels = pred\n",
    "    predictions = np.argmax(predictions, axis=1)\n",
    "    \n",
    "    accuracy = accuracy_metric.compute(predictions=predictions, references=labels)\n",
    "    precision = precision_metric.compute(predictions=predictions, references=labels, average='weighted')\n",
    "    recall = recall_metric.compute(predictions=predictions, references=labels, average='weighted')\n",
    "    f1 = f1_metric.compute(predictions=predictions, references=labels, average='weighted')\n",
    "    \n",
    "    # Return a dictionary containing all metrics\n",
    "    return {\n",
    "        \"accuracy\": accuracy[\"accuracy\"],\n",
    "        \"precision\": precision[\"precision\"],\n",
    "        \"recall\": recall[\"recall\"],\n",
    "        \"f1\": f1[\"f1\"],\n",
    "    }"
   ]
  },
  {
   "cell_type": "markdown",
   "metadata": {},
   "source": [
    "Train Test Split"
   ]
  },
  {
   "cell_type": "code",
   "execution_count": null,
   "metadata": {},
   "outputs": [],
   "source": [
    "X = sample_data_df['text']\n",
    "y = sample_data_df['label']\n",
    "\n",
    "X_train,X_test,y_train,y_test = train_test_split(X,y,test_size = 0.3,random_state=42)"
   ]
  },
  {
   "cell_type": "markdown",
   "metadata": {},
   "source": [
    "Preprocessing"
   ]
  },
  {
   "cell_type": "code",
   "execution_count": null,
   "metadata": {},
   "outputs": [],
   "source": [
    "norm_train_reviews = pre_process_reviews(X_train)\n",
    "norm_test_reviews = pre_process_reviews(X_test)"
   ]
  },
  {
   "cell_type": "markdown",
   "metadata": {},
   "source": [
    "Datasets"
   ]
  },
  {
   "cell_type": "code",
   "execution_count": null,
   "metadata": {},
   "outputs": [],
   "source": [
    "train_dataset = Dataset.from_dict({'label':y_train.to_list(),'text':norm_train_reviews})\n",
    "test_dataset = Dataset.from_dict({'label':y_test.to_list(),'text':norm_test_reviews})"
   ]
  },
  {
   "cell_type": "markdown",
   "metadata": {},
   "source": [
    "Generating Model"
   ]
  },
  {
   "cell_type": "code",
   "execution_count": null,
   "metadata": {},
   "outputs": [],
   "source": [
    "#Pretrained model\n",
    "model_checkpoint = 'distilbert-base-uncased'\n",
    "\n",
    "#Defining label classes\n",
    "id_to_label = {0:'Negative', 1:'Neutral', 2:'Positive'}\n",
    "label_to_id = {'Negative':0, 'Neutral': 1,'Positive':2}\n",
    "\n",
    "#Model definiftion\n",
    "model = DistilBertForSequenceClassification.from_pretrained(\n",
    "    model_checkpoint,\n",
    "    num_labels = 3,\n",
    "    id2label = id_to_label,\n",
    "    label2id =label_to_id \n",
    ")"
   ]
  },
  {
   "cell_type": "markdown",
   "metadata": {},
   "source": [
    "Tokenizing"
   ]
  },
  {
   "cell_type": "code",
   "execution_count": null,
   "metadata": {},
   "outputs": [],
   "source": [
    "tokenizer = DistilBertTokenizer.from_pretrained(model_checkpoint)\n",
    "\n",
    "if tokenizer.pad_token is None:\n",
    "    tokenizer.add_special_tokens({'pad_token': '[PAD]'})\n",
    "    model.resize_token_embeddings(len(tokenizer))\n",
    "\n",
    "tokenized_train_dataset = train_dataset.map(tokenizer_function, batched=True)\n",
    "tokenized_test_dataset = train_dataset.map(tokenizer_function, batched=True)"
   ]
  },
  {
   "cell_type": "markdown",
   "metadata": {},
   "source": [
    "Collator"
   ]
  },
  {
   "cell_type": "code",
   "execution_count": null,
   "metadata": {},
   "outputs": [],
   "source": [
    "data_collator = DataCollatorWithPadding(tokenizer = tokenizer)"
   ]
  },
  {
   "cell_type": "markdown",
   "metadata": {},
   "source": [
    "Training Arguments"
   ]
  },
  {
   "cell_type": "code",
   "execution_count": null,
   "metadata": {},
   "outputs": [],
   "source": [
    "output_dir = 'model_sentiment'\n",
    "lr = 2e-5\n",
    "batch_size = 32\n",
    "EPOCHS = 3\n",
    "\n",
    "\n",
    "training_args = TrainingArguments(\n",
    "    output_dir = output_dir,\n",
    "    learning_rate = lr,\n",
    "    per_device_train_batch_size = batch_size,\n",
    "    per_device_eval_batch_size = batch_size*2,\n",
    "    num_train_epochs = EPOCHS,\n",
    "    weight_decay = 0.01,\n",
    "    save_strategy = 'epoch',\n",
    "    evaluation_strategy = 'epoch',\n",
    "    logging_steps = 10,\n",
    "    load_best_model_at_end = True,\n",
    "    # Enable mixed precision\n",
    "    fp16=True\n",
    ")"
   ]
  },
  {
   "cell_type": "markdown",
   "metadata": {},
   "source": [
    "Trainer"
   ]
  },
  {
   "cell_type": "code",
   "execution_count": null,
   "metadata": {},
   "outputs": [],
   "source": [
    "trainer = Trainer(\n",
    "                  model = model,\n",
    "                  args = training_args,\n",
    "                  train_dataset = tokenized_train_dataset,\n",
    "                  eval_dataset = tokenized_test_dataset,\n",
    "                  tokenizer = tokenizer,\n",
    "                  compute_metrics = compute_metrics,\n",
    "                  data_collator = data_collator\n",
    ")"
   ]
  },
  {
   "cell_type": "markdown",
   "metadata": {},
   "source": [
    "Training"
   ]
  },
  {
   "cell_type": "code",
   "execution_count": null,
   "metadata": {},
   "outputs": [],
   "source": [
    "# Fine-tuning the model with sample set of balanced data\n",
    "# (commented out to prevent re-training)\n",
    "\n",
    "# trained_model_results = trainer.train()"
   ]
  },
  {
   "cell_type": "markdown",
   "metadata": {},
   "source": [
    "Initial fine-tuning of pretrained model yielded accuracy values of ~40-50%.\\\n",
    "Final yielded accruacy values are around ~81%.\n",
    "\n",
    "Steps taken to improve accuracy (in something close to resembling order of application);\n",
    "* Changed pre-trained model from `distilbert-base-uncased` to `MarieAngeA13/Sentiment-Analysis-BERT`\n",
    "* Adjusted sample sizes of data <br> (from ~100 records total to a balanced sample set of 1000 with equal representation for all ratings) <br> (it would be another iteration before that sample set would be a balanced represntaion of the *labels*, though)\n",
    "* Updates to text cleaning to include more web-present syntax <br> (eg; mentions, multiple spaces, hashtags, and web address elements) <br> (because reviews aren't literary works, typically)\n",
    "* Adjustted syntax and arguments of tokenizer function and the application of it\n",
    "* Adjusted training arguments to better align with our BERT-based model <br> (*spoiler: this gets undone pretty soon after*)\n",
    "* Added additional metrics for better understanding of neccessary optimization\n",
    "* Increased sample data size, again, and removed subset step entirely <br> (started at 10,000 only to then decrease that sample size to 600 because of time, but it was still a larger sample than where it started)\n",
    "* Adjusted batch size and epochs <br> (twice)\n",
    "* Moved back to `distilbert-base-uncased` and adjusted learning tokenizers, learning rate, logging steps, and such hyperparameters accordingly <br> (because sometimes less Bert is better Bert)\n",
    "* Bargained with Eldritch beings in the hopes of a single soul buying even just a 10% boost to accuracy <br> (which is to say the sample size was changed to 3,000) <br> (also added and evaluation step to get a better idea of performance)\n",
    "* Exchanged soul because the deal was pretty tempting <br> (3,000 records had an accuracy of ~78%, so set the model to train overnight with 6,000 records in the hopes of an above 80% result)\n",
    "\n",
    "Copied output from final evaluation;\n",
    "\n",
    "> {'eval_loss': 0.4815390408039093, 'eval_accuracy': 0.8169047619047619, 'eval_precision': 0.8175331785953032, 'eval_recall': 0.8169047619047619, 'eval_f1': 0.8171466024398222, 'eval_runtime': 1743.5234, 'eval_samples_per_second': 2.409, 'eval_steps_per_second': 0.038, 'epoch': 3.0}\n"
   ]
  },
  {
   "cell_type": "markdown",
   "metadata": {},
   "source": [
    "Evaluation"
   ]
  },
  {
   "cell_type": "code",
   "execution_count": null,
   "metadata": {},
   "outputs": [],
   "source": [
    "# Evaluate the model (commented out due to trainer already being trained)\n",
    "# evaluation_metrics = trainer.evaluate()\n",
    "\n",
    "# Print the final score (commented out due to trainer already being trained)\n",
    "# print(evaluation_metrics)"
   ]
  },
  {
   "cell_type": "markdown",
   "metadata": {},
   "source": [
    "Saving Model & Tokenizer"
   ]
  },
  {
   "cell_type": "code",
   "execution_count": null,
   "metadata": {},
   "outputs": [],
   "source": [
    "# Saving the model and toekenizer\n",
    "# (commented out to prevent overwriting, # fetching handled through `gdown` and `zipfile`)\n",
    "# trainer.save_model(model_path)\n",
    "\n",
    "# tokenizer.save_pretrained(tokenizer_path)"
   ]
  },
  {
   "cell_type": "markdown",
   "metadata": {},
   "source": [
    "Fetching and unzipping model"
   ]
  },
  {
   "cell_type": "code",
   "execution_count": 24,
   "metadata": {},
   "outputs": [
    {
     "ename": "NameError",
     "evalue": "name 'gdown' is not defined",
     "output_type": "error",
     "traceback": [
      "\u001b[0;31m---------------------------------------------------------------------------\u001b[0m",
      "\u001b[0;31mNameError\u001b[0m                                 Traceback (most recent call last)",
      "Cell \u001b[0;32mIn[24], line 5\u001b[0m\n\u001b[1;32m      3\u001b[0m output \u001b[38;5;241m=\u001b[39m \u001b[38;5;124m'\u001b[39m\u001b[38;5;124mResources/Sentiment_Analysis.zip\u001b[39m\u001b[38;5;124m'\u001b[39m\n\u001b[1;32m      4\u001b[0m \u001b[38;5;66;03m# Download model\u001b[39;00m\n\u001b[0;32m----> 5\u001b[0m gdown\u001b[38;5;241m.\u001b[39mdownload(url, output, fuzzy\u001b[38;5;241m=\u001b[39m\u001b[38;5;28;01mTrue\u001b[39;00m, quiet\u001b[38;5;241m=\u001b[39m\u001b[38;5;28;01mFalse\u001b[39;00m)\n\u001b[1;32m      7\u001b[0m \u001b[38;5;66;03m# Extracting model\u001b[39;00m\n\u001b[1;32m      8\u001b[0m \u001b[38;5;28;01mwith\u001b[39;00m zipfile\u001b[38;5;241m.\u001b[39mZipFile(output, \u001b[38;5;124m'\u001b[39m\u001b[38;5;124mr\u001b[39m\u001b[38;5;124m'\u001b[39m) \u001b[38;5;28;01mas\u001b[39;00m zip_ref:\n",
      "\u001b[0;31mNameError\u001b[0m: name 'gdown' is not defined"
     ]
    }
   ],
   "source": [
    "# Fetching model through `gdown`\n",
    "url = 'https://drive.google.com/file/d/1tzYRkjv3wWpfg21pJ02SEYNXEcj-TVH3/view?usp=sharing'\n",
    "output = 'Resources/Sentiment_Analysis.zip'\n",
    "# Download model\n",
    "gdown.download(url, output, fuzzy=True, quiet=False)\n",
    "\n",
    "# Extracting model\n",
    "with zipfile.ZipFile(output, 'r') as zip_ref:\n",
    "    zip_ref.extractall('./Sentiment_Analysis')"
   ]
  },
  {
   "cell_type": "markdown",
   "metadata": {},
   "source": [
    "Paths"
   ]
  },
  {
   "cell_type": "code",
   "execution_count": 31,
   "metadata": {},
   "outputs": [],
   "source": [
    "model_path = 'Sentiment_Analysis/Sentiment_Analysis/model'\n",
    "tokenizer_path =  'Sentiment_Analysis/Sentiment_Analysis/tokenizer'"
   ]
  },
  {
   "cell_type": "markdown",
   "metadata": {},
   "source": [
    "Loading and Testing model"
   ]
  },
  {
   "cell_type": "code",
   "execution_count": 32,
   "metadata": {},
   "outputs": [],
   "source": [
    "model = DistilBertForSequenceClassification.from_pretrained(model_path)\n",
    "tokenizer = DistilBertTokenizer.from_pretrained(tokenizer_path)\n",
    "\n",
    "roberto = pipeline('sentiment-analysis',model=model,tokenizer=tokenizer)"
   ]
  },
  {
   "cell_type": "code",
   "execution_count": null,
   "metadata": {},
   "outputs": [],
   "source": [
    "# Function to apply `roberto` to any DF\n",
    "def apply_roberto(df,review_col):\n",
    "    # Iterate through `df`\n",
    "    for index,row in df.iterrows():\n",
    "        # Set review text as `text`\n",
    "        text = row[review_col]\n",
    "        # Generate results for a given review\n",
    "        result = roberto(text, truncation=True)[0]\n",
    "        # Append the sentiment label\n",
    "        df.at[index, 'sent_label'] = result['label']\n",
    "        #Append the sentiment score\n",
    "        df.at[index, 'sent_score'] = result['score']\n",
    "    # Return `df`\n",
    "    return df"
   ]
  },
  {
   "cell_type": "code",
   "execution_count": null,
   "metadata": {},
   "outputs": [],
   "source": [
    "# Creating a susbet to test model\n",
    "sample_set_df = sample_data_df[:100]\n",
    "\n",
    "# Applying `apply_roberto` to `sample_set_df` (commented out as a saved subset exists)\n",
    "# sample_set_df = apply_roberto(sample_data_df,'text')\n",
    "\n",
    "# Confirming results\n",
    "sample_set_df.head(10)"
   ]
  },
  {
   "cell_type": "markdown",
   "metadata": {},
   "source": [
    "*End Code Space*"
   ]
  },
  {
   "cell_type": "code",
   "execution_count": null,
   "metadata": {},
   "outputs": [],
   "source": [
    "# Exporting sample subset for later use (commented out because `.csv` in `Resources/`)\n",
    "# sample_set_df.to_csv('./Resources/sample_set.csv')"
   ]
  },
  {
   "cell_type": "code",
   "execution_count": null,
   "metadata": {},
   "outputs": [],
   "source": [
    "# Reading in existing subset with `roberto` applied\n",
    "sample_set_df = pd.read_csv('Resources/sample_set.csv')\n",
    "\n",
    "# Confirming subset\n",
    "sample_set_df.head(2)"
   ]
  },
  {
   "cell_type": "markdown",
   "metadata": {},
   "source": [
    "# Functions (Pt 1)\n",
    "\n",
    "While trained on Yelp! data, and developed for Google Reviews, the goal of the application is to be as univerally applicable to business reviews as possible - regardless of the source. The following functions were developed with their annotated purposes in mind:\n",
    "\n",
    "| **Function** | **Notes** |\n",
    "| :--- | :---|\n",
    "| `apply_roberto()` | Generates sentiment analysis for reviews in a given dataset, and a confidence in that sentiment |\n",
    "| `business_names_list()` | Generates a list of unique business names from a given dataset |\n",
    "| `reviews_list()` | Generates a list of all reviews submitted to a business for all its locations |\n",
    "| `general_sentiment()` | Classifies the general sentiment for a business' reviews and provides a mean confidence in that sentiment <br> *Note: To be run after a DataFrame has been passed through* `apply_roberto()` |\n",
    "\n",
    "Function outlined in more detail below require a DataFrame with the following features:\n",
    "\n",
    "| **Feature** | **Notes** |\n",
    "| :--- | :--- |\n",
    "| `bus_name_col` | A text column with the name of a business |\n",
    "| `bus_add` | A text column with the street address of a business' location |\n",
    "| `rev_col` | A text column with available reviews |\n",
    "| `sent_lbl` | A text column with the generated sentiment classification <br> *Note: Generated through* `apply_roberto()` |\n",
    "| `sent_scr` | A text column with the generated sentiment classification <br> *Note: Generated through* `apply_roberto()` |"
   ]
  },
  {
   "cell_type": "code",
   "execution_count": 33,
   "metadata": {},
   "outputs": [],
   "source": [
    "# Function to apply `roberto` to any DF\n",
    "def apply_roberto(df,rev_col):\n",
    "    '''\n",
    "    Applies the `roberto` model to generate sentiment analysis for the reviews in a DataFrame.\n",
    "\n",
    "    Args:\n",
    "        df (DataFrame):     Any DataFrame with sufficient data.\n",
    "        rev_col (str):      A string with the feature name that contains the review text.\n",
    "    \n",
    "    Returns:\n",
    "        df (DataFrame):     The same DataFrame with the appended sentiments and confidence scores.\n",
    "    \n",
    "    Raises:\n",
    "        KeyError: If `rev_col` is not a valid column name in the DataFrame.\n",
    "        TypeError: If `df` is not a DataFrame or if `review_col` is not a string.\n",
    "    '''\n",
    "    #Raises\n",
    "    if not isinstance(df, pd.DataFrame):\n",
    "        raise TypeError('The input `df` must be a pandas DataFrame.')\n",
    "    if not isinstance(rev_col, str):\n",
    "        raise TypeError('The `rev_col` parameter must be passed as a string.')\n",
    "    if rev_col not in df.columns:\n",
    "        raise KeyError(f\"Column '{rev_col}' not found in DataFrame.\")\n",
    "    \n",
    "    # Initializing features for results\n",
    "    df['sent_label'] = ''\n",
    "    df['sent_score'] = 0.0\n",
    "\n",
    "    # Iterating through `df`\n",
    "    for index,row in df.iterrows():\n",
    "        # Setting review text as `text`\n",
    "        text = row[rev_col]\n",
    "        # Generating results for a given review\n",
    "        result = roberto(text, truncation=True)[0]\n",
    "        # Appending the sentiment label\n",
    "        df.at[index, 'sent_label'] = result['label']\n",
    "        #Appending the sentiment score\n",
    "        df.at[index, 'sent_score'] = result['score']\n",
    "    \n",
    "    # Returning `df`\n",
    "    return df"
   ]
  },
  {
   "cell_type": "code",
   "execution_count": null,
   "metadata": {},
   "outputs": [],
   "source": [
    "# Function to retrieve unique business names\n",
    "def business_names_list(df, bus_name_col):\n",
    "    '''\n",
    "    Places unique names from a list of businesses into a list.\n",
    "\n",
    "    Args:\n",
    "        df (DataFrame):     Any DataFrame with sufficient data.\n",
    "        bus_name_col (str): A string with the feature name that contains the business name.\n",
    "\n",
    "    Returns:\n",
    "        names (list):       A list of strings with only unique values.\n",
    "\n",
    "    Raises:\n",
    "        KeyError:           If `bus_name` is not a valid column name in the DataFrame.\n",
    "        TypeError:          If `df` is not a DataFrame or if `bus_name` is not a string.\n",
    "    '''\n",
    "    # Raises\n",
    "    if not isinstance(df, pd.DataFrame):\n",
    "        raise TypeError('The input `df` must be a pandas DataFrame.')\n",
    "    if not isinstance(bus_name_col, str):\n",
    "        raise TypeError('The `bus_name` parameter must be passed as a string.')\n",
    "    if bus_name_col not in df.columns:\n",
    "        raise KeyError(f\"Column '{bus_name_col}' not found in DataFrame.\")\n",
    "\n",
    "    # Generating a list of business names\n",
    "    names = df[bus_name_col].unique().tolist()\n",
    "    \n",
    "    # Returning the list\n",
    "    return names"
   ]
  },
  {
   "cell_type": "code",
   "execution_count": 34,
   "metadata": {},
   "outputs": [],
   "source": [
    "# Function to retrieve all reviews\n",
    "def reviews_list(df, bus_name_col, bus_name, bus_add, rev_col):\n",
    "    '''\n",
    "    Places all reviews for a given business into a list, attributing each review to its specific location.\n",
    "\n",
    "    Args:\n",
    "        df (DataFrame):     Any DataFrame with sufficient data.\n",
    "        bus_name_col (str): A string with the feature name that contains the business name.\n",
    "        bus_name (str):     A string of a specific business' name for which to map the locations.\n",
    "        bus_add (str):      A string with the feature name that contains the business street address.\n",
    "        rev_col (str):      A string with the feature name that contains the review text.\n",
    "\n",
    "    Returns:\n",
    "        reviews (list):     A list of strings with all the reviews for a given business.\n",
    "\n",
    "    Raises:\n",
    "        KeyError:           If any passed str is not a valid column name in the DataFrame, or if `bus_name` is not a value in `bus_name_col`.\n",
    "        TypeError:          If `df` is not a DataFrame  if and feature is not a string, or if `bus_name` is not a string.\n",
    "    '''\n",
    "    # Raises\n",
    "    if not isinstance(df, pd.DataFrame):\n",
    "        raise TypeError('The input `df` must be a pandas DataFrame.')\n",
    "    for param, name in zip(\n",
    "        [bus_name_col, bus_add, rev_col],\n",
    "        ['bus_name_col', 'bus_add', 'rev_col']\n",
    "    ):\n",
    "        if not isinstance(param, str):\n",
    "            raise TypeError(f\"The '{name}' parameter must be passed as a string.\")\n",
    "        if param not in df.columns:\n",
    "            raise KeyError(f\"Column '{param}' not found in DataFrame.\")\n",
    "    if not isinstance(bus_name, str):\n",
    "        raise TypeError('The `bus_name` parameter must be passed as a string.')\n",
    "    if bus_name not in df[bus_name_col].values:\n",
    "        raise KeyError(f\"Value '{bus_name}' not found in column '{bus_name_col}'.\")\n",
    "    \n",
    "    # Filtering `df`\n",
    "    filtered_df = df[[bus_add, rev_col]][df[bus_name_col] == bus_name].copy()\n",
    "\n",
    "    # Handling missing or empty reviews\n",
    "    filtered_df[rev_col] = filtered_df[rev_col].fillna('No review provided.')\n",
    "\n",
    "    # Creating a list of all reviews\n",
    "    reviews = filtered_df[bus_add] + ':\\n' + filtered_df[rev_col] + '\\n\\n'\n",
    "\n",
    "    # Converting to a list\n",
    "    reviews = reviews.to_list()\n",
    "\n",
    "    # Returning reviews\n",
    "    return reviews"
   ]
  },
  {
   "cell_type": "code",
   "execution_count": null,
   "metadata": {},
   "outputs": [],
   "source": [
    "# Function to generalize the overall sentiment\n",
    "def general_sentiment(df, bus_name_col, bus_name, sent_lbl, sent_scr):\n",
    "    '''\n",
    "    Compares the total positive, negative, and neutral reviews to classify an overall sentiment.\n",
    "\n",
    "    Note:\n",
    "        To be run after passing a DataFrame through `apply_roberto()`.\n",
    "\n",
    "    Args:\n",
    "        df (DataFrame):     Any DataFrame with sufficient data.\n",
    "        bus_name_col (str): A string with the feature name that contains the business name.\n",
    "        bus_name (str):     A string of a specific business' name for which to map the locations.\n",
    "        sent_lbl (str):     A string with the feature name that contains the modeled sentiment label.\n",
    "        sent_scr (str):     A string with the feature name that contains the modeled sentiment confidence.\n",
    "\n",
    "    Returns:\n",
    "        gen_sent (str):     A string with the overall sentiment, and the model's mean confidence in that classification.\n",
    "    \n",
    "    Raises:\n",
    "        KeyError:           If any passed str is not a valid column name in the DataFrame, or if `bus_name` is not a value in `bus_name_col`.\n",
    "        TypeError:          If `df` is not a DataFrame  if and feature is not a string, or if `bus_name` is not a string.\n",
    "    '''\n",
    "    # Raises\n",
    "    if not isinstance(df, pd.DataFrame):\n",
    "        raise TypeError('The input `df` must be a pandas DataFrame.')\n",
    "    for param, name in zip(\n",
    "        [bus_name_col, sent_lbl, sent_scr],\n",
    "        ['bus_name_col', 'sent_lbl', 'sent_scr']\n",
    "    ):\n",
    "        if not isinstance(param, str):\n",
    "            raise TypeError(f\"The '{name}' parameter must be passed as a string.\")\n",
    "        if param not in df.columns:\n",
    "            raise KeyError(f\"Column '{param}' not found in DataFrame.\")\n",
    "    if not isinstance(bus_name, str):\n",
    "        raise TypeError('The `bus_name` parameter must be passed as a string.')\n",
    "    if bus_name not in df[bus_name_col].values:\n",
    "        raise KeyError(f\"Value '{bus_name}' not found in column '{bus_name_col}'.\")\n",
    "    \n",
    "    # Filtering `df`\n",
    "    filtered_df = df[[sent_lbl, sent_scr]][df[bus_name_col] == bus_name].copy()\n",
    "\n",
    "    # Converting `sentiment` to lower case\n",
    "    filtered_df[sent_lbl] = filtered_df[sent_lbl].str.lower()\n",
    "\n",
    "    # Calculating total `positive` sentiment\n",
    "    pos = filtered_df.loc[filtered_df[sent_lbl] == 'positive'].shape[0]\n",
    "    # Calculating total `neutral` sentiment\n",
    "    ntrl = filtered_df.loc[filtered_df[sent_lbl] == 'neutral'].shape[0]\n",
    "    # Calculating total `negative` sentiment\n",
    "    neg = filtered_df.loc[filtered_df[sent_lbl] == 'negative'].shape[0]\n",
    "\n",
    "    # Match case to generate general sentiment\n",
    "    match (pos, ntrl, neg):\n",
    "        case (p, n, ng) if p > n > ng:\n",
    "            sent = 'highly positive'\n",
    "        case (p, n, ng) if p > n + ng:\n",
    "            sent = 'strongly positive'\n",
    "        case (p, n, ng) if p + n > ng:\n",
    "            sent = 'moderately positive'\n",
    "        case (p, n, ng) if p < n > ng:\n",
    "            sent = 'generally neutral'\n",
    "        case (p, n, ng) if p < n < ng:\n",
    "            sent = 'moderately negative'\n",
    "        case (p, n, ng) if p + n < ng:\n",
    "            sent = 'strongly negative'\n",
    "        case (p, n, ng) if ng > n > p:\n",
    "            sent = 'highly negative'\n",
    "        case (p, n, ng) if p == n == ng:\n",
    "            sent = 'perfectly neutral'\n",
    "        case _:\n",
    "            sent = 'undetermined'\n",
    "    \n",
    "    # Calculate the mean confidence\n",
    "    conf = filtered_df[sent_scr].mean() * 100\n",
    "\n",
    "    # Generating the final sentiment\n",
    "    if pos + ntrl + neg != 0:\n",
    "        # Concatenating sentiment and confidence\n",
    "        gen_sent = f'The general sentiment is {sent}, with an average confidence of {conf:.1f}%.'\n",
    "    else:\n",
    "        # When no sentment available due to no reviews\n",
    "        gen_sent = 'Cannot confirm sentiment due to a lack of reviews.'\n",
    "\n",
    "    # Returning sentiment\n",
    "    return gen_sent"
   ]
  },
  {
   "cell_type": "code",
   "execution_count": null,
   "metadata": {},
   "outputs": [],
   "source": [
    "# Install necessary libraries (uncomment if needed)\n",
    "# ! pip install selenium --quiet\n",
    "# ! pip install webdriver-manager --quiet\n",
    "# ! pip install beautifulsoup4 --quiet"
   ]
  },
  {
   "cell_type": "markdown",
   "metadata": {},
   "source": [
    "# **Leigh's Code Space**"
   ]
  },
  {
   "cell_type": "code",
   "execution_count": null,
   "metadata": {},
   "outputs": [],
   "source": []
  },
  {
   "cell_type": "markdown",
   "metadata": {},
   "source": [
    "*End Code Space*"
   ]
  },
  {
   "cell_type": "markdown",
   "metadata": {},
   "source": [
    "# **Angelica's Code Space**"
   ]
  },
  {
   "cell_type": "code",
   "execution_count": 1,
   "metadata": {},
   "outputs": [],
   "source": [
    "#import required libraries\n",
    "from selenium import webdriver\n",
    "from selenium.webdriver.chrome.service import Service as ChromeService\n",
    "from webdriver_manager.chrome import ChromeDriverManager\n",
    "from bs4 import BeautifulSoup\n",
    "import time\n",
    "from selenium.webdriver.support.ui import WebDriverWait\n",
    "from selenium.webdriver.common.by import By\n",
    "from selenium.webdriver.support import expected_conditions as EC\n",
    "import pandas as pd"
   ]
  },
  {
   "cell_type": "code",
   "execution_count": 20,
   "metadata": {},
   "outputs": [
    {
     "data": {
      "text/html": [
       "<div>\n",
       "<style scoped>\n",
       "    .dataframe tbody tr th:only-of-type {\n",
       "        vertical-align: middle;\n",
       "    }\n",
       "\n",
       "    .dataframe tbody tr th {\n",
       "        vertical-align: top;\n",
       "    }\n",
       "\n",
       "    .dataframe thead th {\n",
       "        text-align: right;\n",
       "    }\n",
       "</style>\n",
       "<table border=\"1\" class=\"dataframe\">\n",
       "  <thead>\n",
       "    <tr style=\"text-align: right;\">\n",
       "      <th></th>\n",
       "      <th>review</th>\n",
       "      <th>rating</th>\n",
       "      <th>bus_id</th>\n",
       "      <th>avg_rating</th>\n",
       "      <th>bus_add</th>\n",
       "      <th>bus_city</th>\n",
       "      <th>lat</th>\n",
       "      <th>lon</th>\n",
       "    </tr>\n",
       "  </thead>\n",
       "  <tbody>\n",
       "    <tr>\n",
       "      <th>0</th>\n",
       "      <td>The cakes are beautiful and delicious, but you...</td>\n",
       "      <td>5</td>\n",
       "      <td>Dulce De Leche Bakery</td>\n",
       "      <td>4.7</td>\n",
       "      <td>376 Central Ave</td>\n",
       "      <td>Jersey City</td>\n",
       "      <td>40.7476428</td>\n",
       "      <td>-74.0527625</td>\n",
       "    </tr>\n",
       "    <tr>\n",
       "      <th>1</th>\n",
       "      <td>The entire experience was excellent: well-brew...</td>\n",
       "      <td>5</td>\n",
       "      <td>Dulce De Leche Bakery</td>\n",
       "      <td>4.7</td>\n",
       "      <td>376 Central Ave</td>\n",
       "      <td>Jersey City</td>\n",
       "      <td>40.7476428</td>\n",
       "      <td>-74.0527625</td>\n",
       "    </tr>\n",
       "    <tr>\n",
       "      <th>2</th>\n",
       "      <td>Everything was great.\\n\\nFood, service, and th...</td>\n",
       "      <td>5</td>\n",
       "      <td>Dulce De Leche Bakery</td>\n",
       "      <td>4.7</td>\n",
       "      <td>376 Central Ave</td>\n",
       "      <td>Jersey City</td>\n",
       "      <td>40.7476428</td>\n",
       "      <td>-74.0527625</td>\n",
       "    </tr>\n",
       "    <tr>\n",
       "      <th>3</th>\n",
       "      <td>The soup is amazing. My family likes the Itali...</td>\n",
       "      <td>5</td>\n",
       "      <td>Dulce De Leche Bakery</td>\n",
       "      <td>4.7</td>\n",
       "      <td>376 Central Ave</td>\n",
       "      <td>Jersey City</td>\n",
       "      <td>40.7476428</td>\n",
       "      <td>-74.0527625</td>\n",
       "    </tr>\n",
       "    <tr>\n",
       "      <th>4</th>\n",
       "      <td>Absolutely love Dulce de Leche Bakery in Jerse...</td>\n",
       "      <td>5</td>\n",
       "      <td>Dulce De Leche Bakery</td>\n",
       "      <td>4.7</td>\n",
       "      <td>376 Central Ave</td>\n",
       "      <td>Jersey City</td>\n",
       "      <td>40.7476428</td>\n",
       "      <td>-74.0527625</td>\n",
       "    </tr>\n",
       "    <tr>\n",
       "      <th>...</th>\n",
       "      <td>...</td>\n",
       "      <td>...</td>\n",
       "      <td>...</td>\n",
       "      <td>...</td>\n",
       "      <td>...</td>\n",
       "      <td>...</td>\n",
       "      <td>...</td>\n",
       "      <td>...</td>\n",
       "    </tr>\n",
       "    <tr>\n",
       "      <th>545</th>\n",
       "      <td>Absolutely amazing. We ordered  from their \"fa...</td>\n",
       "      <td>5</td>\n",
       "      <td>Texas Roadhouse</td>\n",
       "      <td>4.4</td>\n",
       "      <td>2105 NJ-35 Suite 103</td>\n",
       "      <td>Holmdel</td>\n",
       "      <td>40.412299</td>\n",
       "      <td>-74.145973</td>\n",
       "    </tr>\n",
       "    <tr>\n",
       "      <th>546</th>\n",
       "      <td>This place’s onion rings are my comfort food (...</td>\n",
       "      <td>5</td>\n",
       "      <td>Texas Roadhouse</td>\n",
       "      <td>4.4</td>\n",
       "      <td>2105 NJ-35 Suite 103</td>\n",
       "      <td>Holmdel</td>\n",
       "      <td>40.412299</td>\n",
       "      <td>-74.145973</td>\n",
       "    </tr>\n",
       "    <tr>\n",
       "      <th>547</th>\n",
       "      <td>Very good chain restaurant the food is always ...</td>\n",
       "      <td>4</td>\n",
       "      <td>Texas Roadhouse</td>\n",
       "      <td>4.4</td>\n",
       "      <td>2105 NJ-35 Suite 103</td>\n",
       "      <td>Holmdel</td>\n",
       "      <td>40.412299</td>\n",
       "      <td>-74.145973</td>\n",
       "    </tr>\n",
       "    <tr>\n",
       "      <th>548</th>\n",
       "      <td>Loaded sweet potato and the rolls are the best...</td>\n",
       "      <td>5</td>\n",
       "      <td>Texas Roadhouse</td>\n",
       "      <td>4.4</td>\n",
       "      <td>2105 NJ-35 Suite 103</td>\n",
       "      <td>Holmdel</td>\n",
       "      <td>40.412299</td>\n",
       "      <td>-74.145973</td>\n",
       "    </tr>\n",
       "    <tr>\n",
       "      <th>549</th>\n",
       "      <td>Had the bone in ribeye with onion and mushroom...</td>\n",
       "      <td>5</td>\n",
       "      <td>Texas Roadhouse</td>\n",
       "      <td>4.4</td>\n",
       "      <td>2105 NJ-35 Suite 103</td>\n",
       "      <td>Holmdel</td>\n",
       "      <td>40.412299</td>\n",
       "      <td>-74.145973</td>\n",
       "    </tr>\n",
       "  </tbody>\n",
       "</table>\n",
       "<p>550 rows × 8 columns</p>\n",
       "</div>"
      ],
      "text/plain": [
       "                                                review rating  \\\n",
       "0    The cakes are beautiful and delicious, but you...      5   \n",
       "1    The entire experience was excellent: well-brew...      5   \n",
       "2    Everything was great.\\n\\nFood, service, and th...      5   \n",
       "3    The soup is amazing. My family likes the Itali...      5   \n",
       "4    Absolutely love Dulce de Leche Bakery in Jerse...      5   \n",
       "..                                                 ...    ...   \n",
       "545  Absolutely amazing. We ordered  from their \"fa...      5   \n",
       "546  This place’s onion rings are my comfort food (...      5   \n",
       "547  Very good chain restaurant the food is always ...      4   \n",
       "548  Loaded sweet potato and the rolls are the best...      5   \n",
       "549  Had the bone in ribeye with onion and mushroom...      5   \n",
       "\n",
       "                    bus_id avg_rating               bus_add      bus_city  \\\n",
       "0    Dulce De Leche Bakery        4.7       376 Central Ave   Jersey City   \n",
       "1    Dulce De Leche Bakery        4.7       376 Central Ave   Jersey City   \n",
       "2    Dulce De Leche Bakery        4.7       376 Central Ave   Jersey City   \n",
       "3    Dulce De Leche Bakery        4.7       376 Central Ave   Jersey City   \n",
       "4    Dulce De Leche Bakery        4.7       376 Central Ave   Jersey City   \n",
       "..                     ...        ...                   ...           ...   \n",
       "545        Texas Roadhouse        4.4  2105 NJ-35 Suite 103       Holmdel   \n",
       "546        Texas Roadhouse        4.4  2105 NJ-35 Suite 103       Holmdel   \n",
       "547        Texas Roadhouse        4.4  2105 NJ-35 Suite 103       Holmdel   \n",
       "548        Texas Roadhouse        4.4  2105 NJ-35 Suite 103       Holmdel   \n",
       "549        Texas Roadhouse        4.4  2105 NJ-35 Suite 103       Holmdel   \n",
       "\n",
       "            lat          lon  \n",
       "0    40.7476428  -74.0527625  \n",
       "1    40.7476428  -74.0527625  \n",
       "2    40.7476428  -74.0527625  \n",
       "3    40.7476428  -74.0527625  \n",
       "4    40.7476428  -74.0527625  \n",
       "..          ...          ...  \n",
       "545   40.412299   -74.145973  \n",
       "546   40.412299   -74.145973  \n",
       "547   40.412299   -74.145973  \n",
       "548   40.412299   -74.145973  \n",
       "549   40.412299   -74.145973  \n",
       "\n",
       "[550 rows x 8 columns]"
      ]
     },
     "execution_count": 20,
     "metadata": {},
     "output_type": "execute_result"
    }
   ],
   "source": [
    "# define a function to create df with the business name, avg rating and address of each location\n",
    "def business_Overview(business_name,avg_rating,address1,lat,long,df):\n",
    "    df['bus_id'] = business_name\n",
    "    df['avg_rating'] = avg_rating\n",
    "    address_list = address1.split(',')\n",
    "    df['bus_add'] = address_list[0]\n",
    "    df['bus_city'] = address_list[1]\n",
    "    df['lat'] = lat\n",
    "    df['lon'] = long\n",
    "    return df\n",
    "\n",
    "# import business df with Google Maps url for web scrapping\n",
    "url_df = pd.read_csv('Resources/business_urls.csv')\n",
    "\n",
    "url_df = url_df.head(11)\n",
    "\n",
    "\n",
    "# create list of urls and lat/long for web scrapping step \n",
    "url = url_df['url'].tolist()\n",
    "lat = url_df['lat'].astype(str).tolist()\n",
    "long = url_df['long'].astype(str).tolist()\n",
    "#url = ['https://www.google.com/maps/place/Victoria+and+Albert+Museum/@51.4966392,-0.17218,15z/data=!4m5!3m4!1s0x0:0x9eb7094dfdcd651f!8m2!3d51.4966392!4d-0.17218']\n",
    "\n",
    "# initiate driver\n",
    "driver = webdriver.Chrome(service = ChromeService(ChromeDriverManager().install()))\n",
    "\n",
    "#create for loop to parse through the different locations in the url list above\n",
    "c = 0\n",
    "df_list = []\n",
    "\n",
    "for i in range(0,len(url)):\n",
    "    c += 1\n",
    "    driver.get(url[i])\n",
    "    time.sleep(5)\n",
    "\n",
    "    # get parameters needed for business overview function\n",
    "    response = BeautifulSoup(driver.page_source, 'html.parser')\n",
    "    business_name = response.find('h1',class_='DUwDvf lfPIob').text\n",
    "    avg_rating = response.find('div',class_='fontDisplayLarge').text\n",
    "    address = response.find('div',class_= 'rogA2c').text\n",
    "    lat_ = lat[i]\n",
    "    long_ = long[i]\n",
    "    \n",
    "    # navigate to Reviews tab\n",
    "    driver.find_element(By.CLASS_NAME, \"RWPxGd\").click()\n",
    "    time.sleep(3)\n",
    "\n",
    "    #Find the total number of reviews\n",
    "    #total_number_of_reviews = driver.find_element('xpath','//*[@id=\"QA0Szd\"]/div/div/div[1]/div[2]/div/div[1]/div/div/div[2]/div[2]/div/div[2]/div[3]').text.split(\" \")[0]\n",
    "    #total_number_of_reviews = int(total_number_of_reviews.replace(',','')) if ',' in total_number_of_reviews else int(total_number_of_reviews)\n",
    "\n",
    "    total_number_of_reviews = 50\n",
    "\n",
    "    #Find scroll layout\n",
    "    scrollable_div = driver.find_element('xpath','//*[@id=\"QA0Szd\"]/div/div/div[1]/div[2]/div/div[1]/div/div/div[2]')\n",
    "\n",
    "    #Scroll as many times as necessary to load all reviews - 10 reviews shown at a time\n",
    "    for i in range(0,(round(total_number_of_reviews/10 - 1))):\n",
    "        driver.execute_script('arguments[0].scrollTop = arguments[0].scrollHeight', scrollable_div)\n",
    "        time.sleep(3)\n",
    "\n",
    "    # #parse HTML and Data Extraction\n",
    "    # response = BeautifulSoup(driver.page_source, 'html.parser')\n",
    "    # reviews = response.find_all('div', class_= 'm6QErb DxyBCb kA9KIf dS8AEf XiKgde')\n",
    "\n",
    "    # loop over the number of reviews \n",
    "    next_item = driver.find_elements('xpath','//*[@id=\"QA0Szd\"]/div/div/div[1]/div[2]/div/div[1]/div/div/div[2]/div[9]/div[1]/div/div')\n",
    "    time.sleep(3)\n",
    "\n",
    "    #expand review by click on 'more' button\n",
    "    for i in next_item:\n",
    "        button = i.find_elements(By.TAG_NAME,'button')\n",
    "        for m in button:\n",
    "            if m.text == \"More\":\n",
    "                m.click()\n",
    "        time.sleep(5)\n",
    "\n",
    "    # parse through the HTML \n",
    "    response = BeautifulSoup(driver.page_source, 'html.parser')\n",
    "    reviews = response.find_all('div',class_ = 'jftiEf')\n",
    "\n",
    "    # define function to gather relevant data from the reviews result set obtained by parsing through HTML\n",
    "    def get_review_summary(result_set):\n",
    "            rev_dict = {\n",
    "                'review' : [],\n",
    "                'rating' : []}\n",
    "\n",
    "            for result in result_set:\n",
    "                #review_name = result.find(class_='d4r55').text\n",
    "                review_text = result.find('span',class_='wiI7pd').text\n",
    "                review_rating = result.find(class_='kvMYJc')['aria-label']\n",
    "                review_rating = review_rating[0]\n",
    "                rev_dict['review'].append(review_text)\n",
    "                rev_dict['rating'].append(review_rating)\n",
    "            \n",
    "            import pandas as pd\n",
    "            return(pd.DataFrame(rev_dict))\n",
    "    \n",
    "    # gather relevant data using newly created function above \n",
    "    summary_df = get_review_summary(reviews)\n",
    "\n",
    "    # access the number of locations in the url list\n",
    "    df = business_Overview(business_name,avg_rating,address,lat_,long_,summary_df)\n",
    "\n",
    "    # append df to df list \n",
    "    df_list.append(df)\n",
    "\n",
    "\n",
    "#concat list of data frames into one \n",
    "spooder_df = pd.concat(df_list, ignore_index=True)\n",
    "spooder_df\n"
   ]
  },
  {
   "cell_type": "code",
   "execution_count": 21,
   "metadata": {},
   "outputs": [],
   "source": [
    "# Exporting spooder_df for later use (commented out because `.csv` in `Resources/`)\n",
    "#spooder_df.to_csv('./Resources/spooder.csv')"
   ]
  },
  {
   "cell_type": "markdown",
   "metadata": {},
   "source": [
    "## Apply the Sentiment Analysis Model to the Web Scrapped Data"
   ]
  },
  {
   "cell_type": "code",
   "execution_count": 35,
   "metadata": {},
   "outputs": [
    {
     "data": {
      "text/html": [
       "<div>\n",
       "<style scoped>\n",
       "    .dataframe tbody tr th:only-of-type {\n",
       "        vertical-align: middle;\n",
       "    }\n",
       "\n",
       "    .dataframe tbody tr th {\n",
       "        vertical-align: top;\n",
       "    }\n",
       "\n",
       "    .dataframe thead th {\n",
       "        text-align: right;\n",
       "    }\n",
       "</style>\n",
       "<table border=\"1\" class=\"dataframe\">\n",
       "  <thead>\n",
       "    <tr style=\"text-align: right;\">\n",
       "      <th></th>\n",
       "      <th>review</th>\n",
       "      <th>rating</th>\n",
       "      <th>bus_id</th>\n",
       "      <th>avg_rating</th>\n",
       "      <th>bus_add</th>\n",
       "      <th>bus_city</th>\n",
       "      <th>lat</th>\n",
       "      <th>lon</th>\n",
       "      <th>sent_label</th>\n",
       "      <th>sent_score</th>\n",
       "    </tr>\n",
       "  </thead>\n",
       "  <tbody>\n",
       "    <tr>\n",
       "      <th>0</th>\n",
       "      <td>The cakes are beautiful and delicious, but you...</td>\n",
       "      <td>5</td>\n",
       "      <td>Dulce De Leche Bakery</td>\n",
       "      <td>4.7</td>\n",
       "      <td>376 Central Ave</td>\n",
       "      <td>Jersey City</td>\n",
       "      <td>40.7476428</td>\n",
       "      <td>-74.0527625</td>\n",
       "      <td>Positive</td>\n",
       "      <td>0.763528</td>\n",
       "    </tr>\n",
       "    <tr>\n",
       "      <th>1</th>\n",
       "      <td>The entire experience was excellent: well-brew...</td>\n",
       "      <td>5</td>\n",
       "      <td>Dulce De Leche Bakery</td>\n",
       "      <td>4.7</td>\n",
       "      <td>376 Central Ave</td>\n",
       "      <td>Jersey City</td>\n",
       "      <td>40.7476428</td>\n",
       "      <td>-74.0527625</td>\n",
       "      <td>Positive</td>\n",
       "      <td>0.889528</td>\n",
       "    </tr>\n",
       "    <tr>\n",
       "      <th>2</th>\n",
       "      <td>Everything was great.\\n\\nFood, service, and th...</td>\n",
       "      <td>5</td>\n",
       "      <td>Dulce De Leche Bakery</td>\n",
       "      <td>4.7</td>\n",
       "      <td>376 Central Ave</td>\n",
       "      <td>Jersey City</td>\n",
       "      <td>40.7476428</td>\n",
       "      <td>-74.0527625</td>\n",
       "      <td>Positive</td>\n",
       "      <td>0.810901</td>\n",
       "    </tr>\n",
       "    <tr>\n",
       "      <th>3</th>\n",
       "      <td>The soup is amazing. My family likes the Itali...</td>\n",
       "      <td>5</td>\n",
       "      <td>Dulce De Leche Bakery</td>\n",
       "      <td>4.7</td>\n",
       "      <td>376 Central Ave</td>\n",
       "      <td>Jersey City</td>\n",
       "      <td>40.7476428</td>\n",
       "      <td>-74.0527625</td>\n",
       "      <td>Positive</td>\n",
       "      <td>0.791038</td>\n",
       "    </tr>\n",
       "    <tr>\n",
       "      <th>4</th>\n",
       "      <td>Absolutely love Dulce de Leche Bakery in Jerse...</td>\n",
       "      <td>5</td>\n",
       "      <td>Dulce De Leche Bakery</td>\n",
       "      <td>4.7</td>\n",
       "      <td>376 Central Ave</td>\n",
       "      <td>Jersey City</td>\n",
       "      <td>40.7476428</td>\n",
       "      <td>-74.0527625</td>\n",
       "      <td>Positive</td>\n",
       "      <td>0.932732</td>\n",
       "    </tr>\n",
       "    <tr>\n",
       "      <th>...</th>\n",
       "      <td>...</td>\n",
       "      <td>...</td>\n",
       "      <td>...</td>\n",
       "      <td>...</td>\n",
       "      <td>...</td>\n",
       "      <td>...</td>\n",
       "      <td>...</td>\n",
       "      <td>...</td>\n",
       "      <td>...</td>\n",
       "      <td>...</td>\n",
       "    </tr>\n",
       "    <tr>\n",
       "      <th>545</th>\n",
       "      <td>Absolutely amazing. We ordered  from their \"fa...</td>\n",
       "      <td>5</td>\n",
       "      <td>Texas Roadhouse</td>\n",
       "      <td>4.4</td>\n",
       "      <td>2105 NJ-35 Suite 103</td>\n",
       "      <td>Holmdel</td>\n",
       "      <td>40.412299</td>\n",
       "      <td>-74.145973</td>\n",
       "      <td>Positive</td>\n",
       "      <td>0.650678</td>\n",
       "    </tr>\n",
       "    <tr>\n",
       "      <th>546</th>\n",
       "      <td>This place’s onion rings are my comfort food (...</td>\n",
       "      <td>5</td>\n",
       "      <td>Texas Roadhouse</td>\n",
       "      <td>4.4</td>\n",
       "      <td>2105 NJ-35 Suite 103</td>\n",
       "      <td>Holmdel</td>\n",
       "      <td>40.412299</td>\n",
       "      <td>-74.145973</td>\n",
       "      <td>Neutral</td>\n",
       "      <td>0.456376</td>\n",
       "    </tr>\n",
       "    <tr>\n",
       "      <th>547</th>\n",
       "      <td>Very good chain restaurant the food is always ...</td>\n",
       "      <td>4</td>\n",
       "      <td>Texas Roadhouse</td>\n",
       "      <td>4.4</td>\n",
       "      <td>2105 NJ-35 Suite 103</td>\n",
       "      <td>Holmdel</td>\n",
       "      <td>40.412299</td>\n",
       "      <td>-74.145973</td>\n",
       "      <td>Positive</td>\n",
       "      <td>0.725514</td>\n",
       "    </tr>\n",
       "    <tr>\n",
       "      <th>548</th>\n",
       "      <td>Loaded sweet potato and the rolls are the best...</td>\n",
       "      <td>5</td>\n",
       "      <td>Texas Roadhouse</td>\n",
       "      <td>4.4</td>\n",
       "      <td>2105 NJ-35 Suite 103</td>\n",
       "      <td>Holmdel</td>\n",
       "      <td>40.412299</td>\n",
       "      <td>-74.145973</td>\n",
       "      <td>Negative</td>\n",
       "      <td>0.718005</td>\n",
       "    </tr>\n",
       "    <tr>\n",
       "      <th>549</th>\n",
       "      <td>Had the bone in ribeye with onion and mushroom...</td>\n",
       "      <td>5</td>\n",
       "      <td>Texas Roadhouse</td>\n",
       "      <td>4.4</td>\n",
       "      <td>2105 NJ-35 Suite 103</td>\n",
       "      <td>Holmdel</td>\n",
       "      <td>40.412299</td>\n",
       "      <td>-74.145973</td>\n",
       "      <td>Positive</td>\n",
       "      <td>0.806610</td>\n",
       "    </tr>\n",
       "  </tbody>\n",
       "</table>\n",
       "<p>550 rows × 10 columns</p>\n",
       "</div>"
      ],
      "text/plain": [
       "                                                review rating  \\\n",
       "0    The cakes are beautiful and delicious, but you...      5   \n",
       "1    The entire experience was excellent: well-brew...      5   \n",
       "2    Everything was great.\\n\\nFood, service, and th...      5   \n",
       "3    The soup is amazing. My family likes the Itali...      5   \n",
       "4    Absolutely love Dulce de Leche Bakery in Jerse...      5   \n",
       "..                                                 ...    ...   \n",
       "545  Absolutely amazing. We ordered  from their \"fa...      5   \n",
       "546  This place’s onion rings are my comfort food (...      5   \n",
       "547  Very good chain restaurant the food is always ...      4   \n",
       "548  Loaded sweet potato and the rolls are the best...      5   \n",
       "549  Had the bone in ribeye with onion and mushroom...      5   \n",
       "\n",
       "                    bus_id avg_rating               bus_add      bus_city  \\\n",
       "0    Dulce De Leche Bakery        4.7       376 Central Ave   Jersey City   \n",
       "1    Dulce De Leche Bakery        4.7       376 Central Ave   Jersey City   \n",
       "2    Dulce De Leche Bakery        4.7       376 Central Ave   Jersey City   \n",
       "3    Dulce De Leche Bakery        4.7       376 Central Ave   Jersey City   \n",
       "4    Dulce De Leche Bakery        4.7       376 Central Ave   Jersey City   \n",
       "..                     ...        ...                   ...           ...   \n",
       "545        Texas Roadhouse        4.4  2105 NJ-35 Suite 103       Holmdel   \n",
       "546        Texas Roadhouse        4.4  2105 NJ-35 Suite 103       Holmdel   \n",
       "547        Texas Roadhouse        4.4  2105 NJ-35 Suite 103       Holmdel   \n",
       "548        Texas Roadhouse        4.4  2105 NJ-35 Suite 103       Holmdel   \n",
       "549        Texas Roadhouse        4.4  2105 NJ-35 Suite 103       Holmdel   \n",
       "\n",
       "            lat          lon sent_label  sent_score  \n",
       "0    40.7476428  -74.0527625   Positive    0.763528  \n",
       "1    40.7476428  -74.0527625   Positive    0.889528  \n",
       "2    40.7476428  -74.0527625   Positive    0.810901  \n",
       "3    40.7476428  -74.0527625   Positive    0.791038  \n",
       "4    40.7476428  -74.0527625   Positive    0.932732  \n",
       "..          ...          ...        ...         ...  \n",
       "545   40.412299   -74.145973   Positive    0.650678  \n",
       "546   40.412299   -74.145973    Neutral    0.456376  \n",
       "547   40.412299   -74.145973   Positive    0.725514  \n",
       "548   40.412299   -74.145973   Negative    0.718005  \n",
       "549   40.412299   -74.145973   Positive    0.806610  \n",
       "\n",
       "[550 rows x 10 columns]"
      ]
     },
     "execution_count": 35,
     "metadata": {},
     "output_type": "execute_result"
    }
   ],
   "source": [
    "# apply Roberto to web scrapping dataframe with Google Reviews\n",
    "roberto_df = apply_roberto(spooder_df,'review')\n",
    "roberto_df"
   ]
  },
  {
   "cell_type": "code",
   "execution_count": 36,
   "metadata": {},
   "outputs": [],
   "source": [
    "# Exporting roberto_df for later use (commented out because `.csv` in `Resources/`)\n",
    "roberto_df.to_csv('./Resources/roberto.csv')"
   ]
  },
  {
   "cell_type": "code",
   "execution_count": null,
   "metadata": {},
   "outputs": [],
   "source": [
    "# run function to get general sentiment per business to be used as input into chatgpt model \n",
    "general_sentiment = general_sentiment(roberto_df, 'bus_id', 'Dulce de Leche Bakery', 'sent_label', 'sent_score')\n",
    "general_sentiment"
   ]
  },
  {
   "cell_type": "code",
   "execution_count": null,
   "metadata": {},
   "outputs": [],
   "source": [
    "# run function to add all reviews of a given business as a list\n",
    "review_list = reviews_list(roberto_df, 'bus_id', 'Dulce de Leche Bakery', 'bus_add', 'review')\n",
    "review_list"
   ]
  },
  {
   "cell_type": "markdown",
   "metadata": {},
   "source": [
    "## Use Reviews from Selected Business to run ChatGPT Model"
   ]
  },
  {
   "cell_type": "code",
   "execution_count": null,
   "metadata": {},
   "outputs": [],
   "source": [
    "# import ChatOpenAI and os\n",
    "from langchain_openai import ChatOpenAI\n",
    "from dotenv import load_dotenv\n",
    "import os\n",
    "\n",
    "# Additional imports for prompt template and LLM chain.\n",
    "from langchain import PromptTemplate\n",
    "from langchain.chains import LLMChain"
   ]
  },
  {
   "cell_type": "code",
   "execution_count": null,
   "metadata": {},
   "outputs": [],
   "source": [
    "# Load environment variables.\n",
    "load_dotenv()\n",
    "\n",
    "# Set the model name for our LLMs.\n",
    "OPENAI_MODEL = \"gpt-3.5-turbo\"\n",
    "# Store the API key in a variable.\n",
    "OPENAI_API_KEY = os.getenv(\"OPENAI_API_KEY\")"
   ]
  },
  {
   "cell_type": "code",
   "execution_count": null,
   "metadata": {},
   "outputs": [],
   "source": [
    "# Initialize the model.\n",
    "llm=ChatOpenAI(openai_api_key=OPENAI_API_KEY, model_name=OPENAI_MODEL, temperature=0.3)\n",
    "\n",
    "# Define the format for the template.\n",
    "format = \"\"\"\n",
    "\n",
    "Provide a summary of the given reviews:{review_list} and three ways in which to improve the business. The summary should capture the main points and key details of the text \n",
    "while conveying the author's intended meaning accurately. The recommendations should be actionable, clear and conscise. Please ensure that the summary is well-organized and easy to read, \n",
    "with clear headings and subheadings to guide the reader through each section. The length of the summary should be appropriate to capture the main points and key details of the text, \n",
    "without including unnecessary information or becoming overly long.\n",
    "\n",
    "reviews = {review_list}\n",
    "\n",
    "\"\"\"\n",
    "\n",
    "# Construct the prompt template.\n",
    "prompt_template = PromptTemplate(\n",
    "    input_variables=[\"review_list\"],\n",
    "    template=format\n",
    ")\n",
    "\n",
    "# Construct a chain using this template.\n",
    "chain = LLMChain(llm=llm, prompt=prompt_template)\n",
    "\n",
    "# Define the input variable as a dictionary\n",
    "review_list = {\"review_list\": review_list}\n",
    "\n",
    "# Run the chain using the query as input and get the result.\n",
    "result = chain.invoke(review_list)\n",
    "results = result[\"text\"]\n",
    "\n",
    "# split the results by new lines to extract review summary and business recommendations\n",
    "results_list = results.split('\\n')\n",
    "reviews_summary = results_list[1]\n",
    "recommendations = results_list[4]\n",
    "\n",
    "\n",
    "print(result[\"text\"])"
   ]
  },
  {
   "cell_type": "markdown",
   "metadata": {},
   "source": [
    "*End Code Space*"
   ]
  },
  {
   "cell_type": "markdown",
   "metadata": {},
   "source": [
    "# **Odele's Code Space**"
   ]
  },
  {
   "cell_type": "markdown",
   "metadata": {},
   "source": [
    "## Additional Libraries and Dependencies;\n",
    "\n",
    "Application being developed with `Dash` by `Plotly`. Additional `pip install`s will be necessary."
   ]
  },
  {
   "cell_type": "code",
   "execution_count": null,
   "metadata": {},
   "outputs": [],
   "source": [
    "# Install necessary packages\n",
    "# Note: Uncomment if needed\n",
    "# ! pip install dash\n",
    "# ! pip install dash-bootstrap-components"
   ]
  },
  {
   "cell_type": "code",
   "execution_count": null,
   "metadata": {},
   "outputs": [],
   "source": [
    "# Import libraries and dependencies\n",
    "import pandas as pd\n",
    "\n",
    "# Dash\n",
    "from dash import Dash, dcc, html, callback\n",
    "from dash.dependencies import Input, Output, State\n",
    "from dash.exceptions import PreventUpdate\n",
    "\n",
    "# Dash Boostrap Components\n",
    "import dash_bootstrap_components as dbc\n",
    "\n",
    "# Plotly\n",
    "import plotly.express as px\n",
    "import plotly.graph_objects as go\n",
    "\n",
    "# Other\n",
    "import math"
   ]
  },
  {
   "cell_type": "markdown",
   "metadata": {},
   "source": [
    "## Components;\n",
    "\n",
    "Existing variables and functions may necessistate refactoring. Temporary facsimiles used for development."
   ]
  },
  {
   "cell_type": "code",
   "execution_count": null,
   "metadata": {},
   "outputs": [],
   "source": [
    "sample_set_df.columns"
   ]
  },
  {
   "cell_type": "code",
   "execution_count": null,
   "metadata": {},
   "outputs": [],
   "source": [
    "# Components\n",
    "'''\n",
    "Inputs and declearations necessary to make app function:\n",
    "\n",
    "user_input: a URL or name of a business (tbd) for which to fetch reviews\n",
    "\n",
    "sbmt_bttn: a submit button\n",
    "\n",
    "bus_id: an ID str or name of a business (tbd) to display for a given business\n",
    "\n",
    "bus_loc: an array or a str (tbd) representing the location(s) of a given business\n",
    "\n",
    "avg_rating: an int representing the average rating for a given business\n",
    "\n",
    "tot_ratings: an int representing the toal reviews submitted for a given business\n",
    "\n",
    "reviews: a dictionary of reviews containing a given rating and associated comment\n",
    "\n",
    "sentiment: a str representing the generated sentiment analysis based on all reviews\n",
    "\n",
    "recommendation: a str representing the generated recommendations based on the generated sentiment\n",
    "'''"
   ]
  },
  {
   "cell_type": "markdown",
   "metadata": {},
   "source": [
    "# Functions (Pt 2)\n",
    "\n",
    "While trained on Yelp! data, and developed for Google Reviews, the goal of the application is to be as univerally applicable to business reviews as possible - regardless of the source. The following functions were developed with their annotated purposes in mind:\n",
    "\n",
    "| **Function** | **Notes** |\n",
    "| :--- | :---|\n",
    "| `unique_locs_df()` | Creates a DataFrame with all unique locations in a given dataset |\n",
    "| `location_details()` | Generates a dictionary with geographic coordinates for all locations of a given business <br> *Note: To be run on the DataFrame generated by* `unique_locs_df()` |\n",
    "| `build_map()` | Constructs a Scattermapbox based on the locations from `location_details()` |\n",
    "| `apply_davidlingo()` | Generates the final summary of a business' reviews, or recommendations for improvement based off the reviews and overall sentiment <br> *Note: To be used with the ouputs of* `reviews_list()` *and* `general_sentiment()` |\n",
    "\n",
    "Each function outlined in more detail below requires a DataFrame with the following features:\n",
    "\n",
    "| **Feature** | **Notes** |\n",
    "| :--- | :--- |\n",
    "| `bus_name_col` | A text column with the name of a business |\n",
    "| `bus_add` | A text column with the street address of a business' location |\n",
    "| `bus_lat` | A float column with the latitude coordinate for a business' location |\n",
    "| `bus_lon` | A float column with the longitude coordinate for a business' location |\n",
    "| `rev_col` | A text column with available reviews |\n",
    "| `sent_lbl` | A text column with the generated sentiment classification <br> *Note: Generated through* `apply_roberto()` |\n",
    "| `sent_scr` | A text column with the generated sentiment classification <br> *Note: Generated through* `apply_roberto()` |"
   ]
  },
  {
   "cell_type": "code",
   "execution_count": null,
   "metadata": {},
   "outputs": [],
   "source": [
    "# Function to retrieve unique business locations\n",
    "def unique_locs_df(df, bus_name_col, bus_add, bus_lat, bus_lon):\n",
    "    '''\n",
    "    Gathers unique adresses and coordinates for unique locations into a DataFrame.\n",
    "\n",
    "    Args:\n",
    "        df (DataFrame):     Any DataFrame with sufficient data.\n",
    "        bus_name_col (str): A string with the feature name that contains the business name.\n",
    "        bus_add (str):      A string with the feature name that contains the business street address.\n",
    "        bus_lat (str):      A string with the feature name that contains the latitude of a location.\n",
    "        bus_lon (str):      A string with the feature name that contains the longitude of a location.\n",
    "    \n",
    "    Returns:\n",
    "        loc (DataFrame):    A DataFrame with only unique locations.\n",
    "\n",
    "    Raises:\n",
    "        KeyError:           If any passed str is not a valid column name in the DataFrame.\n",
    "        TypeError:          If `df` is not a DataFrame or if and feature is not a string.\n",
    "    '''\n",
    "    # Raises\n",
    "    if not isinstance(df, pd.DataFrame):\n",
    "        raise TypeError('The input `df` must be a pandas DataFrame.')\n",
    "    for param, name in zip(\n",
    "        [bus_name_col, bus_add, bus_lat, bus_lon],\n",
    "        ['bus_name_col', 'bus_add', 'bus_lat', 'bus_lon']\n",
    "    ):\n",
    "        if not isinstance(param, str):\n",
    "            raise TypeError(f\"The '{name}' parameter must be passed as a string.\")\n",
    "        if param not in df.columns:\n",
    "            raise KeyError(f\"Column '{param}' not found in DataFrame.\")\n",
    "    \n",
    "    # Generating a DataFrame of unique locations\n",
    "    locs = df[[bus_name_col, bus_add, bus_lat, bus_lon]].drop_duplicates()\n",
    "    \n",
    "    # Returning the DataFrame\n",
    "    return locs"
   ]
  },
  {
   "cell_type": "code",
   "execution_count": null,
   "metadata": {},
   "outputs": [],
   "source": [
    "# Function to generate a `locations` list of dictionaries\n",
    "def location_details(df, bus_name_col, bus_name, bus_add, bus_lat, bus_lon):\n",
    "    '''\n",
    "    Transfers the latitude, longitude, and a concatenated identifier into a dictionary for later use in generating a Scattermapbox figure.\n",
    "\n",
    "    Note:\n",
    "        Advised to run `location_details()` on the DataFrame generated by `unique_locs_df()`\n",
    "\n",
    "    Args:\n",
    "        df (DataFrame):     Any DataFrame with sufficient data.\n",
    "        bus_name_col (str): A string with the feature name that contains the business name.\n",
    "        bus_name (str):     A string of a specific business' name for which to map the locations.\n",
    "        bus_add (str):      A string with the feature name that contains the business street address.\n",
    "        bus_lat (str):      A string with the feature name that contains the latitude of a location.\n",
    "        bus_lon (str):      A string with the feature name that contains the longitude of a location.\n",
    "\n",
    "    Returns:\n",
    "        locs (dict):        A list of dictionaries with the necessary details for building a figure.\n",
    "    \n",
    "    Raises:\n",
    "        KeyError:           If any passed str is not a valid column name in the DataFrame.\n",
    "        TypeError:          If `df` is not a DataFrame or if and feature is not a string.\n",
    "        ValueError:         If `bus_name` is not a value in `bus_col_name`.\n",
    "    '''\n",
    "    # Raises\n",
    "    if not isinstance(df, pd.DataFrame):\n",
    "        raise TypeError('The input `df` must be a pandas DataFrame.')\n",
    "    for param, name in zip(\n",
    "        [bus_name_col, bus_add, bus_lat, bus_lon],\n",
    "        ['bus_name_col', 'bus_add', 'bus_lat', 'bus_lon']\n",
    "    ):\n",
    "        if not isinstance(param, str):\n",
    "            raise TypeError(f\"The '{name}' parameter must be passed as a string.\")\n",
    "        if param not in df.columns:\n",
    "            raise KeyError(f\"Column '{param}' not found in DataFrame.\")\n",
    "    if bus_name not in df[bus_name_col].values:\n",
    "        raise ValueError(f\"'{bus_name}' not found in column '{bus_name_col}'.\")\n",
    "    \n",
    "    # Creating a list of features to retain\n",
    "    retain = [bus_name_col, bus_add, bus_lat, bus_lon]\n",
    "\n",
    "    # Filtering `df`\n",
    "    filtered_df = df[retain][df[bus_name_col] == bus_name].copy()\n",
    "\n",
    "    # Intializing a `name` feature\n",
    "\n",
    "    # Creating a concatenated `name` feature with a business' name and location address\n",
    "    filtered_df['loc_name'] = filtered_df[bus_name_col] + ' - ' + filtered_df[bus_add]\n",
    "\n",
    "    # Renaming features\n",
    "    filtered_df.rename(columns={bus_lat: 'lat', bus_lon: 'lon'}, inplace=True)\n",
    "\n",
    "    # Dropping features\n",
    "    filtered_df.drop([bus_name_col, bus_add], axis=1, inplace=True)\n",
    "\n",
    "    # Converting `filtered_df` to a dictionary\n",
    "    locs = filtered_df.to_dict('records')\n",
    "\n",
    "    # Returning list of dictionaries\n",
    "    return locs"
   ]
  },
  {
   "cell_type": "code",
   "execution_count": null,
   "metadata": {},
   "outputs": [],
   "source": [
    "# Function to build a map\n",
    "def build_map(locs):\n",
    "    '''\n",
    "    Generates and updates a Scattermapbox figure based on the location details previously generated.\n",
    "\n",
    "    Note:\n",
    "        To be run on the dictionary returned by `location_details()`.\n",
    "\n",
    "    Args:\n",
    "        locs (dict):    A dictionary containing the latitude and longitude coordinates, as well as the business name and street address, of all given locations for that business.\n",
    "    \n",
    "    Returns:\n",
    "        fig (fig):      A Scattermapbox formated to an appropriate zoom level and centered on all given locations for a business.\n",
    "    \n",
    "    Raises:\n",
    "        TypeError:      If `locs` is not a list of dictionaries, or if the dictionaries do not contain the expected keys.\n",
    "        KeyError:       If any of the expected keys are missing from the dictionaries.\n",
    "        ValueError:     If `locs` is empty, or if latitude and longitude values are not valid numbers.\n",
    "    '''\n",
    "    # Raises\n",
    "    if not isinstance(locs, list) or not all(isinstance(loc, dict) for loc in locs):\n",
    "        raise TypeError(\"`locs` must be a list of dictionaries.\")\n",
    "    required_keys = {'lat', 'lon', 'loc_name'}\n",
    "    for loc in locs:\n",
    "        if not required_keys.issubset(loc):\n",
    "            raise KeyError(f\"Each dictionary in `locs` must contain the keys: {required_keys}.\")\n",
    "    if not locs:\n",
    "        raise ValueError(\"`locs` cannot be an empty list.\")\n",
    "\n",
    "    # Generating location text\n",
    "    hover_text = [loc['loc_name'] for loc in locs]\n",
    "\n",
    "    # Generating location lat and lon\n",
    "    lat_loc = [loc['lat'] for loc in locs]\n",
    "    lon_loc = [loc['lon'] for loc in locs]\n",
    "\n",
    "    # Calculating middle point for lat and lon\n",
    "    lat_mean = sum(lat_loc)/len(lat_loc)\n",
    "    lon_mean = sum(lon_loc)/len(lon_loc)\n",
    "\n",
    "    # Calculating borders of locatoins\n",
    "    lat_min, lat_max = min(lat_loc), max(lat_loc)\n",
    "    lon_min, lon_max = min(lon_loc), max(lon_loc)\n",
    "\n",
    "    # Calculating size of borders\n",
    "    lat_diff = lat_max - lat_min\n",
    "    lon_diff = lon_max - lon_min\n",
    "\n",
    "    # Using `log()` to scale zoom based on distances at slower rates for larger geographic areas\n",
    "    zoom = min(7 - math.log(lat_diff + 0.1), 7 - math.log(lon_diff + 0.1))\n",
    "\n",
    "    # Creating the map figure\n",
    "    fig = go.Figure(go.Scattermapbox(\n",
    "        lat=lat_loc,\n",
    "        lon=lon_loc,\n",
    "        mode='markers',\n",
    "        hovertext=hover_text,\n",
    "        marker=dict(size=10)\n",
    "    ))\n",
    "\n",
    "    # Updating layout with map style and properties\n",
    "    fig.update_layout(\n",
    "        mapbox={\n",
    "            'style': 'open-street-map',\n",
    "            'center': {'lon': lon_mean, 'lat': lat_mean},\n",
    "            'zoom': zoom\n",
    "        },\n",
    "        margin={\"r\":0,\"t\":0,\"l\":0,\"b\":0},\n",
    "        height=500\n",
    "    )\n",
    "\n",
    "    # Returning figure\n",
    "    return fig"
   ]
  },
  {
   "cell_type": "code",
   "execution_count": null,
   "metadata": {},
   "outputs": [],
   "source": [
    "# Function to generate OpenAI summary or recommendations\n",
    "def apply_davidlingo(gen_sent, reviews):\n",
    "    '''\n",
    "    Assesses the general sentiment and reviews for a given business to then conditionally output either summary of positive reviews, or recommendations based on neutral or negative reviews.\n",
    "\n",
    "    Note:\n",
    "        To be run after `apply_roberto()`, `general_sentiment()`, and `reviews_list()`.\n",
    "    '''\n",
    "    # Raises\n",
    "    \n",
    "    # Placeholder\n",
    "    gen_sent = gen_sent\n",
    "    reviews = reviews\n",
    "\n",
    "    # Placeholder\n",
    "    rev_recs = 'This is a placeholder for applying a final text object generated by an OpenAI LangChain.'\n",
    "    # Return final summary or recommendations\n",
    "    return rev_recs"
   ]
  },
  {
   "cell_type": "markdown",
   "metadata": {},
   "source": [
    "#### Temporary Components;\n",
    "\n",
    "Starting features and figures for app loading state"
   ]
  },
  {
   "cell_type": "code",
   "execution_count": null,
   "metadata": {},
   "outputs": [],
   "source": [
    "# Temporary default map\n",
    "\n",
    "# Create a default map centered on the US\n",
    "fig_placeholder = go.Figure(go.Scattermapbox())\n",
    "fig_placeholder.update_layout(\n",
    "    mapbox={\n",
    "        'style': \"open-street-map\",\n",
    "        'center': {'lon': -98.583, 'lat': 39.833},\n",
    "        'zoom': 2.5\n",
    "    },\n",
    "    margin={\"r\":0,\"t\":0,\"l\":0,\"b\":0},\n",
    "    height=400\n",
    ")"
   ]
  },
  {
   "cell_type": "markdown",
   "metadata": {},
   "source": [
    "## App Development;\n",
    "\n",
    "Initialization, construction, and launch of app.\n",
    "\n",
    "Still very much in development!"
   ]
  },
  {
   "cell_type": "code",
   "execution_count": null,
   "metadata": {},
   "outputs": [],
   "source": [
    "# # Initialize app\n",
    "# app = Dash(external_stylesheets=[dbc.themes.QUARTZ])\n",
    "\n",
    "# # Layout\n",
    "# app.layout = html.Div([\n",
    "#     # Stack to establish negative space for whole of app\n",
    "#     dbc.Stack(\n",
    "#         [\n",
    "#             # Blank col for spacing\n",
    "#             dbc.Col('', width=1),\n",
    "#             # Col with all of GUI\n",
    "#             dbc.Col(\n",
    "#                 [\n",
    "#                     # Row for header\n",
    "#                     dbc.Row(\n",
    "#                         html.H1(\n",
    "#                             'Review Sentiment Analysis and Recommendations',\n",
    "#                             style={'textAlign':'center'}\n",
    "#                         ), style={'margin-top': '20px', 'margin-bottom': '20px'}\n",
    "#                     ),\n",
    "#                     # Row for subheader\n",
    "#                     dbc.Row(\n",
    "#                         html.H3(\n",
    "#                             'An interactive application to leverage customer reviews into improved businesss',\n",
    "#                             style={'textAlign':'center'}\n",
    "#                         ), style={'margin-bottom': '20px'}\n",
    "#                     ),\n",
    "#                     # Row for user input\n",
    "#                     dbc.Stack(\n",
    "#                         [\n",
    "#                             # User input\n",
    "#                             dbc.Input(\n",
    "#                                 id='user_input',\n",
    "#                                 type='text',\n",
    "#                                 placeholder='Input a Business Name'\n",
    "#                             ),\n",
    "#                             # Submit button\n",
    "#                             dbc.Button(\n",
    "#                                 'Submit',\n",
    "#                                 id='sbmt_bttn',\n",
    "#                                 n_clicks=0\n",
    "#                             )\n",
    "#                         ],\n",
    "#                         style={'margin-bottom': '20px'},\n",
    "#                         direction='horizontal',\n",
    "#                         gap=1\n",
    "#                     ),\n",
    "#                     # Row for business name and ratings\n",
    "#                     dbc.Stack(\n",
    "#                         [\n",
    "#                             # Business name\n",
    "#                             dbc.Col(\n",
    "#                                 dbc.Card(children='Business Name', id='bus_nm', body=True), width=8\n",
    "#                             ),\n",
    "#                             # Average rating\n",
    "#                             dbc.Col(\n",
    "#                                 dbc.Card(children='Average Rating', id='avg_rtng', body=True), width=2\n",
    "#                             ),\n",
    "#                             # Total reviews\n",
    "#                             dbc.Col(\n",
    "#                                 dbc.Card(children='Total Reviews', id='tot_rvws', body=True), width=2\n",
    "#                             )\n",
    "#                         ],\n",
    "#                         style={'margin-bottom': '20px'},\n",
    "#                         direction='horizontal',\n",
    "#                         gap=1\n",
    "#                     ),\n",
    "#                     # Row for map and accordion\n",
    "#                     dbc.Stack(\n",
    "#                         [\n",
    "#                             # Map\n",
    "#                             dbc.Col(\n",
    "#                                 dcc.Graph(figure=fig_placeholder, id='bus_map'),\n",
    "#                                 width=5\n",
    "#                             ),\n",
    "#                             # accordion\n",
    "#                             dbc.Col(\n",
    "#                                 dbc.Accordion(\n",
    "#                                     [\n",
    "#                                         # Reviews\n",
    "#                                         dbc.AccordionItem(\n",
    "#                                             html.P(\n",
    "#                                                 id='reviews',\n",
    "#                                                 children='Select a business to see reviews.',\n",
    "#                                                 style={'max-height': '300px', 'overflow-y': 'auto'}\n",
    "#                                             ),\n",
    "#                                             title='Reviews'\n",
    "#                                         ),\n",
    "#                                         # Sentiment analysis\n",
    "#                                         dbc.AccordionItem(\n",
    "#                                             html.P(\n",
    "#                                                 id='sentiment',\n",
    "#                                                 children='Select a business to generate sentiment analysis.',\n",
    "#                                                 style={'max-height': '300px', 'overflow-y': 'auto'}\n",
    "#                                             ),\n",
    "#                                             title='Sentiment Analysis'\n",
    "#                                         ),\n",
    "#                                         # Recommendations\n",
    "#                                         dbc.AccordionItem(\n",
    "#                                             html.P(\n",
    "#                                                 id='recommend',\n",
    "#                                                 children='Select a business to generate recommendations.',\n",
    "#                                                 style={'max-height': '300px', 'overflow-y': 'auto'}\n",
    "#                                             ),\n",
    "#                                             title='Recommendations'\n",
    "#                                         )\n",
    "#                                     ]\n",
    "#                                 ),\n",
    "#                                 align='start',\n",
    "#                                 width=7\n",
    "#                             )\n",
    "#                         ],\n",
    "#                         direction='horizontal',\n",
    "#                         gap=1\n",
    "#                     )\n",
    "#                 ], width=10\n",
    "#             ),\n",
    "#             # Blank col for spacing\n",
    "#             dbc.Col('', width=1)\n",
    "#         ],\n",
    "#         direction='horizontal',\n",
    "#         gap=1\n",
    "#     )\n",
    "# ])\n",
    "\n",
    "# # Callback (in place for development only, will move to own cell once developed)\n",
    "# @callback(\n",
    "#     Output('bus_nm', 'children'),       # Name of the business == `user_input`\n",
    "#     Output('avg_rtng', 'children'),     # Average rating out of 5 stars\n",
    "#     Output('tot_rvws', 'children'),     # Total number of submitted reviews\n",
    "#     Output('bus_map', 'figure'),        # Lat and Lon of business location(s)\n",
    "#     Output('reviews', 'children'),      # Any review(s) left by users \n",
    "#     Output('sentiment', 'children'),    # Generated seniment analysis based on reviews\n",
    "#     Output('recommend', 'children'),    # Generated recommendations based on sentiment analysis\n",
    "#     Input('sbmt_bttn', 'n_clicks'),     # Submit button to begin generation of content\n",
    "#     State('user_input', 'value')        # Business name to be entered by user\n",
    "# )\n",
    "\n",
    "# # Update content\n",
    "# def update_content(n_clicks, user_input):\n",
    "#     if n_clicks == 0 or not user_input:\n",
    "#         raise PreventUpdate\n",
    "    \n",
    "#     business_name = user_input\n",
    "#     avg_rating = f'Average Rating: {4.5}'\n",
    "#     total_reviews = f'Total Reviews: {n_clicks}'\n",
    "#     fig_update = fig\n",
    "#     reviews = 'Collected reviews go here. Content will scroll if height of 300px exceeded.'\n",
    "#     sentiment = 'Generated sentiment analysis goes here. Content will scroll if height of 300px exceeded.'\n",
    "#     recommendation = 'Generated recommendations go here. Content will scroll if height of 300px exceeded.'\n",
    "#     return business_name, avg_rating, total_reviews, fig_update, reviews, sentiment, recommendation\n",
    "\n",
    "# # Launch app (in place for development only, will move to own cell once developed)\n",
    "# app.run(jupyter_mode='tab')\n",
    "# # app.run_server(debug=True)"
   ]
  },
  {
   "cell_type": "markdown",
   "metadata": {},
   "source": [
    "*End Code Space*"
   ]
  },
  {
   "cell_type": "markdown",
   "metadata": {},
   "source": [
    "# **Vanessa's Code Space**"
   ]
  },
  {
   "cell_type": "code",
   "execution_count": null,
   "metadata": {},
   "outputs": [],
   "source": []
  },
  {
   "cell_type": "markdown",
   "metadata": {},
   "source": [
    "*End Code Space*"
   ]
  },
  {
   "cell_type": "markdown",
   "metadata": {},
   "source": [
    "# **Train Test Splitting**"
   ]
  },
  {
   "cell_type": "code",
   "execution_count": null,
   "metadata": {},
   "outputs": [],
   "source": []
  },
  {
   "cell_type": "markdown",
   "metadata": {},
   "source": [
    "# **Scaling and Encoding**"
   ]
  },
  {
   "cell_type": "code",
   "execution_count": null,
   "metadata": {},
   "outputs": [],
   "source": []
  },
  {
   "cell_type": "markdown",
   "metadata": {},
   "source": [
    "# **Modeling**"
   ]
  },
  {
   "cell_type": "code",
   "execution_count": null,
   "metadata": {},
   "outputs": [],
   "source": []
  },
  {
   "cell_type": "markdown",
   "metadata": {},
   "source": [
    "# **Application (?)**"
   ]
  },
  {
   "cell_type": "code",
   "execution_count": null,
   "metadata": {},
   "outputs": [],
   "source": []
  },
  {
   "cell_type": "markdown",
   "metadata": {},
   "source": [
    "# **Findings**"
   ]
  },
  {
   "cell_type": "markdown",
   "metadata": {},
   "source": [
    "# **Citations and Licenses**"
   ]
  },
  {
   "cell_type": "markdown",
   "metadata": {},
   "source": [
    "## Citations"
   ]
  },
  {
   "cell_type": "markdown",
   "metadata": {},
   "source": [
    "## Licenses"
   ]
  },
  {
   "cell_type": "markdown",
   "metadata": {},
   "source": []
  }
 ],
 "metadata": {
  "kernelspec": {
   "display_name": "base",
   "language": "python",
   "name": "python3"
  },
  "language_info": {
   "codemirror_mode": {
    "name": "ipython",
    "version": 3
   },
   "file_extension": ".py",
   "mimetype": "text/x-python",
   "name": "python",
   "nbconvert_exporter": "python",
   "pygments_lexer": "ipython3",
   "version": "3.11.7"
  }
 },
 "nbformat": 4,
 "nbformat_minor": 4
}
=======
{
 "cells": [
  {
   "cell_type": "markdown",
   "metadata": {},
   "source": [
    "# **Project Title**\n",
    "#### *Project Subtitle*"
   ]
  },
  {
   "cell_type": "markdown",
   "metadata": {},
   "source": [
    "## Hypothesis;\n",
    "\n",
    "Project thesis"
   ]
  },
  {
   "cell_type": "code",
   "execution_count": null,
   "metadata": {},
   "outputs": [],
   "source": [
    "# Importing dependencies\n",
    "import pandas as pd"
   ]
  },
  {
   "cell_type": "markdown",
   "metadata": {},
   "source": [
    "# **Data**"
   ]
  },
  {
   "cell_type": "markdown",
   "metadata": {},
   "source": [
    "## Dataset"
   ]
  },
  {
   "cell_type": "markdown",
   "metadata": {},
   "source": [
    "Dataset details"
   ]
  },
  {
   "cell_type": "code",
   "execution_count": null,
   "metadata": {},
   "outputs": [],
   "source": [
    "# Reading in data\n",
    "# (potentially?)"
   ]
  },
  {
   "cell_type": "markdown",
   "metadata": {},
   "source": [
    "### EDA"
   ]
  },
  {
   "cell_type": "code",
   "execution_count": null,
   "metadata": {},
   "outputs": [],
   "source": [
    "# Beginning EDA"
   ]
  },
  {
   "cell_type": "markdown",
   "metadata": {},
   "source": [
    "# **Ramona's Code Space**"
   ]
  },
  {
   "cell_type": "code",
   "execution_count": null,
   "metadata": {},
   "outputs": [],
   "source": []
  },
  {
   "cell_type": "markdown",
   "metadata": {},
   "source": [
    "*End Code Space*"
   ]
  },
  {
   "cell_type": "markdown",
   "metadata": {},
   "source": [
    "# **Christian's Code Space**"
   ]
  },
  {
   "cell_type": "markdown",
   "metadata": {},
   "source": [
    "### Dependencies"
   ]
  },
  {
   "cell_type": "code",
   "execution_count": 1,
   "metadata": {},
   "outputs": [],
   "source": [
    "import os\n",
    "import numpy as np\n",
    "import scipy as sp\n",
    "import pandas as pd\n",
    "import matplotlib.pyplot as plt\n",
    "import seaborn as sns\n",
    "\n",
    "import json"
   ]
  },
  {
   "cell_type": "markdown",
   "metadata": {},
   "source": [
    "#### Resources path"
   ]
  },
  {
   "cell_type": "code",
   "execution_count": 3,
   "metadata": {},
   "outputs": [],
   "source": [
    "### Main Path\n",
    "path = os.getcwd()+'\\\\Resources'\n",
    "\n",
    "business_dataset = path+'\\\\yelp_academic_dataset_business.json'\n",
    "checkin_dataset  = path +'\\\\yelp_academic_dataset_checkin.json'\n",
    "reviews_dataset  = path + '\\\\yelp_academic_dataset_review.json'\n",
    "tip_dataset      = path + '\\\\yelp_academic_dataset_tip.json'\n",
    "user_dataset     = path + '\\\\yelp_academic_dataset_user.json'"
   ]
  },
  {
   "cell_type": "markdown",
   "metadata": {},
   "source": [
    "---"
   ]
  },
  {
   "cell_type": "markdown",
   "metadata": {},
   "source": [
    "#### Business dataset"
   ]
  },
  {
   "cell_type": "markdown",
   "metadata": {},
   "source": [
    "#### <font color='blue'> Description:</font> \n",
    "**Contains business data including location data, attributes, and categories.**"
   ]
  },
  {
   "cell_type": "code",
   "execution_count": null,
   "metadata": {},
   "outputs": [],
   "source": []
  },
  {
   "cell_type": "code",
   "execution_count": 10,
   "metadata": {},
   "outputs": [],
   "source": [
    "with open(business_dataset, \"r\",encoding = 'utf8') as f:\n",
    "    business_df = pd.read_json(f, orient=\"records\", lines=True,)"
   ]
  },
  {
   "cell_type": "code",
   "execution_count": 11,
   "metadata": {},
   "outputs": [
    {
     "data": {
      "text/html": [
       "<div>\n",
       "<style scoped>\n",
       "    .dataframe tbody tr th:only-of-type {\n",
       "        vertical-align: middle;\n",
       "    }\n",
       "\n",
       "    .dataframe tbody tr th {\n",
       "        vertical-align: top;\n",
       "    }\n",
       "\n",
       "    .dataframe thead th {\n",
       "        text-align: right;\n",
       "    }\n",
       "</style>\n",
       "<table border=\"1\" class=\"dataframe\">\n",
       "  <thead>\n",
       "    <tr style=\"text-align: right;\">\n",
       "      <th></th>\n",
       "      <th>business_id</th>\n",
       "      <th>name</th>\n",
       "      <th>address</th>\n",
       "      <th>city</th>\n",
       "      <th>state</th>\n",
       "      <th>postal_code</th>\n",
       "      <th>latitude</th>\n",
       "      <th>longitude</th>\n",
       "      <th>stars</th>\n",
       "      <th>review_count</th>\n",
       "      <th>is_open</th>\n",
       "      <th>attributes</th>\n",
       "      <th>categories</th>\n",
       "      <th>hours</th>\n",
       "    </tr>\n",
       "  </thead>\n",
       "  <tbody>\n",
       "    <tr>\n",
       "      <th>0</th>\n",
       "      <td>Pns2l4eNsfO8kk83dixA6A</td>\n",
       "      <td>Abby Rappoport, LAC, CMQ</td>\n",
       "      <td>1616 Chapala St, Ste 2</td>\n",
       "      <td>Santa Barbara</td>\n",
       "      <td>CA</td>\n",
       "      <td>93101</td>\n",
       "      <td>34.426679</td>\n",
       "      <td>-119.711197</td>\n",
       "      <td>5.0</td>\n",
       "      <td>7</td>\n",
       "      <td>0</td>\n",
       "      <td>{'ByAppointmentOnly': 'True'}</td>\n",
       "      <td>Doctors, Traditional Chinese Medicine, Naturop...</td>\n",
       "      <td>None</td>\n",
       "    </tr>\n",
       "    <tr>\n",
       "      <th>1</th>\n",
       "      <td>mpf3x-BjTdTEA3yCZrAYPw</td>\n",
       "      <td>The UPS Store</td>\n",
       "      <td>87 Grasso Plaza Shopping Center</td>\n",
       "      <td>Affton</td>\n",
       "      <td>MO</td>\n",
       "      <td>63123</td>\n",
       "      <td>38.551126</td>\n",
       "      <td>-90.335695</td>\n",
       "      <td>3.0</td>\n",
       "      <td>15</td>\n",
       "      <td>1</td>\n",
       "      <td>{'BusinessAcceptsCreditCards': 'True'}</td>\n",
       "      <td>Shipping Centers, Local Services, Notaries, Ma...</td>\n",
       "      <td>{'Monday': '0:0-0:0', 'Tuesday': '8:0-18:30', ...</td>\n",
       "    </tr>\n",
       "    <tr>\n",
       "      <th>2</th>\n",
       "      <td>tUFrWirKiKi_TAnsVWINQQ</td>\n",
       "      <td>Target</td>\n",
       "      <td>5255 E Broadway Blvd</td>\n",
       "      <td>Tucson</td>\n",
       "      <td>AZ</td>\n",
       "      <td>85711</td>\n",
       "      <td>32.223236</td>\n",
       "      <td>-110.880452</td>\n",
       "      <td>3.5</td>\n",
       "      <td>22</td>\n",
       "      <td>0</td>\n",
       "      <td>{'BikeParking': 'True', 'BusinessAcceptsCredit...</td>\n",
       "      <td>Department Stores, Shopping, Fashion, Home &amp; G...</td>\n",
       "      <td>{'Monday': '8:0-22:0', 'Tuesday': '8:0-22:0', ...</td>\n",
       "    </tr>\n",
       "    <tr>\n",
       "      <th>3</th>\n",
       "      <td>MTSW4McQd7CbVtyjqoe9mw</td>\n",
       "      <td>St Honore Pastries</td>\n",
       "      <td>935 Race St</td>\n",
       "      <td>Philadelphia</td>\n",
       "      <td>PA</td>\n",
       "      <td>19107</td>\n",
       "      <td>39.955505</td>\n",
       "      <td>-75.155564</td>\n",
       "      <td>4.0</td>\n",
       "      <td>80</td>\n",
       "      <td>1</td>\n",
       "      <td>{'RestaurantsDelivery': 'False', 'OutdoorSeati...</td>\n",
       "      <td>Restaurants, Food, Bubble Tea, Coffee &amp; Tea, B...</td>\n",
       "      <td>{'Monday': '7:0-20:0', 'Tuesday': '7:0-20:0', ...</td>\n",
       "    </tr>\n",
       "    <tr>\n",
       "      <th>4</th>\n",
       "      <td>mWMc6_wTdE0EUBKIGXDVfA</td>\n",
       "      <td>Perkiomen Valley Brewery</td>\n",
       "      <td>101 Walnut St</td>\n",
       "      <td>Green Lane</td>\n",
       "      <td>PA</td>\n",
       "      <td>18054</td>\n",
       "      <td>40.338183</td>\n",
       "      <td>-75.471659</td>\n",
       "      <td>4.5</td>\n",
       "      <td>13</td>\n",
       "      <td>1</td>\n",
       "      <td>{'BusinessAcceptsCreditCards': 'True', 'Wheelc...</td>\n",
       "      <td>Brewpubs, Breweries, Food</td>\n",
       "      <td>{'Wednesday': '14:0-22:0', 'Thursday': '16:0-2...</td>\n",
       "    </tr>\n",
       "  </tbody>\n",
       "</table>\n",
       "</div>"
      ],
      "text/plain": [
       "              business_id                      name  \\\n",
       "0  Pns2l4eNsfO8kk83dixA6A  Abby Rappoport, LAC, CMQ   \n",
       "1  mpf3x-BjTdTEA3yCZrAYPw             The UPS Store   \n",
       "2  tUFrWirKiKi_TAnsVWINQQ                    Target   \n",
       "3  MTSW4McQd7CbVtyjqoe9mw        St Honore Pastries   \n",
       "4  mWMc6_wTdE0EUBKIGXDVfA  Perkiomen Valley Brewery   \n",
       "\n",
       "                           address           city state postal_code  \\\n",
       "0           1616 Chapala St, Ste 2  Santa Barbara    CA       93101   \n",
       "1  87 Grasso Plaza Shopping Center         Affton    MO       63123   \n",
       "2             5255 E Broadway Blvd         Tucson    AZ       85711   \n",
       "3                      935 Race St   Philadelphia    PA       19107   \n",
       "4                    101 Walnut St     Green Lane    PA       18054   \n",
       "\n",
       "    latitude   longitude  stars  review_count  is_open  \\\n",
       "0  34.426679 -119.711197    5.0             7        0   \n",
       "1  38.551126  -90.335695    3.0            15        1   \n",
       "2  32.223236 -110.880452    3.5            22        0   \n",
       "3  39.955505  -75.155564    4.0            80        1   \n",
       "4  40.338183  -75.471659    4.5            13        1   \n",
       "\n",
       "                                          attributes  \\\n",
       "0                      {'ByAppointmentOnly': 'True'}   \n",
       "1             {'BusinessAcceptsCreditCards': 'True'}   \n",
       "2  {'BikeParking': 'True', 'BusinessAcceptsCredit...   \n",
       "3  {'RestaurantsDelivery': 'False', 'OutdoorSeati...   \n",
       "4  {'BusinessAcceptsCreditCards': 'True', 'Wheelc...   \n",
       "\n",
       "                                          categories  \\\n",
       "0  Doctors, Traditional Chinese Medicine, Naturop...   \n",
       "1  Shipping Centers, Local Services, Notaries, Ma...   \n",
       "2  Department Stores, Shopping, Fashion, Home & G...   \n",
       "3  Restaurants, Food, Bubble Tea, Coffee & Tea, B...   \n",
       "4                          Brewpubs, Breweries, Food   \n",
       "\n",
       "                                               hours  \n",
       "0                                               None  \n",
       "1  {'Monday': '0:0-0:0', 'Tuesday': '8:0-18:30', ...  \n",
       "2  {'Monday': '8:0-22:0', 'Tuesday': '8:0-22:0', ...  \n",
       "3  {'Monday': '7:0-20:0', 'Tuesday': '7:0-20:0', ...  \n",
       "4  {'Wednesday': '14:0-22:0', 'Thursday': '16:0-2...  "
      ]
     },
     "execution_count": 11,
     "metadata": {},
     "output_type": "execute_result"
    }
   ],
   "source": [
    "business_df.head()"
   ]
  },
  {
   "cell_type": "markdown",
   "metadata": {},
   "source": [
    "#### Info"
   ]
  },
  {
   "cell_type": "code",
   "execution_count": 13,
   "metadata": {},
   "outputs": [
    {
     "name": "stdout",
     "output_type": "stream",
     "text": [
      "<class 'pandas.core.frame.DataFrame'>\n",
      "RangeIndex: 150346 entries, 0 to 150345\n",
      "Data columns (total 14 columns):\n",
      " #   Column        Non-Null Count   Dtype  \n",
      "---  ------        --------------   -----  \n",
      " 0   business_id   150346 non-null  object \n",
      " 1   name          150346 non-null  object \n",
      " 2   address       150346 non-null  object \n",
      " 3   city          150346 non-null  object \n",
      " 4   state         150346 non-null  object \n",
      " 5   postal_code   150346 non-null  object \n",
      " 6   latitude      150346 non-null  float64\n",
      " 7   longitude     150346 non-null  float64\n",
      " 8   stars         150346 non-null  float64\n",
      " 9   review_count  150346 non-null  int64  \n",
      " 10  is_open       150346 non-null  int64  \n",
      " 11  attributes    136602 non-null  object \n",
      " 12  categories    150243 non-null  object \n",
      " 13  hours         127123 non-null  object \n",
      "dtypes: float64(3), int64(2), object(9)\n",
      "memory usage: 16.1+ MB\n"
     ]
    }
   ],
   "source": [
    "business_df.info()"
   ]
  },
  {
   "cell_type": "code",
   "execution_count": null,
   "metadata": {},
   "outputs": [],
   "source": []
  },
  {
   "cell_type": "code",
   "execution_count": null,
   "metadata": {},
   "outputs": [],
   "source": []
  },
  {
   "cell_type": "code",
   "execution_count": null,
   "metadata": {},
   "outputs": [],
   "source": []
  },
  {
   "cell_type": "markdown",
   "metadata": {},
   "source": [
    "---"
   ]
  },
  {
   "cell_type": "markdown",
   "metadata": {},
   "source": [
    "#### Checkin dataset"
   ]
  },
  {
   "cell_type": "markdown",
   "metadata": {},
   "source": [
    "#### <font color='blue'> Description:</font>\n",
    "**Checkins on a business.**"
   ]
  },
  {
   "cell_type": "code",
   "execution_count": null,
   "metadata": {},
   "outputs": [],
   "source": []
  },
  {
   "cell_type": "code",
   "execution_count": 24,
   "metadata": {},
   "outputs": [],
   "source": [
    "with open(checkin_dataset, \"r\",encoding = 'utf8') as f:\n",
    "    checkin_df = pd.read_json(f, orient=\"records\", lines=True,)"
   ]
  },
  {
   "cell_type": "code",
   "execution_count": 25,
   "metadata": {},
   "outputs": [
    {
     "data": {
      "text/html": [
       "<div>\n",
       "<style scoped>\n",
       "    .dataframe tbody tr th:only-of-type {\n",
       "        vertical-align: middle;\n",
       "    }\n",
       "\n",
       "    .dataframe tbody tr th {\n",
       "        vertical-align: top;\n",
       "    }\n",
       "\n",
       "    .dataframe thead th {\n",
       "        text-align: right;\n",
       "    }\n",
       "</style>\n",
       "<table border=\"1\" class=\"dataframe\">\n",
       "  <thead>\n",
       "    <tr style=\"text-align: right;\">\n",
       "      <th></th>\n",
       "      <th>business_id</th>\n",
       "      <th>date</th>\n",
       "    </tr>\n",
       "  </thead>\n",
       "  <tbody>\n",
       "    <tr>\n",
       "      <th>0</th>\n",
       "      <td>---kPU91CF4Lq2-WlRu9Lw</td>\n",
       "      <td>2020-03-13 21:10:56, 2020-06-02 22:18:06, 2020...</td>\n",
       "    </tr>\n",
       "    <tr>\n",
       "      <th>1</th>\n",
       "      <td>--0iUa4sNDFiZFrAdIWhZQ</td>\n",
       "      <td>2010-09-13 21:43:09, 2011-05-04 23:08:15, 2011...</td>\n",
       "    </tr>\n",
       "    <tr>\n",
       "      <th>2</th>\n",
       "      <td>--30_8IhuyMHbSOcNWd6DQ</td>\n",
       "      <td>2013-06-14 23:29:17, 2014-08-13 23:20:22</td>\n",
       "    </tr>\n",
       "    <tr>\n",
       "      <th>3</th>\n",
       "      <td>--7PUidqRWpRSpXebiyxTg</td>\n",
       "      <td>2011-02-15 17:12:00, 2011-07-28 02:46:10, 2012...</td>\n",
       "    </tr>\n",
       "    <tr>\n",
       "      <th>4</th>\n",
       "      <td>--7jw19RH9JKXgFohspgQw</td>\n",
       "      <td>2014-04-21 20:42:11, 2014-04-28 21:04:46, 2014...</td>\n",
       "    </tr>\n",
       "  </tbody>\n",
       "</table>\n",
       "</div>"
      ],
      "text/plain": [
       "              business_id                                               date\n",
       "0  ---kPU91CF4Lq2-WlRu9Lw  2020-03-13 21:10:56, 2020-06-02 22:18:06, 2020...\n",
       "1  --0iUa4sNDFiZFrAdIWhZQ  2010-09-13 21:43:09, 2011-05-04 23:08:15, 2011...\n",
       "2  --30_8IhuyMHbSOcNWd6DQ           2013-06-14 23:29:17, 2014-08-13 23:20:22\n",
       "3  --7PUidqRWpRSpXebiyxTg  2011-02-15 17:12:00, 2011-07-28 02:46:10, 2012...\n",
       "4  --7jw19RH9JKXgFohspgQw  2014-04-21 20:42:11, 2014-04-28 21:04:46, 2014..."
      ]
     },
     "execution_count": 25,
     "metadata": {},
     "output_type": "execute_result"
    }
   ],
   "source": [
    "checkin_df.head()"
   ]
  },
  {
   "cell_type": "code",
   "execution_count": 26,
   "metadata": {},
   "outputs": [
    {
     "name": "stdout",
     "output_type": "stream",
     "text": [
      "<class 'pandas.core.frame.DataFrame'>\n",
      "RangeIndex: 131930 entries, 0 to 131929\n",
      "Data columns (total 2 columns):\n",
      " #   Column       Non-Null Count   Dtype \n",
      "---  ------       --------------   ----- \n",
      " 0   business_id  131930 non-null  object\n",
      " 1   date         131930 non-null  object\n",
      "dtypes: object(2)\n",
      "memory usage: 2.0+ MB\n"
     ]
    }
   ],
   "source": [
    "checkin_df.info()"
   ]
  },
  {
   "cell_type": "code",
   "execution_count": null,
   "metadata": {},
   "outputs": [],
   "source": []
  },
  {
   "cell_type": "markdown",
   "metadata": {},
   "source": [
    "#### **<font color='orange'> Notes:</font>**\n",
    "**The team has determined this dataset would not add any value to our training data.**"
   ]
  },
  {
   "cell_type": "code",
   "execution_count": null,
   "metadata": {},
   "outputs": [],
   "source": []
  },
  {
   "cell_type": "markdown",
   "metadata": {},
   "source": [
    "---"
   ]
  },
  {
   "cell_type": "markdown",
   "metadata": {},
   "source": [
    "#### Reviews dataset"
   ]
  },
  {
   "cell_type": "markdown",
   "metadata": {},
   "source": [
    "#### <font color = 'blue'>Description:</font>\n",
    "**Contains full review text data including the user_id that wrote the review and the business_id the review is written for.**"
   ]
  },
  {
   "cell_type": "code",
   "execution_count": null,
   "metadata": {},
   "outputs": [],
   "source": []
  },
  {
   "cell_type": "code",
   "execution_count": 37,
   "metadata": {},
   "outputs": [],
   "source": [
    "chunk_list = []\n",
    "with open(reviews_dataset, \"r\",encoding = 'utf8') as f:\n",
    "    reviews_reader = pd.read_json(f, orient=\"records\", lines=True,chunksize=10000)\n",
    "\n",
    "    for chunk in reviews_reader:\n",
    "        chunk_list.append(chunk)"
   ]
  },
  {
   "cell_type": "code",
   "execution_count": 38,
   "metadata": {},
   "outputs": [
    {
     "data": {
      "text/html": [
       "<div>\n",
       "<style scoped>\n",
       "    .dataframe tbody tr th:only-of-type {\n",
       "        vertical-align: middle;\n",
       "    }\n",
       "\n",
       "    .dataframe tbody tr th {\n",
       "        vertical-align: top;\n",
       "    }\n",
       "\n",
       "    .dataframe thead th {\n",
       "        text-align: right;\n",
       "    }\n",
       "</style>\n",
       "<table border=\"1\" class=\"dataframe\">\n",
       "  <thead>\n",
       "    <tr style=\"text-align: right;\">\n",
       "      <th></th>\n",
       "      <th>review_id</th>\n",
       "      <th>user_id</th>\n",
       "      <th>business_id</th>\n",
       "      <th>stars</th>\n",
       "      <th>useful</th>\n",
       "      <th>funny</th>\n",
       "      <th>cool</th>\n",
       "      <th>text</th>\n",
       "      <th>date</th>\n",
       "    </tr>\n",
       "  </thead>\n",
       "  <tbody>\n",
       "    <tr>\n",
       "      <th>0</th>\n",
       "      <td>KU_O5udG6zpxOg-VcAEodg</td>\n",
       "      <td>mh_-eMZ6K5RLWhZyISBhwA</td>\n",
       "      <td>XQfwVwDr-v0ZS3_CbbE5Xw</td>\n",
       "      <td>3</td>\n",
       "      <td>0</td>\n",
       "      <td>0</td>\n",
       "      <td>0</td>\n",
       "      <td>If you decide to eat here, just be aware it is...</td>\n",
       "      <td>2018-07-07 22:09:11</td>\n",
       "    </tr>\n",
       "    <tr>\n",
       "      <th>1</th>\n",
       "      <td>BiTunyQ73aT9WBnpR9DZGw</td>\n",
       "      <td>OyoGAe7OKpv6SyGZT5g77Q</td>\n",
       "      <td>7ATYjTIgM3jUlt4UM3IypQ</td>\n",
       "      <td>5</td>\n",
       "      <td>1</td>\n",
       "      <td>0</td>\n",
       "      <td>1</td>\n",
       "      <td>I've taken a lot of spin classes over the year...</td>\n",
       "      <td>2012-01-03 15:28:18</td>\n",
       "    </tr>\n",
       "    <tr>\n",
       "      <th>2</th>\n",
       "      <td>saUsX_uimxRlCVr67Z4Jig</td>\n",
       "      <td>8g_iMtfSiwikVnbP2etR0A</td>\n",
       "      <td>YjUWPpI6HXG530lwP-fb2A</td>\n",
       "      <td>3</td>\n",
       "      <td>0</td>\n",
       "      <td>0</td>\n",
       "      <td>0</td>\n",
       "      <td>Family diner. Had the buffet. Eclectic assortm...</td>\n",
       "      <td>2014-02-05 20:30:30</td>\n",
       "    </tr>\n",
       "    <tr>\n",
       "      <th>3</th>\n",
       "      <td>AqPFMleE6RsU23_auESxiA</td>\n",
       "      <td>_7bHUi9Uuf5__HHc_Q8guQ</td>\n",
       "      <td>kxX2SOes4o-D3ZQBkiMRfA</td>\n",
       "      <td>5</td>\n",
       "      <td>1</td>\n",
       "      <td>0</td>\n",
       "      <td>1</td>\n",
       "      <td>Wow!  Yummy, different,  delicious.   Our favo...</td>\n",
       "      <td>2015-01-04 00:01:03</td>\n",
       "    </tr>\n",
       "    <tr>\n",
       "      <th>4</th>\n",
       "      <td>Sx8TMOWLNuJBWer-0pcmoA</td>\n",
       "      <td>bcjbaE6dDog4jkNY91ncLQ</td>\n",
       "      <td>e4Vwtrqf-wpJfwesgvdgxQ</td>\n",
       "      <td>4</td>\n",
       "      <td>1</td>\n",
       "      <td>0</td>\n",
       "      <td>1</td>\n",
       "      <td>Cute interior and owner (?) gave us tour of up...</td>\n",
       "      <td>2017-01-14 20:54:15</td>\n",
       "    </tr>\n",
       "  </tbody>\n",
       "</table>\n",
       "</div>"
      ],
      "text/plain": [
       "                review_id                 user_id             business_id  \\\n",
       "0  KU_O5udG6zpxOg-VcAEodg  mh_-eMZ6K5RLWhZyISBhwA  XQfwVwDr-v0ZS3_CbbE5Xw   \n",
       "1  BiTunyQ73aT9WBnpR9DZGw  OyoGAe7OKpv6SyGZT5g77Q  7ATYjTIgM3jUlt4UM3IypQ   \n",
       "2  saUsX_uimxRlCVr67Z4Jig  8g_iMtfSiwikVnbP2etR0A  YjUWPpI6HXG530lwP-fb2A   \n",
       "3  AqPFMleE6RsU23_auESxiA  _7bHUi9Uuf5__HHc_Q8guQ  kxX2SOes4o-D3ZQBkiMRfA   \n",
       "4  Sx8TMOWLNuJBWer-0pcmoA  bcjbaE6dDog4jkNY91ncLQ  e4Vwtrqf-wpJfwesgvdgxQ   \n",
       "\n",
       "   stars  useful  funny  cool  \\\n",
       "0      3       0      0     0   \n",
       "1      5       1      0     1   \n",
       "2      3       0      0     0   \n",
       "3      5       1      0     1   \n",
       "4      4       1      0     1   \n",
       "\n",
       "                                                text                date  \n",
       "0  If you decide to eat here, just be aware it is... 2018-07-07 22:09:11  \n",
       "1  I've taken a lot of spin classes over the year... 2012-01-03 15:28:18  \n",
       "2  Family diner. Had the buffet. Eclectic assortm... 2014-02-05 20:30:30  \n",
       "3  Wow!  Yummy, different,  delicious.   Our favo... 2015-01-04 00:01:03  \n",
       "4  Cute interior and owner (?) gave us tour of up... 2017-01-14 20:54:15  "
      ]
     },
     "execution_count": 38,
     "metadata": {},
     "output_type": "execute_result"
    }
   ],
   "source": [
    "reviews_df = pd.concat(chunk_list, ignore_index=True)\n",
    "reviews_df.head()"
   ]
  },
  {
   "cell_type": "code",
   "execution_count": 39,
   "metadata": {},
   "outputs": [
    {
     "name": "stdout",
     "output_type": "stream",
     "text": [
      "<class 'pandas.core.frame.DataFrame'>\n",
      "RangeIndex: 6990280 entries, 0 to 6990279\n",
      "Data columns (total 9 columns):\n",
      " #   Column       Dtype         \n",
      "---  ------       -----         \n",
      " 0   review_id    object        \n",
      " 1   user_id      object        \n",
      " 2   business_id  object        \n",
      " 3   stars        int64         \n",
      " 4   useful       int64         \n",
      " 5   funny        int64         \n",
      " 6   cool         int64         \n",
      " 7   text         object        \n",
      " 8   date         datetime64[ns]\n",
      "dtypes: datetime64[ns](1), int64(4), object(4)\n",
      "memory usage: 480.0+ MB\n"
     ]
    }
   ],
   "source": [
    "reviews_df.info()"
   ]
  },
  {
   "cell_type": "markdown",
   "metadata": {},
   "source": [
    "#### Na count"
   ]
  },
  {
   "cell_type": "code",
   "execution_count": 41,
   "metadata": {},
   "outputs": [
    {
     "data": {
      "text/plain": [
       "review_id      0\n",
       "user_id        0\n",
       "business_id    0\n",
       "stars          0\n",
       "useful         0\n",
       "funny          0\n",
       "cool           0\n",
       "text           0\n",
       "date           0\n",
       "dtype: int64"
      ]
     },
     "execution_count": 41,
     "metadata": {},
     "output_type": "execute_result"
    }
   ],
   "source": [
    "reviews_df.isna().sum()"
   ]
  },
  {
   "cell_type": "markdown",
   "metadata": {},
   "source": [
    "#### Dropping columns:\n",
    "- **review_id**\n",
    "- **useful**\n",
    "- **funny**\n",
    "- **cool**"
   ]
  },
  {
   "cell_type": "code",
   "execution_count": 162,
   "metadata": {},
   "outputs": [],
   "source": [
    "reviews_df.drop(columns = ['review_id','useful','funny','cool'],\n",
    "                inplace = True)"
   ]
  },
  {
   "cell_type": "markdown",
   "metadata": {},
   "source": [
    "#### Renaming the 'text' field to 'review'"
   ]
  },
  {
   "cell_type": "code",
   "execution_count": 165,
   "metadata": {},
   "outputs": [
    {
     "data": {
      "text/html": [
       "<div>\n",
       "<style scoped>\n",
       "    .dataframe tbody tr th:only-of-type {\n",
       "        vertical-align: middle;\n",
       "    }\n",
       "\n",
       "    .dataframe tbody tr th {\n",
       "        vertical-align: top;\n",
       "    }\n",
       "\n",
       "    .dataframe thead th {\n",
       "        text-align: right;\n",
       "    }\n",
       "</style>\n",
       "<table border=\"1\" class=\"dataframe\">\n",
       "  <thead>\n",
       "    <tr style=\"text-align: right;\">\n",
       "      <th></th>\n",
       "      <th>user_id</th>\n",
       "      <th>business_id</th>\n",
       "      <th>stars</th>\n",
       "      <th>review</th>\n",
       "      <th>date</th>\n",
       "    </tr>\n",
       "  </thead>\n",
       "  <tbody>\n",
       "    <tr>\n",
       "      <th>0</th>\n",
       "      <td>mh_-eMZ6K5RLWhZyISBhwA</td>\n",
       "      <td>XQfwVwDr-v0ZS3_CbbE5Xw</td>\n",
       "      <td>3</td>\n",
       "      <td>If you decide to eat here, just be aware it is...</td>\n",
       "      <td>2018-07-07 22:09:11</td>\n",
       "    </tr>\n",
       "    <tr>\n",
       "      <th>1</th>\n",
       "      <td>OyoGAe7OKpv6SyGZT5g77Q</td>\n",
       "      <td>7ATYjTIgM3jUlt4UM3IypQ</td>\n",
       "      <td>5</td>\n",
       "      <td>I've taken a lot of spin classes over the year...</td>\n",
       "      <td>2012-01-03 15:28:18</td>\n",
       "    </tr>\n",
       "    <tr>\n",
       "      <th>2</th>\n",
       "      <td>8g_iMtfSiwikVnbP2etR0A</td>\n",
       "      <td>YjUWPpI6HXG530lwP-fb2A</td>\n",
       "      <td>3</td>\n",
       "      <td>Family diner. Had the buffet. Eclectic assortm...</td>\n",
       "      <td>2014-02-05 20:30:30</td>\n",
       "    </tr>\n",
       "    <tr>\n",
       "      <th>3</th>\n",
       "      <td>_7bHUi9Uuf5__HHc_Q8guQ</td>\n",
       "      <td>kxX2SOes4o-D3ZQBkiMRfA</td>\n",
       "      <td>5</td>\n",
       "      <td>Wow!  Yummy, different,  delicious.   Our favo...</td>\n",
       "      <td>2015-01-04 00:01:03</td>\n",
       "    </tr>\n",
       "    <tr>\n",
       "      <th>4</th>\n",
       "      <td>bcjbaE6dDog4jkNY91ncLQ</td>\n",
       "      <td>e4Vwtrqf-wpJfwesgvdgxQ</td>\n",
       "      <td>4</td>\n",
       "      <td>Cute interior and owner (?) gave us tour of up...</td>\n",
       "      <td>2017-01-14 20:54:15</td>\n",
       "    </tr>\n",
       "  </tbody>\n",
       "</table>\n",
       "</div>"
      ],
      "text/plain": [
       "                  user_id             business_id  stars  \\\n",
       "0  mh_-eMZ6K5RLWhZyISBhwA  XQfwVwDr-v0ZS3_CbbE5Xw      3   \n",
       "1  OyoGAe7OKpv6SyGZT5g77Q  7ATYjTIgM3jUlt4UM3IypQ      5   \n",
       "2  8g_iMtfSiwikVnbP2etR0A  YjUWPpI6HXG530lwP-fb2A      3   \n",
       "3  _7bHUi9Uuf5__HHc_Q8guQ  kxX2SOes4o-D3ZQBkiMRfA      5   \n",
       "4  bcjbaE6dDog4jkNY91ncLQ  e4Vwtrqf-wpJfwesgvdgxQ      4   \n",
       "\n",
       "                                              review                date  \n",
       "0  If you decide to eat here, just be aware it is... 2018-07-07 22:09:11  \n",
       "1  I've taken a lot of spin classes over the year... 2012-01-03 15:28:18  \n",
       "2  Family diner. Had the buffet. Eclectic assortm... 2014-02-05 20:30:30  \n",
       "3  Wow!  Yummy, different,  delicious.   Our favo... 2015-01-04 00:01:03  \n",
       "4  Cute interior and owner (?) gave us tour of up... 2017-01-14 20:54:15  "
      ]
     },
     "execution_count": 165,
     "metadata": {},
     "output_type": "execute_result"
    }
   ],
   "source": [
    "reviews_df.rename(columns = {'text':'review'},inplace = True)\n",
    "reviews_df.head()"
   ]
  },
  {
   "cell_type": "code",
   "execution_count": null,
   "metadata": {},
   "outputs": [],
   "source": []
  },
  {
   "cell_type": "markdown",
   "metadata": {},
   "source": [
    "#### **<font color='orange'> Notes:</font>**\n",
    "- **review_id: Eliminated due to low informational value.**\n",
    "- **useful: Eliminated due to low relevance.**\n",
    "- **funny: Eliminated due to low relevance.**\n",
    "- **cool: Eliminated due to low relevance.**\n",
    "\n",
    "  **The *<font color='green'>'business_id'</font>* feature will be used as the identifier, *<font color='green'>'stars'</font>* is the rating metric and the *<font color='grey'>'review'</font>*  field encapsulates**<br>\n",
    "  **the data to be processed. the *<font color='green'>'date'</font>* variable is in place if time series analysis is needed.**"
   ]
  },
  {
   "cell_type": "code",
   "execution_count": null,
   "metadata": {},
   "outputs": [],
   "source": []
  },
  {
   "cell_type": "markdown",
   "metadata": {},
   "source": [
    "---"
   ]
  },
  {
   "cell_type": "markdown",
   "metadata": {},
   "source": [
    "#### Tips dataset"
   ]
  },
  {
   "cell_type": "markdown",
   "metadata": {},
   "source": [
    "#### <font color='blue'>Description:</font>\n",
    "**Tips written by a user on a business. Tips are shorter than reviews and tend to convey quick suggestions.**"
   ]
  },
  {
   "cell_type": "code",
   "execution_count": null,
   "metadata": {},
   "outputs": [],
   "source": []
  },
  {
   "cell_type": "code",
   "execution_count": 58,
   "metadata": {},
   "outputs": [],
   "source": [
    "with open(tip_dataset, \"r\",encoding = 'utf8') as f:\n",
    "    tips_df = pd.read_json(f, orient=\"records\", lines=True,)"
   ]
  },
  {
   "cell_type": "code",
   "execution_count": 59,
   "metadata": {},
   "outputs": [
    {
     "data": {
      "text/html": [
       "<div>\n",
       "<style scoped>\n",
       "    .dataframe tbody tr th:only-of-type {\n",
       "        vertical-align: middle;\n",
       "    }\n",
       "\n",
       "    .dataframe tbody tr th {\n",
       "        vertical-align: top;\n",
       "    }\n",
       "\n",
       "    .dataframe thead th {\n",
       "        text-align: right;\n",
       "    }\n",
       "</style>\n",
       "<table border=\"1\" class=\"dataframe\">\n",
       "  <thead>\n",
       "    <tr style=\"text-align: right;\">\n",
       "      <th></th>\n",
       "      <th>user_id</th>\n",
       "      <th>business_id</th>\n",
       "      <th>text</th>\n",
       "      <th>date</th>\n",
       "      <th>compliment_count</th>\n",
       "    </tr>\n",
       "  </thead>\n",
       "  <tbody>\n",
       "    <tr>\n",
       "      <th>0</th>\n",
       "      <td>AGNUgVwnZUey3gcPCJ76iw</td>\n",
       "      <td>3uLgwr0qeCNMjKenHJwPGQ</td>\n",
       "      <td>Avengers time with the ladies.</td>\n",
       "      <td>2012-05-18 02:17:21</td>\n",
       "      <td>0</td>\n",
       "    </tr>\n",
       "    <tr>\n",
       "      <th>1</th>\n",
       "      <td>NBN4MgHP9D3cw--SnauTkA</td>\n",
       "      <td>QoezRbYQncpRqyrLH6Iqjg</td>\n",
       "      <td>They have lots of good deserts and tasty cuban...</td>\n",
       "      <td>2013-02-05 18:35:10</td>\n",
       "      <td>0</td>\n",
       "    </tr>\n",
       "    <tr>\n",
       "      <th>2</th>\n",
       "      <td>-copOvldyKh1qr-vzkDEvw</td>\n",
       "      <td>MYoRNLb5chwjQe3c_k37Gg</td>\n",
       "      <td>It's open even when you think it isn't</td>\n",
       "      <td>2013-08-18 00:56:08</td>\n",
       "      <td>0</td>\n",
       "    </tr>\n",
       "    <tr>\n",
       "      <th>3</th>\n",
       "      <td>FjMQVZjSqY8syIO-53KFKw</td>\n",
       "      <td>hV-bABTK-glh5wj31ps_Jw</td>\n",
       "      <td>Very decent fried chicken</td>\n",
       "      <td>2017-06-27 23:05:38</td>\n",
       "      <td>0</td>\n",
       "    </tr>\n",
       "    <tr>\n",
       "      <th>4</th>\n",
       "      <td>ld0AperBXk1h6UbqmM80zw</td>\n",
       "      <td>_uN0OudeJ3Zl_tf6nxg5ww</td>\n",
       "      <td>Appetizers.. platter special for lunch</td>\n",
       "      <td>2012-10-06 19:43:09</td>\n",
       "      <td>0</td>\n",
       "    </tr>\n",
       "  </tbody>\n",
       "</table>\n",
       "</div>"
      ],
      "text/plain": [
       "                  user_id             business_id  \\\n",
       "0  AGNUgVwnZUey3gcPCJ76iw  3uLgwr0qeCNMjKenHJwPGQ   \n",
       "1  NBN4MgHP9D3cw--SnauTkA  QoezRbYQncpRqyrLH6Iqjg   \n",
       "2  -copOvldyKh1qr-vzkDEvw  MYoRNLb5chwjQe3c_k37Gg   \n",
       "3  FjMQVZjSqY8syIO-53KFKw  hV-bABTK-glh5wj31ps_Jw   \n",
       "4  ld0AperBXk1h6UbqmM80zw  _uN0OudeJ3Zl_tf6nxg5ww   \n",
       "\n",
       "                                                text                date  \\\n",
       "0                     Avengers time with the ladies. 2012-05-18 02:17:21   \n",
       "1  They have lots of good deserts and tasty cuban... 2013-02-05 18:35:10   \n",
       "2             It's open even when you think it isn't 2013-08-18 00:56:08   \n",
       "3                          Very decent fried chicken 2017-06-27 23:05:38   \n",
       "4             Appetizers.. platter special for lunch 2012-10-06 19:43:09   \n",
       "\n",
       "   compliment_count  \n",
       "0                 0  \n",
       "1                 0  \n",
       "2                 0  \n",
       "3                 0  \n",
       "4                 0  "
      ]
     },
     "execution_count": 59,
     "metadata": {},
     "output_type": "execute_result"
    }
   ],
   "source": [
    "tips_df.head()"
   ]
  },
  {
   "cell_type": "markdown",
   "metadata": {},
   "source": [
    "#### Info"
   ]
  },
  {
   "cell_type": "code",
   "execution_count": 63,
   "metadata": {},
   "outputs": [
    {
     "name": "stdout",
     "output_type": "stream",
     "text": [
      "<class 'pandas.core.frame.DataFrame'>\n",
      "RangeIndex: 908915 entries, 0 to 908914\n",
      "Data columns (total 5 columns):\n",
      " #   Column            Non-Null Count   Dtype         \n",
      "---  ------            --------------   -----         \n",
      " 0   user_id           908915 non-null  object        \n",
      " 1   business_id       908915 non-null  object        \n",
      " 2   text              908915 non-null  object        \n",
      " 3   date              908915 non-null  datetime64[ns]\n",
      " 4   compliment_count  908915 non-null  int64         \n",
      "dtypes: datetime64[ns](1), int64(1), object(3)\n",
      "memory usage: 34.7+ MB\n"
     ]
    }
   ],
   "source": [
    "tips_df.info()"
   ]
  },
  {
   "cell_type": "markdown",
   "metadata": {},
   "source": [
    "#### Dropping columns:\n",
    "- **compliment_count**"
   ]
  },
  {
   "cell_type": "code",
   "execution_count": 172,
   "metadata": {},
   "outputs": [],
   "source": [
    "tips_df.drop(columns = ['compliment_count'],\n",
    "             inplace =True)"
   ]
  },
  {
   "cell_type": "markdown",
   "metadata": {},
   "source": [
    "#### Renaming the 'text' column to 'recommendations'"
   ]
  },
  {
   "cell_type": "code",
   "execution_count": 175,
   "metadata": {},
   "outputs": [
    {
     "data": {
      "text/html": [
       "<div>\n",
       "<style scoped>\n",
       "    .dataframe tbody tr th:only-of-type {\n",
       "        vertical-align: middle;\n",
       "    }\n",
       "\n",
       "    .dataframe tbody tr th {\n",
       "        vertical-align: top;\n",
       "    }\n",
       "\n",
       "    .dataframe thead th {\n",
       "        text-align: right;\n",
       "    }\n",
       "</style>\n",
       "<table border=\"1\" class=\"dataframe\">\n",
       "  <thead>\n",
       "    <tr style=\"text-align: right;\">\n",
       "      <th></th>\n",
       "      <th>user_id</th>\n",
       "      <th>business_id</th>\n",
       "      <th>recommendations</th>\n",
       "      <th>date</th>\n",
       "    </tr>\n",
       "  </thead>\n",
       "  <tbody>\n",
       "    <tr>\n",
       "      <th>0</th>\n",
       "      <td>AGNUgVwnZUey3gcPCJ76iw</td>\n",
       "      <td>3uLgwr0qeCNMjKenHJwPGQ</td>\n",
       "      <td>Avengers time with the ladies.</td>\n",
       "      <td>2012-05-18 02:17:21</td>\n",
       "    </tr>\n",
       "    <tr>\n",
       "      <th>1</th>\n",
       "      <td>NBN4MgHP9D3cw--SnauTkA</td>\n",
       "      <td>QoezRbYQncpRqyrLH6Iqjg</td>\n",
       "      <td>They have lots of good deserts and tasty cuban...</td>\n",
       "      <td>2013-02-05 18:35:10</td>\n",
       "    </tr>\n",
       "    <tr>\n",
       "      <th>2</th>\n",
       "      <td>-copOvldyKh1qr-vzkDEvw</td>\n",
       "      <td>MYoRNLb5chwjQe3c_k37Gg</td>\n",
       "      <td>It's open even when you think it isn't</td>\n",
       "      <td>2013-08-18 00:56:08</td>\n",
       "    </tr>\n",
       "    <tr>\n",
       "      <th>3</th>\n",
       "      <td>FjMQVZjSqY8syIO-53KFKw</td>\n",
       "      <td>hV-bABTK-glh5wj31ps_Jw</td>\n",
       "      <td>Very decent fried chicken</td>\n",
       "      <td>2017-06-27 23:05:38</td>\n",
       "    </tr>\n",
       "    <tr>\n",
       "      <th>4</th>\n",
       "      <td>ld0AperBXk1h6UbqmM80zw</td>\n",
       "      <td>_uN0OudeJ3Zl_tf6nxg5ww</td>\n",
       "      <td>Appetizers.. platter special for lunch</td>\n",
       "      <td>2012-10-06 19:43:09</td>\n",
       "    </tr>\n",
       "  </tbody>\n",
       "</table>\n",
       "</div>"
      ],
      "text/plain": [
       "                  user_id             business_id  \\\n",
       "0  AGNUgVwnZUey3gcPCJ76iw  3uLgwr0qeCNMjKenHJwPGQ   \n",
       "1  NBN4MgHP9D3cw--SnauTkA  QoezRbYQncpRqyrLH6Iqjg   \n",
       "2  -copOvldyKh1qr-vzkDEvw  MYoRNLb5chwjQe3c_k37Gg   \n",
       "3  FjMQVZjSqY8syIO-53KFKw  hV-bABTK-glh5wj31ps_Jw   \n",
       "4  ld0AperBXk1h6UbqmM80zw  _uN0OudeJ3Zl_tf6nxg5ww   \n",
       "\n",
       "                                     recommendations                date  \n",
       "0                     Avengers time with the ladies. 2012-05-18 02:17:21  \n",
       "1  They have lots of good deserts and tasty cuban... 2013-02-05 18:35:10  \n",
       "2             It's open even when you think it isn't 2013-08-18 00:56:08  \n",
       "3                          Very decent fried chicken 2017-06-27 23:05:38  \n",
       "4             Appetizers.. platter special for lunch 2012-10-06 19:43:09  "
      ]
     },
     "execution_count": 175,
     "metadata": {},
     "output_type": "execute_result"
    }
   ],
   "source": [
    "tips_df.rename(columns = {'text':'recommendations'},inplace = True)\n",
    "tips_df.head()"
   ]
  },
  {
   "cell_type": "code",
   "execution_count": null,
   "metadata": {},
   "outputs": [],
   "source": []
  },
  {
   "cell_type": "markdown",
   "metadata": {},
   "source": [
    "#### **<font color='orange'> Notes:</font>**\n",
    "- **compliment_count: Eliminated due to low informational value.**\n",
    "\n",
    "\n",
    " **Since this data set has recommendations from the user to improve customer experience the 'recommendations' field could be a useful target variable.**"
   ]
  },
  {
   "cell_type": "code",
   "execution_count": null,
   "metadata": {},
   "outputs": [],
   "source": []
  },
  {
   "cell_type": "markdown",
   "metadata": {},
   "source": [
    "---"
   ]
  },
  {
   "cell_type": "markdown",
   "metadata": {},
   "source": [
    "#### User dataset"
   ]
  },
  {
   "cell_type": "markdown",
   "metadata": {},
   "source": [
    "#### <font color = 'blue'>Note:</font>\n",
    "**User data including the user's friend mapping and all the metadata associated with the user.**"
   ]
  },
  {
   "cell_type": "code",
   "execution_count": 76,
   "metadata": {},
   "outputs": [],
   "source": [
    "user_list = []\n",
    "with open(user_dataset, \"r\",encoding = 'utf8') as f:\n",
    "    user_reader = pd.read_json(f, orient=\"records\", lines=True,chunksize=10000)\n",
    "\n",
    "    for chunk in user_reader:\n",
    "        user_list.append(chunk)"
   ]
  },
  {
   "cell_type": "code",
   "execution_count": 77,
   "metadata": {},
   "outputs": [
    {
     "data": {
      "text/html": [
       "<div>\n",
       "<style scoped>\n",
       "    .dataframe tbody tr th:only-of-type {\n",
       "        vertical-align: middle;\n",
       "    }\n",
       "\n",
       "    .dataframe tbody tr th {\n",
       "        vertical-align: top;\n",
       "    }\n",
       "\n",
       "    .dataframe thead th {\n",
       "        text-align: right;\n",
       "    }\n",
       "</style>\n",
       "<table border=\"1\" class=\"dataframe\">\n",
       "  <thead>\n",
       "    <tr style=\"text-align: right;\">\n",
       "      <th></th>\n",
       "      <th>user_id</th>\n",
       "      <th>name</th>\n",
       "      <th>review_count</th>\n",
       "      <th>yelping_since</th>\n",
       "      <th>useful</th>\n",
       "      <th>funny</th>\n",
       "      <th>cool</th>\n",
       "      <th>elite</th>\n",
       "      <th>friends</th>\n",
       "      <th>fans</th>\n",
       "      <th>...</th>\n",
       "      <th>compliment_more</th>\n",
       "      <th>compliment_profile</th>\n",
       "      <th>compliment_cute</th>\n",
       "      <th>compliment_list</th>\n",
       "      <th>compliment_note</th>\n",
       "      <th>compliment_plain</th>\n",
       "      <th>compliment_cool</th>\n",
       "      <th>compliment_funny</th>\n",
       "      <th>compliment_writer</th>\n",
       "      <th>compliment_photos</th>\n",
       "    </tr>\n",
       "  </thead>\n",
       "  <tbody>\n",
       "    <tr>\n",
       "      <th>0</th>\n",
       "      <td>qVc8ODYU5SZjKXVBgXdI7w</td>\n",
       "      <td>Walker</td>\n",
       "      <td>585</td>\n",
       "      <td>2007-01-25 16:47:26</td>\n",
       "      <td>7217</td>\n",
       "      <td>1259</td>\n",
       "      <td>5994</td>\n",
       "      <td>2007</td>\n",
       "      <td>NSCy54eWehBJyZdG2iE84w, pe42u7DcCH2QmI81NX-8qA...</td>\n",
       "      <td>267</td>\n",
       "      <td>...</td>\n",
       "      <td>65</td>\n",
       "      <td>55</td>\n",
       "      <td>56</td>\n",
       "      <td>18</td>\n",
       "      <td>232</td>\n",
       "      <td>844</td>\n",
       "      <td>467</td>\n",
       "      <td>467</td>\n",
       "      <td>239</td>\n",
       "      <td>180</td>\n",
       "    </tr>\n",
       "    <tr>\n",
       "      <th>1</th>\n",
       "      <td>j14WgRoU_-2ZE1aw1dXrJg</td>\n",
       "      <td>Daniel</td>\n",
       "      <td>4333</td>\n",
       "      <td>2009-01-25 04:35:42</td>\n",
       "      <td>43091</td>\n",
       "      <td>13066</td>\n",
       "      <td>27281</td>\n",
       "      <td>2009,2010,2011,2012,2013,2014,2015,2016,2017,2...</td>\n",
       "      <td>ueRPE0CX75ePGMqOFVj6IQ, 52oH4DrRvzzl8wh5UXyU0A...</td>\n",
       "      <td>3138</td>\n",
       "      <td>...</td>\n",
       "      <td>264</td>\n",
       "      <td>184</td>\n",
       "      <td>157</td>\n",
       "      <td>251</td>\n",
       "      <td>1847</td>\n",
       "      <td>7054</td>\n",
       "      <td>3131</td>\n",
       "      <td>3131</td>\n",
       "      <td>1521</td>\n",
       "      <td>1946</td>\n",
       "    </tr>\n",
       "    <tr>\n",
       "      <th>2</th>\n",
       "      <td>2WnXYQFK0hXEoTxPtV2zvg</td>\n",
       "      <td>Steph</td>\n",
       "      <td>665</td>\n",
       "      <td>2008-07-25 10:41:00</td>\n",
       "      <td>2086</td>\n",
       "      <td>1010</td>\n",
       "      <td>1003</td>\n",
       "      <td>2009,2010,2011,2012,2013</td>\n",
       "      <td>LuO3Bn4f3rlhyHIaNfTlnA, j9B4XdHUhDfTKVecyWQgyA...</td>\n",
       "      <td>52</td>\n",
       "      <td>...</td>\n",
       "      <td>13</td>\n",
       "      <td>10</td>\n",
       "      <td>17</td>\n",
       "      <td>3</td>\n",
       "      <td>66</td>\n",
       "      <td>96</td>\n",
       "      <td>119</td>\n",
       "      <td>119</td>\n",
       "      <td>35</td>\n",
       "      <td>18</td>\n",
       "    </tr>\n",
       "    <tr>\n",
       "      <th>3</th>\n",
       "      <td>SZDeASXq7o05mMNLshsdIA</td>\n",
       "      <td>Gwen</td>\n",
       "      <td>224</td>\n",
       "      <td>2005-11-29 04:38:33</td>\n",
       "      <td>512</td>\n",
       "      <td>330</td>\n",
       "      <td>299</td>\n",
       "      <td>2009,2010,2011</td>\n",
       "      <td>enx1vVPnfdNUdPho6PH_wg, 4wOcvMLtU6a9Lslggq74Vg...</td>\n",
       "      <td>28</td>\n",
       "      <td>...</td>\n",
       "      <td>4</td>\n",
       "      <td>1</td>\n",
       "      <td>6</td>\n",
       "      <td>2</td>\n",
       "      <td>12</td>\n",
       "      <td>16</td>\n",
       "      <td>26</td>\n",
       "      <td>26</td>\n",
       "      <td>10</td>\n",
       "      <td>9</td>\n",
       "    </tr>\n",
       "    <tr>\n",
       "      <th>4</th>\n",
       "      <td>hA5lMy-EnncsH4JoR-hFGQ</td>\n",
       "      <td>Karen</td>\n",
       "      <td>79</td>\n",
       "      <td>2007-01-05 19:40:59</td>\n",
       "      <td>29</td>\n",
       "      <td>15</td>\n",
       "      <td>7</td>\n",
       "      <td></td>\n",
       "      <td>PBK4q9KEEBHhFvSXCUirIw, 3FWPpM7KU1gXeOM_ZbYMbA...</td>\n",
       "      <td>1</td>\n",
       "      <td>...</td>\n",
       "      <td>1</td>\n",
       "      <td>0</td>\n",
       "      <td>0</td>\n",
       "      <td>0</td>\n",
       "      <td>1</td>\n",
       "      <td>1</td>\n",
       "      <td>0</td>\n",
       "      <td>0</td>\n",
       "      <td>0</td>\n",
       "      <td>0</td>\n",
       "    </tr>\n",
       "  </tbody>\n",
       "</table>\n",
       "<p>5 rows × 22 columns</p>\n",
       "</div>"
      ],
      "text/plain": [
       "                  user_id    name  review_count        yelping_since  useful  \\\n",
       "0  qVc8ODYU5SZjKXVBgXdI7w  Walker           585  2007-01-25 16:47:26    7217   \n",
       "1  j14WgRoU_-2ZE1aw1dXrJg  Daniel          4333  2009-01-25 04:35:42   43091   \n",
       "2  2WnXYQFK0hXEoTxPtV2zvg   Steph           665  2008-07-25 10:41:00    2086   \n",
       "3  SZDeASXq7o05mMNLshsdIA    Gwen           224  2005-11-29 04:38:33     512   \n",
       "4  hA5lMy-EnncsH4JoR-hFGQ   Karen            79  2007-01-05 19:40:59      29   \n",
       "\n",
       "   funny   cool                                              elite  \\\n",
       "0   1259   5994                                               2007   \n",
       "1  13066  27281  2009,2010,2011,2012,2013,2014,2015,2016,2017,2...   \n",
       "2   1010   1003                           2009,2010,2011,2012,2013   \n",
       "3    330    299                                     2009,2010,2011   \n",
       "4     15      7                                                      \n",
       "\n",
       "                                             friends  fans  ...  \\\n",
       "0  NSCy54eWehBJyZdG2iE84w, pe42u7DcCH2QmI81NX-8qA...   267  ...   \n",
       "1  ueRPE0CX75ePGMqOFVj6IQ, 52oH4DrRvzzl8wh5UXyU0A...  3138  ...   \n",
       "2  LuO3Bn4f3rlhyHIaNfTlnA, j9B4XdHUhDfTKVecyWQgyA...    52  ...   \n",
       "3  enx1vVPnfdNUdPho6PH_wg, 4wOcvMLtU6a9Lslggq74Vg...    28  ...   \n",
       "4  PBK4q9KEEBHhFvSXCUirIw, 3FWPpM7KU1gXeOM_ZbYMbA...     1  ...   \n",
       "\n",
       "   compliment_more  compliment_profile  compliment_cute  compliment_list  \\\n",
       "0               65                  55               56               18   \n",
       "1              264                 184              157              251   \n",
       "2               13                  10               17                3   \n",
       "3                4                   1                6                2   \n",
       "4                1                   0                0                0   \n",
       "\n",
       "   compliment_note  compliment_plain  compliment_cool  compliment_funny  \\\n",
       "0              232               844              467               467   \n",
       "1             1847              7054             3131              3131   \n",
       "2               66                96              119               119   \n",
       "3               12                16               26                26   \n",
       "4                1                 1                0                 0   \n",
       "\n",
       "   compliment_writer  compliment_photos  \n",
       "0                239                180  \n",
       "1               1521               1946  \n",
       "2                 35                 18  \n",
       "3                 10                  9  \n",
       "4                  0                  0  \n",
       "\n",
       "[5 rows x 22 columns]"
      ]
     },
     "execution_count": 77,
     "metadata": {},
     "output_type": "execute_result"
    }
   ],
   "source": [
    "user_df = pd.concat(user_list, ignore_index=True)\n",
    "user_df.head()"
   ]
  },
  {
   "cell_type": "markdown",
   "metadata": {},
   "source": [
    "#### Info"
   ]
  },
  {
   "cell_type": "code",
   "execution_count": 79,
   "metadata": {},
   "outputs": [
    {
     "name": "stdout",
     "output_type": "stream",
     "text": [
      "<class 'pandas.core.frame.DataFrame'>\n",
      "RangeIndex: 1987897 entries, 0 to 1987896\n",
      "Data columns (total 22 columns):\n",
      " #   Column              Dtype  \n",
      "---  ------              -----  \n",
      " 0   user_id             object \n",
      " 1   name                object \n",
      " 2   review_count        int64  \n",
      " 3   yelping_since       object \n",
      " 4   useful              int64  \n",
      " 5   funny               int64  \n",
      " 6   cool                int64  \n",
      " 7   elite               object \n",
      " 8   friends             object \n",
      " 9   fans                int64  \n",
      " 10  average_stars       float64\n",
      " 11  compliment_hot      int64  \n",
      " 12  compliment_more     int64  \n",
      " 13  compliment_profile  int64  \n",
      " 14  compliment_cute     int64  \n",
      " 15  compliment_list     int64  \n",
      " 16  compliment_note     int64  \n",
      " 17  compliment_plain    int64  \n",
      " 18  compliment_cool     int64  \n",
      " 19  compliment_funny    int64  \n",
      " 20  compliment_writer   int64  \n",
      " 21  compliment_photos   int64  \n",
      "dtypes: float64(1), int64(16), object(5)\n",
      "memory usage: 333.7+ MB\n"
     ]
    }
   ],
   "source": [
    "user_df.info()"
   ]
  },
  {
   "cell_type": "code",
   "execution_count": null,
   "metadata": {},
   "outputs": [],
   "source": []
  },
  {
   "cell_type": "markdown",
   "metadata": {},
   "source": [
    "#### **<font color='orange'> Notes:</font>**\n",
    "**This data set will not be included in the training data to preserve user anonimity.**"
   ]
  },
  {
   "cell_type": "code",
   "execution_count": null,
   "metadata": {},
   "outputs": [],
   "source": []
  },
  {
   "cell_type": "markdown",
   "metadata": {},
   "source": [
    "# //////////////////////////////////////////////////////////////////////////////////////////////////////////////////////////"
   ]
  },
  {
   "cell_type": "markdown",
   "metadata": {},
   "source": [
    "#### <font color = 'blue'>Description:</font>\n",
    "**This data set contains the fields that will be used to train the model**"
   ]
  },
  {
   "cell_type": "code",
   "execution_count": 241,
   "metadata": {},
   "outputs": [],
   "source": [
    "data_df = reviews_df.merge(business_df,how='left',on = 'business_id')"
   ]
  },
  {
   "cell_type": "code",
   "execution_count": 243,
   "metadata": {},
   "outputs": [
    {
     "name": "stdout",
     "output_type": "stream",
     "text": [
      "<class 'pandas.core.frame.DataFrame'>\n",
      "RangeIndex: 6990280 entries, 0 to 6990279\n",
      "Data columns (total 18 columns):\n",
      " #   Column        Dtype         \n",
      "---  ------        -----         \n",
      " 0   user_id       object        \n",
      " 1   business_id   object        \n",
      " 2   stars_x       int64         \n",
      " 3   review        object        \n",
      " 4   date          datetime64[ns]\n",
      " 5   name          object        \n",
      " 6   address       object        \n",
      " 7   city          object        \n",
      " 8   state         object        \n",
      " 9   postal_code   object        \n",
      " 10  latitude      float64       \n",
      " 11  longitude     float64       \n",
      " 12  stars_y       float64       \n",
      " 13  review_count  int64         \n",
      " 14  is_open       int64         \n",
      " 15  attributes    object        \n",
      " 16  categories    object        \n",
      " 17  hours         object        \n",
      "dtypes: datetime64[ns](1), float64(3), int64(3), object(11)\n",
      "memory usage: 960.0+ MB\n"
     ]
    }
   ],
   "source": [
    "data_df.info()"
   ]
  },
  {
   "cell_type": "code",
   "execution_count": 245,
   "metadata": {},
   "outputs": [
    {
     "data": {
      "text/html": [
       "<div>\n",
       "<style scoped>\n",
       "    .dataframe tbody tr th:only-of-type {\n",
       "        vertical-align: middle;\n",
       "    }\n",
       "\n",
       "    .dataframe tbody tr th {\n",
       "        vertical-align: top;\n",
       "    }\n",
       "\n",
       "    .dataframe thead th {\n",
       "        text-align: right;\n",
       "    }\n",
       "</style>\n",
       "<table border=\"1\" class=\"dataframe\">\n",
       "  <thead>\n",
       "    <tr style=\"text-align: right;\">\n",
       "      <th></th>\n",
       "      <th>user_id</th>\n",
       "      <th>business_id</th>\n",
       "      <th>stars_x</th>\n",
       "      <th>review</th>\n",
       "      <th>date</th>\n",
       "      <th>name</th>\n",
       "      <th>address</th>\n",
       "      <th>city</th>\n",
       "      <th>state</th>\n",
       "      <th>postal_code</th>\n",
       "      <th>latitude</th>\n",
       "      <th>longitude</th>\n",
       "      <th>stars_y</th>\n",
       "      <th>review_count</th>\n",
       "      <th>is_open</th>\n",
       "      <th>attributes</th>\n",
       "      <th>categories</th>\n",
       "      <th>hours</th>\n",
       "    </tr>\n",
       "  </thead>\n",
       "  <tbody>\n",
       "    <tr>\n",
       "      <th>0</th>\n",
       "      <td>mh_-eMZ6K5RLWhZyISBhwA</td>\n",
       "      <td>XQfwVwDr-v0ZS3_CbbE5Xw</td>\n",
       "      <td>3</td>\n",
       "      <td>If you decide to eat here, just be aware it is...</td>\n",
       "      <td>2018-07-07 22:09:11</td>\n",
       "      <td>Turning Point of North Wales</td>\n",
       "      <td>1460 Bethlehem Pike</td>\n",
       "      <td>North Wales</td>\n",
       "      <td>PA</td>\n",
       "      <td>19454</td>\n",
       "      <td>40.210196</td>\n",
       "      <td>-75.223639</td>\n",
       "      <td>3.0</td>\n",
       "      <td>169</td>\n",
       "      <td>1</td>\n",
       "      <td>{'NoiseLevel': 'u'average'', 'HasTV': 'False',...</td>\n",
       "      <td>Restaurants, Breakfast &amp; Brunch, Food, Juice B...</td>\n",
       "      <td>{'Monday': '7:30-15:0', 'Tuesday': '7:30-15:0'...</td>\n",
       "    </tr>\n",
       "    <tr>\n",
       "      <th>1</th>\n",
       "      <td>OyoGAe7OKpv6SyGZT5g77Q</td>\n",
       "      <td>7ATYjTIgM3jUlt4UM3IypQ</td>\n",
       "      <td>5</td>\n",
       "      <td>I've taken a lot of spin classes over the year...</td>\n",
       "      <td>2012-01-03 15:28:18</td>\n",
       "      <td>Body Cycle Spinning Studio</td>\n",
       "      <td>1923 Chestnut St, 2nd Fl</td>\n",
       "      <td>Philadelphia</td>\n",
       "      <td>PA</td>\n",
       "      <td>19119</td>\n",
       "      <td>39.952103</td>\n",
       "      <td>-75.172753</td>\n",
       "      <td>5.0</td>\n",
       "      <td>144</td>\n",
       "      <td>0</td>\n",
       "      <td>{'BusinessAcceptsCreditCards': 'True', 'GoodFo...</td>\n",
       "      <td>Active Life, Cycling Classes, Trainers, Gyms, ...</td>\n",
       "      <td>{'Monday': '6:30-20:30', 'Tuesday': '6:30-20:3...</td>\n",
       "    </tr>\n",
       "    <tr>\n",
       "      <th>2</th>\n",
       "      <td>8g_iMtfSiwikVnbP2etR0A</td>\n",
       "      <td>YjUWPpI6HXG530lwP-fb2A</td>\n",
       "      <td>3</td>\n",
       "      <td>Family diner. Had the buffet. Eclectic assortm...</td>\n",
       "      <td>2014-02-05 20:30:30</td>\n",
       "      <td>Kettle Restaurant</td>\n",
       "      <td>748 W Starr Pass Blvd</td>\n",
       "      <td>Tucson</td>\n",
       "      <td>AZ</td>\n",
       "      <td>85713</td>\n",
       "      <td>32.207233</td>\n",
       "      <td>-110.980864</td>\n",
       "      <td>3.5</td>\n",
       "      <td>47</td>\n",
       "      <td>1</td>\n",
       "      <td>{'RestaurantsReservations': 'True', 'BusinessP...</td>\n",
       "      <td>Restaurants, Breakfast &amp; Brunch</td>\n",
       "      <td>None</td>\n",
       "    </tr>\n",
       "    <tr>\n",
       "      <th>3</th>\n",
       "      <td>_7bHUi9Uuf5__HHc_Q8guQ</td>\n",
       "      <td>kxX2SOes4o-D3ZQBkiMRfA</td>\n",
       "      <td>5</td>\n",
       "      <td>Wow!  Yummy, different,  delicious.   Our favo...</td>\n",
       "      <td>2015-01-04 00:01:03</td>\n",
       "      <td>Zaika</td>\n",
       "      <td>2481 Grant Ave</td>\n",
       "      <td>Philadelphia</td>\n",
       "      <td>PA</td>\n",
       "      <td>19114</td>\n",
       "      <td>40.079848</td>\n",
       "      <td>-75.025080</td>\n",
       "      <td>4.0</td>\n",
       "      <td>181</td>\n",
       "      <td>1</td>\n",
       "      <td>{'Caters': 'True', 'Ambience': '{'romantic': F...</td>\n",
       "      <td>Halal, Pakistani, Restaurants, Indian</td>\n",
       "      <td>{'Tuesday': '11:0-21:0', 'Wednesday': '11:0-21...</td>\n",
       "    </tr>\n",
       "    <tr>\n",
       "      <th>4</th>\n",
       "      <td>bcjbaE6dDog4jkNY91ncLQ</td>\n",
       "      <td>e4Vwtrqf-wpJfwesgvdgxQ</td>\n",
       "      <td>4</td>\n",
       "      <td>Cute interior and owner (?) gave us tour of up...</td>\n",
       "      <td>2017-01-14 20:54:15</td>\n",
       "      <td>Melt</td>\n",
       "      <td>2549 Banks St</td>\n",
       "      <td>New Orleans</td>\n",
       "      <td>LA</td>\n",
       "      <td>70119</td>\n",
       "      <td>29.962102</td>\n",
       "      <td>-90.087958</td>\n",
       "      <td>4.0</td>\n",
       "      <td>32</td>\n",
       "      <td>0</td>\n",
       "      <td>{'BusinessParking': '{'garage': False, 'street...</td>\n",
       "      <td>Sandwiches, Beer, Wine &amp; Spirits, Bars, Food, ...</td>\n",
       "      <td>{'Monday': '0:0-0:0', 'Friday': '11:0-17:0', '...</td>\n",
       "    </tr>\n",
       "  </tbody>\n",
       "</table>\n",
       "</div>"
      ],
      "text/plain": [
       "                  user_id             business_id  stars_x  \\\n",
       "0  mh_-eMZ6K5RLWhZyISBhwA  XQfwVwDr-v0ZS3_CbbE5Xw        3   \n",
       "1  OyoGAe7OKpv6SyGZT5g77Q  7ATYjTIgM3jUlt4UM3IypQ        5   \n",
       "2  8g_iMtfSiwikVnbP2etR0A  YjUWPpI6HXG530lwP-fb2A        3   \n",
       "3  _7bHUi9Uuf5__HHc_Q8guQ  kxX2SOes4o-D3ZQBkiMRfA        5   \n",
       "4  bcjbaE6dDog4jkNY91ncLQ  e4Vwtrqf-wpJfwesgvdgxQ        4   \n",
       "\n",
       "                                              review                date  \\\n",
       "0  If you decide to eat here, just be aware it is... 2018-07-07 22:09:11   \n",
       "1  I've taken a lot of spin classes over the year... 2012-01-03 15:28:18   \n",
       "2  Family diner. Had the buffet. Eclectic assortm... 2014-02-05 20:30:30   \n",
       "3  Wow!  Yummy, different,  delicious.   Our favo... 2015-01-04 00:01:03   \n",
       "4  Cute interior and owner (?) gave us tour of up... 2017-01-14 20:54:15   \n",
       "\n",
       "                           name                   address          city state  \\\n",
       "0  Turning Point of North Wales       1460 Bethlehem Pike   North Wales    PA   \n",
       "1    Body Cycle Spinning Studio  1923 Chestnut St, 2nd Fl  Philadelphia    PA   \n",
       "2             Kettle Restaurant     748 W Starr Pass Blvd        Tucson    AZ   \n",
       "3                         Zaika            2481 Grant Ave  Philadelphia    PA   \n",
       "4                          Melt             2549 Banks St   New Orleans    LA   \n",
       "\n",
       "  postal_code   latitude   longitude  stars_y  review_count  is_open  \\\n",
       "0       19454  40.210196  -75.223639      3.0           169        1   \n",
       "1       19119  39.952103  -75.172753      5.0           144        0   \n",
       "2       85713  32.207233 -110.980864      3.5            47        1   \n",
       "3       19114  40.079848  -75.025080      4.0           181        1   \n",
       "4       70119  29.962102  -90.087958      4.0            32        0   \n",
       "\n",
       "                                          attributes  \\\n",
       "0  {'NoiseLevel': 'u'average'', 'HasTV': 'False',...   \n",
       "1  {'BusinessAcceptsCreditCards': 'True', 'GoodFo...   \n",
       "2  {'RestaurantsReservations': 'True', 'BusinessP...   \n",
       "3  {'Caters': 'True', 'Ambience': '{'romantic': F...   \n",
       "4  {'BusinessParking': '{'garage': False, 'street...   \n",
       "\n",
       "                                          categories  \\\n",
       "0  Restaurants, Breakfast & Brunch, Food, Juice B...   \n",
       "1  Active Life, Cycling Classes, Trainers, Gyms, ...   \n",
       "2                    Restaurants, Breakfast & Brunch   \n",
       "3              Halal, Pakistani, Restaurants, Indian   \n",
       "4  Sandwiches, Beer, Wine & Spirits, Bars, Food, ...   \n",
       "\n",
       "                                               hours  \n",
       "0  {'Monday': '7:30-15:0', 'Tuesday': '7:30-15:0'...  \n",
       "1  {'Monday': '6:30-20:30', 'Tuesday': '6:30-20:3...  \n",
       "2                                               None  \n",
       "3  {'Tuesday': '11:0-21:0', 'Wednesday': '11:0-21...  \n",
       "4  {'Monday': '0:0-0:0', 'Friday': '11:0-17:0', '...  "
      ]
     },
     "execution_count": 245,
     "metadata": {},
     "output_type": "execute_result"
    }
   ],
   "source": [
    "data_df.head()"
   ]
  },
  {
   "cell_type": "markdown",
   "metadata": {},
   "source": [
    "#### Na count"
   ]
  },
  {
   "cell_type": "code",
   "execution_count": 248,
   "metadata": {},
   "outputs": [
    {
     "data": {
      "text/plain": [
       "user_id              0\n",
       "business_id          0\n",
       "stars_x              0\n",
       "review               0\n",
       "date                 0\n",
       "name                 0\n",
       "address              0\n",
       "city                 0\n",
       "state                0\n",
       "postal_code          0\n",
       "latitude             0\n",
       "longitude            0\n",
       "stars_y              0\n",
       "review_count         0\n",
       "is_open              0\n",
       "attributes      183723\n",
       "categories         689\n",
       "hours           398286\n",
       "dtype: int64"
      ]
     },
     "execution_count": 248,
     "metadata": {},
     "output_type": "execute_result"
    }
   ],
   "source": [
    "data_df.isna().sum()"
   ]
  },
  {
   "cell_type": "code",
   "execution_count": 249,
   "metadata": {},
   "outputs": [
    {
     "data": {
      "text/html": [
       "<div>\n",
       "<style scoped>\n",
       "    .dataframe tbody tr th:only-of-type {\n",
       "        vertical-align: middle;\n",
       "    }\n",
       "\n",
       "    .dataframe tbody tr th {\n",
       "        vertical-align: top;\n",
       "    }\n",
       "\n",
       "    .dataframe thead th {\n",
       "        text-align: right;\n",
       "    }\n",
       "</style>\n",
       "<table border=\"1\" class=\"dataframe\">\n",
       "  <thead>\n",
       "    <tr style=\"text-align: right;\">\n",
       "      <th></th>\n",
       "      <th>attributes</th>\n",
       "      <th>categories</th>\n",
       "      <th>hours</th>\n",
       "    </tr>\n",
       "  </thead>\n",
       "  <tbody>\n",
       "    <tr>\n",
       "      <th>percentage</th>\n",
       "      <td>2.628264</td>\n",
       "      <td>0.009857</td>\n",
       "      <td>5.697712</td>\n",
       "    </tr>\n",
       "  </tbody>\n",
       "</table>\n",
       "</div>"
      ],
      "text/plain": [
       "            attributes  categories     hours\n",
       "percentage    2.628264    0.009857  5.697712"
      ]
     },
     "execution_count": 249,
     "metadata": {},
     "output_type": "execute_result"
    }
   ],
   "source": [
    "na_prcnt = data_df[['attributes','categories','hours']].isna().sum()/data_df.shape[0]*100\n",
    "nas_df = pd.DataFrame(na_prcnt, columns=['percentage'])\n",
    "nas_df = nas_df.transpose()\n",
    "nas_df"
   ]
  },
  {
   "cell_type": "code",
   "execution_count": 250,
   "metadata": {},
   "outputs": [
    {
     "data": {
      "text/plain": [
       "Text(0.5, 1.0, 'Na percentage')"
      ]
     },
     "execution_count": 250,
     "metadata": {},
     "output_type": "execute_result"
    },
    {
     "data": {
      "image/png": "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",
      "text/plain": [
       "<Figure size 640x480 with 1 Axes>"
      ]
     },
     "metadata": {},
     "output_type": "display_data"
    }
   ],
   "source": [
    "sns.barplot(data = nas_df).set_title('Na percentage')"
   ]
  },
  {
   "cell_type": "markdown",
   "metadata": {},
   "source": [
    "#### **<font color='orange'> Notes:</font>**\n",
    "**Due to the low percentage of na counts for each feature recommend dropping the rows.**"
   ]
  },
  {
   "cell_type": "code",
   "execution_count": null,
   "metadata": {},
   "outputs": [],
   "source": []
  },
  {
   "cell_type": "markdown",
   "metadata": {},
   "source": [
    "#### *<font color='grey'>stars_x* and *<font color='grey'>stars_y* comparison"
   ]
  },
  {
   "cell_type": "code",
   "execution_count": 254,
   "metadata": {},
   "outputs": [
    {
     "data": {
      "text/html": [
       "<div>\n",
       "<style scoped>\n",
       "    .dataframe tbody tr th:only-of-type {\n",
       "        vertical-align: middle;\n",
       "    }\n",
       "\n",
       "    .dataframe tbody tr th {\n",
       "        vertical-align: top;\n",
       "    }\n",
       "\n",
       "    .dataframe thead th {\n",
       "        text-align: right;\n",
       "    }\n",
       "</style>\n",
       "<table border=\"1\" class=\"dataframe\">\n",
       "  <thead>\n",
       "    <tr style=\"text-align: right;\">\n",
       "      <th></th>\n",
       "      <th>stars_x</th>\n",
       "      <th>stars_y</th>\n",
       "    </tr>\n",
       "  </thead>\n",
       "  <tbody>\n",
       "    <tr>\n",
       "      <th>2</th>\n",
       "      <td>3</td>\n",
       "      <td>3.5</td>\n",
       "    </tr>\n",
       "    <tr>\n",
       "      <th>3</th>\n",
       "      <td>5</td>\n",
       "      <td>4.0</td>\n",
       "    </tr>\n",
       "    <tr>\n",
       "      <th>5</th>\n",
       "      <td>1</td>\n",
       "      <td>4.0</td>\n",
       "    </tr>\n",
       "    <tr>\n",
       "      <th>6</th>\n",
       "      <td>5</td>\n",
       "      <td>4.5</td>\n",
       "    </tr>\n",
       "    <tr>\n",
       "      <th>7</th>\n",
       "      <td>5</td>\n",
       "      <td>3.5</td>\n",
       "    </tr>\n",
       "  </tbody>\n",
       "</table>\n",
       "</div>"
      ],
      "text/plain": [
       "   stars_x  stars_y\n",
       "2        3      3.5\n",
       "3        5      4.0\n",
       "5        1      4.0\n",
       "6        5      4.5\n",
       "7        5      3.5"
      ]
     },
     "execution_count": 254,
     "metadata": {},
     "output_type": "execute_result"
    }
   ],
   "source": [
    "data_df.loc[data_df['stars_x'] != data_df['stars_y']][['stars_x','stars_y']].head()"
   ]
  },
  {
   "cell_type": "markdown",
   "metadata": {},
   "source": [
    "#### *<font color='grey'>stars_x* and *<font color='grey'>stars_y*  for the same customer"
   ]
  },
  {
   "cell_type": "code",
   "execution_count": 256,
   "metadata": {},
   "outputs": [
    {
     "data": {
      "text/html": [
       "<div>\n",
       "<style scoped>\n",
       "    .dataframe tbody tr th:only-of-type {\n",
       "        vertical-align: middle;\n",
       "    }\n",
       "\n",
       "    .dataframe tbody tr th {\n",
       "        vertical-align: top;\n",
       "    }\n",
       "\n",
       "    .dataframe thead th {\n",
       "        text-align: right;\n",
       "    }\n",
       "</style>\n",
       "<table border=\"1\" class=\"dataframe\">\n",
       "  <thead>\n",
       "    <tr style=\"text-align: right;\">\n",
       "      <th></th>\n",
       "      <th>stars_x</th>\n",
       "      <th>stars_y</th>\n",
       "    </tr>\n",
       "  </thead>\n",
       "  <tbody>\n",
       "    <tr>\n",
       "      <th>0</th>\n",
       "      <td>3</td>\n",
       "      <td>3.0</td>\n",
       "    </tr>\n",
       "    <tr>\n",
       "      <th>6080</th>\n",
       "      <td>2</td>\n",
       "      <td>3.0</td>\n",
       "    </tr>\n",
       "    <tr>\n",
       "      <th>6911</th>\n",
       "      <td>4</td>\n",
       "      <td>3.0</td>\n",
       "    </tr>\n",
       "    <tr>\n",
       "      <th>6927</th>\n",
       "      <td>3</td>\n",
       "      <td>3.0</td>\n",
       "    </tr>\n",
       "    <tr>\n",
       "      <th>13378</th>\n",
       "      <td>2</td>\n",
       "      <td>3.0</td>\n",
       "    </tr>\n",
       "  </tbody>\n",
       "</table>\n",
       "</div>"
      ],
      "text/plain": [
       "       stars_x  stars_y\n",
       "0            3      3.0\n",
       "6080         2      3.0\n",
       "6911         4      3.0\n",
       "6927         3      3.0\n",
       "13378        2      3.0"
      ]
     },
     "execution_count": 256,
     "metadata": {},
     "output_type": "execute_result"
    }
   ],
   "source": [
    "data_df.loc[data_df['business_id']=='XQfwVwDr-v0ZS3_CbbE5Xw'][['stars_x','stars_y']].head()"
   ]
  },
  {
   "cell_type": "markdown",
   "metadata": {},
   "source": [
    "#### *<font color='grey'>stars_x* average"
   ]
  },
  {
   "cell_type": "code",
   "execution_count": 258,
   "metadata": {},
   "outputs": [
    {
     "data": {
      "text/plain": [
       "3.07"
      ]
     },
     "execution_count": 258,
     "metadata": {},
     "output_type": "execute_result"
    }
   ],
   "source": [
    "round(data_df.loc[data_df['business_id']=='XQfwVwDr-v0ZS3_CbbE5Xw']['stars_x'].mean(),2)"
   ]
  },
  {
   "cell_type": "code",
   "execution_count": null,
   "metadata": {},
   "outputs": [],
   "source": []
  },
  {
   "cell_type": "markdown",
   "metadata": {},
   "source": [
    "#### **<font color='orange'> Notes:</font>**\n",
    "**Because** *<font color='grey'> star_y</font>* **represents the average star rating, renaming** *<font color='grey'> star_y:</font>* **to:** *<font color='grey'> star_avg:</font>*"
   ]
  },
  {
   "cell_type": "code",
   "execution_count": 261,
   "metadata": {},
   "outputs": [],
   "source": [
    "data_df.rename(columns={'stars_y':'stars_avg','stars_x':'stars'},inplace = True)"
   ]
  },
  {
   "cell_type": "code",
   "execution_count": null,
   "metadata": {},
   "outputs": [],
   "source": []
  },
  {
   "cell_type": "code",
   "execution_count": 264,
   "metadata": {},
   "outputs": [
    {
     "data": {
      "text/html": [
       "<div>\n",
       "<style scoped>\n",
       "    .dataframe tbody tr th:only-of-type {\n",
       "        vertical-align: middle;\n",
       "    }\n",
       "\n",
       "    .dataframe tbody tr th {\n",
       "        vertical-align: top;\n",
       "    }\n",
       "\n",
       "    .dataframe thead th {\n",
       "        text-align: right;\n",
       "    }\n",
       "</style>\n",
       "<table border=\"1\" class=\"dataframe\">\n",
       "  <thead>\n",
       "    <tr style=\"text-align: right;\">\n",
       "      <th></th>\n",
       "      <th>user_id</th>\n",
       "      <th>business_id</th>\n",
       "      <th>stars</th>\n",
       "      <th>review</th>\n",
       "      <th>date</th>\n",
       "      <th>name</th>\n",
       "      <th>address</th>\n",
       "      <th>city</th>\n",
       "      <th>state</th>\n",
       "      <th>postal_code</th>\n",
       "      <th>latitude</th>\n",
       "      <th>longitude</th>\n",
       "      <th>stars_avg</th>\n",
       "      <th>review_count</th>\n",
       "      <th>is_open</th>\n",
       "      <th>attributes</th>\n",
       "      <th>categories</th>\n",
       "      <th>hours</th>\n",
       "    </tr>\n",
       "  </thead>\n",
       "  <tbody>\n",
       "    <tr>\n",
       "      <th>0</th>\n",
       "      <td>mh_-eMZ6K5RLWhZyISBhwA</td>\n",
       "      <td>XQfwVwDr-v0ZS3_CbbE5Xw</td>\n",
       "      <td>3</td>\n",
       "      <td>If you decide to eat here, just be aware it is...</td>\n",
       "      <td>2018-07-07 22:09:11</td>\n",
       "      <td>Turning Point of North Wales</td>\n",
       "      <td>1460 Bethlehem Pike</td>\n",
       "      <td>North Wales</td>\n",
       "      <td>PA</td>\n",
       "      <td>19454</td>\n",
       "      <td>40.210196</td>\n",
       "      <td>-75.223639</td>\n",
       "      <td>3.0</td>\n",
       "      <td>169</td>\n",
       "      <td>1</td>\n",
       "      <td>{'NoiseLevel': 'u'average'', 'HasTV': 'False',...</td>\n",
       "      <td>Restaurants, Breakfast &amp; Brunch, Food, Juice B...</td>\n",
       "      <td>{'Monday': '7:30-15:0', 'Tuesday': '7:30-15:0'...</td>\n",
       "    </tr>\n",
       "    <tr>\n",
       "      <th>1</th>\n",
       "      <td>OyoGAe7OKpv6SyGZT5g77Q</td>\n",
       "      <td>7ATYjTIgM3jUlt4UM3IypQ</td>\n",
       "      <td>5</td>\n",
       "      <td>I've taken a lot of spin classes over the year...</td>\n",
       "      <td>2012-01-03 15:28:18</td>\n",
       "      <td>Body Cycle Spinning Studio</td>\n",
       "      <td>1923 Chestnut St, 2nd Fl</td>\n",
       "      <td>Philadelphia</td>\n",
       "      <td>PA</td>\n",
       "      <td>19119</td>\n",
       "      <td>39.952103</td>\n",
       "      <td>-75.172753</td>\n",
       "      <td>5.0</td>\n",
       "      <td>144</td>\n",
       "      <td>0</td>\n",
       "      <td>{'BusinessAcceptsCreditCards': 'True', 'GoodFo...</td>\n",
       "      <td>Active Life, Cycling Classes, Trainers, Gyms, ...</td>\n",
       "      <td>{'Monday': '6:30-20:30', 'Tuesday': '6:30-20:3...</td>\n",
       "    </tr>\n",
       "    <tr>\n",
       "      <th>2</th>\n",
       "      <td>8g_iMtfSiwikVnbP2etR0A</td>\n",
       "      <td>YjUWPpI6HXG530lwP-fb2A</td>\n",
       "      <td>3</td>\n",
       "      <td>Family diner. Had the buffet. Eclectic assortm...</td>\n",
       "      <td>2014-02-05 20:30:30</td>\n",
       "      <td>Kettle Restaurant</td>\n",
       "      <td>748 W Starr Pass Blvd</td>\n",
       "      <td>Tucson</td>\n",
       "      <td>AZ</td>\n",
       "      <td>85713</td>\n",
       "      <td>32.207233</td>\n",
       "      <td>-110.980864</td>\n",
       "      <td>3.5</td>\n",
       "      <td>47</td>\n",
       "      <td>1</td>\n",
       "      <td>{'RestaurantsReservations': 'True', 'BusinessP...</td>\n",
       "      <td>Restaurants, Breakfast &amp; Brunch</td>\n",
       "      <td>None</td>\n",
       "    </tr>\n",
       "    <tr>\n",
       "      <th>3</th>\n",
       "      <td>_7bHUi9Uuf5__HHc_Q8guQ</td>\n",
       "      <td>kxX2SOes4o-D3ZQBkiMRfA</td>\n",
       "      <td>5</td>\n",
       "      <td>Wow!  Yummy, different,  delicious.   Our favo...</td>\n",
       "      <td>2015-01-04 00:01:03</td>\n",
       "      <td>Zaika</td>\n",
       "      <td>2481 Grant Ave</td>\n",
       "      <td>Philadelphia</td>\n",
       "      <td>PA</td>\n",
       "      <td>19114</td>\n",
       "      <td>40.079848</td>\n",
       "      <td>-75.025080</td>\n",
       "      <td>4.0</td>\n",
       "      <td>181</td>\n",
       "      <td>1</td>\n",
       "      <td>{'Caters': 'True', 'Ambience': '{'romantic': F...</td>\n",
       "      <td>Halal, Pakistani, Restaurants, Indian</td>\n",
       "      <td>{'Tuesday': '11:0-21:0', 'Wednesday': '11:0-21...</td>\n",
       "    </tr>\n",
       "    <tr>\n",
       "      <th>4</th>\n",
       "      <td>bcjbaE6dDog4jkNY91ncLQ</td>\n",
       "      <td>e4Vwtrqf-wpJfwesgvdgxQ</td>\n",
       "      <td>4</td>\n",
       "      <td>Cute interior and owner (?) gave us tour of up...</td>\n",
       "      <td>2017-01-14 20:54:15</td>\n",
       "      <td>Melt</td>\n",
       "      <td>2549 Banks St</td>\n",
       "      <td>New Orleans</td>\n",
       "      <td>LA</td>\n",
       "      <td>70119</td>\n",
       "      <td>29.962102</td>\n",
       "      <td>-90.087958</td>\n",
       "      <td>4.0</td>\n",
       "      <td>32</td>\n",
       "      <td>0</td>\n",
       "      <td>{'BusinessParking': '{'garage': False, 'street...</td>\n",
       "      <td>Sandwiches, Beer, Wine &amp; Spirits, Bars, Food, ...</td>\n",
       "      <td>{'Monday': '0:0-0:0', 'Friday': '11:0-17:0', '...</td>\n",
       "    </tr>\n",
       "  </tbody>\n",
       "</table>\n",
       "</div>"
      ],
      "text/plain": [
       "                  user_id             business_id  stars  \\\n",
       "0  mh_-eMZ6K5RLWhZyISBhwA  XQfwVwDr-v0ZS3_CbbE5Xw      3   \n",
       "1  OyoGAe7OKpv6SyGZT5g77Q  7ATYjTIgM3jUlt4UM3IypQ      5   \n",
       "2  8g_iMtfSiwikVnbP2etR0A  YjUWPpI6HXG530lwP-fb2A      3   \n",
       "3  _7bHUi9Uuf5__HHc_Q8guQ  kxX2SOes4o-D3ZQBkiMRfA      5   \n",
       "4  bcjbaE6dDog4jkNY91ncLQ  e4Vwtrqf-wpJfwesgvdgxQ      4   \n",
       "\n",
       "                                              review                date  \\\n",
       "0  If you decide to eat here, just be aware it is... 2018-07-07 22:09:11   \n",
       "1  I've taken a lot of spin classes over the year... 2012-01-03 15:28:18   \n",
       "2  Family diner. Had the buffet. Eclectic assortm... 2014-02-05 20:30:30   \n",
       "3  Wow!  Yummy, different,  delicious.   Our favo... 2015-01-04 00:01:03   \n",
       "4  Cute interior and owner (?) gave us tour of up... 2017-01-14 20:54:15   \n",
       "\n",
       "                           name                   address          city state  \\\n",
       "0  Turning Point of North Wales       1460 Bethlehem Pike   North Wales    PA   \n",
       "1    Body Cycle Spinning Studio  1923 Chestnut St, 2nd Fl  Philadelphia    PA   \n",
       "2             Kettle Restaurant     748 W Starr Pass Blvd        Tucson    AZ   \n",
       "3                         Zaika            2481 Grant Ave  Philadelphia    PA   \n",
       "4                          Melt             2549 Banks St   New Orleans    LA   \n",
       "\n",
       "  postal_code   latitude   longitude  stars_avg  review_count  is_open  \\\n",
       "0       19454  40.210196  -75.223639        3.0           169        1   \n",
       "1       19119  39.952103  -75.172753        5.0           144        0   \n",
       "2       85713  32.207233 -110.980864        3.5            47        1   \n",
       "3       19114  40.079848  -75.025080        4.0           181        1   \n",
       "4       70119  29.962102  -90.087958        4.0            32        0   \n",
       "\n",
       "                                          attributes  \\\n",
       "0  {'NoiseLevel': 'u'average'', 'HasTV': 'False',...   \n",
       "1  {'BusinessAcceptsCreditCards': 'True', 'GoodFo...   \n",
       "2  {'RestaurantsReservations': 'True', 'BusinessP...   \n",
       "3  {'Caters': 'True', 'Ambience': '{'romantic': F...   \n",
       "4  {'BusinessParking': '{'garage': False, 'street...   \n",
       "\n",
       "                                          categories  \\\n",
       "0  Restaurants, Breakfast & Brunch, Food, Juice B...   \n",
       "1  Active Life, Cycling Classes, Trainers, Gyms, ...   \n",
       "2                    Restaurants, Breakfast & Brunch   \n",
       "3              Halal, Pakistani, Restaurants, Indian   \n",
       "4  Sandwiches, Beer, Wine & Spirits, Bars, Food, ...   \n",
       "\n",
       "                                               hours  \n",
       "0  {'Monday': '7:30-15:0', 'Tuesday': '7:30-15:0'...  \n",
       "1  {'Monday': '6:30-20:30', 'Tuesday': '6:30-20:3...  \n",
       "2                                               None  \n",
       "3  {'Tuesday': '11:0-21:0', 'Wednesday': '11:0-21...  \n",
       "4  {'Monday': '0:0-0:0', 'Friday': '11:0-17:0', '...  "
      ]
     },
     "execution_count": 264,
     "metadata": {},
     "output_type": "execute_result"
    }
   ],
   "source": [
    "data_df.head()"
   ]
  },
  {
   "cell_type": "code",
   "execution_count": null,
   "metadata": {},
   "outputs": [],
   "source": []
  },
  {
   "cell_type": "markdown",
   "metadata": {},
   "source": [
    "# //////////////////////////////////////////////////////////////////////////////////////////////////"
   ]
  },
  {
   "cell_type": "code",
   "execution_count": null,
   "metadata": {},
   "outputs": [],
   "source": []
  },
  {
   "cell_type": "markdown",
   "metadata": {},
   "source": [
    "#### <font color = 'blue'>Description:</font>\n",
    "**Contains customer recommendatins to improve experience**"
   ]
  },
  {
   "cell_type": "code",
   "execution_count": 271,
   "metadata": {},
   "outputs": [
    {
     "data": {
      "text/html": [
       "<div>\n",
       "<style scoped>\n",
       "    .dataframe tbody tr th:only-of-type {\n",
       "        vertical-align: middle;\n",
       "    }\n",
       "\n",
       "    .dataframe tbody tr th {\n",
       "        vertical-align: top;\n",
       "    }\n",
       "\n",
       "    .dataframe thead th {\n",
       "        text-align: right;\n",
       "    }\n",
       "</style>\n",
       "<table border=\"1\" class=\"dataframe\">\n",
       "  <thead>\n",
       "    <tr style=\"text-align: right;\">\n",
       "      <th></th>\n",
       "      <th>user_id</th>\n",
       "      <th>business_id</th>\n",
       "      <th>recommendations</th>\n",
       "      <th>date</th>\n",
       "    </tr>\n",
       "  </thead>\n",
       "  <tbody>\n",
       "    <tr>\n",
       "      <th>0</th>\n",
       "      <td>AGNUgVwnZUey3gcPCJ76iw</td>\n",
       "      <td>3uLgwr0qeCNMjKenHJwPGQ</td>\n",
       "      <td>Avengers time with the ladies.</td>\n",
       "      <td>2012-05-18 02:17:21</td>\n",
       "    </tr>\n",
       "    <tr>\n",
       "      <th>1</th>\n",
       "      <td>NBN4MgHP9D3cw--SnauTkA</td>\n",
       "      <td>QoezRbYQncpRqyrLH6Iqjg</td>\n",
       "      <td>They have lots of good deserts and tasty cuban...</td>\n",
       "      <td>2013-02-05 18:35:10</td>\n",
       "    </tr>\n",
       "    <tr>\n",
       "      <th>2</th>\n",
       "      <td>-copOvldyKh1qr-vzkDEvw</td>\n",
       "      <td>MYoRNLb5chwjQe3c_k37Gg</td>\n",
       "      <td>It's open even when you think it isn't</td>\n",
       "      <td>2013-08-18 00:56:08</td>\n",
       "    </tr>\n",
       "    <tr>\n",
       "      <th>3</th>\n",
       "      <td>FjMQVZjSqY8syIO-53KFKw</td>\n",
       "      <td>hV-bABTK-glh5wj31ps_Jw</td>\n",
       "      <td>Very decent fried chicken</td>\n",
       "      <td>2017-06-27 23:05:38</td>\n",
       "    </tr>\n",
       "    <tr>\n",
       "      <th>4</th>\n",
       "      <td>ld0AperBXk1h6UbqmM80zw</td>\n",
       "      <td>_uN0OudeJ3Zl_tf6nxg5ww</td>\n",
       "      <td>Appetizers.. platter special for lunch</td>\n",
       "      <td>2012-10-06 19:43:09</td>\n",
       "    </tr>\n",
       "  </tbody>\n",
       "</table>\n",
       "</div>"
      ],
      "text/plain": [
       "                  user_id             business_id  \\\n",
       "0  AGNUgVwnZUey3gcPCJ76iw  3uLgwr0qeCNMjKenHJwPGQ   \n",
       "1  NBN4MgHP9D3cw--SnauTkA  QoezRbYQncpRqyrLH6Iqjg   \n",
       "2  -copOvldyKh1qr-vzkDEvw  MYoRNLb5chwjQe3c_k37Gg   \n",
       "3  FjMQVZjSqY8syIO-53KFKw  hV-bABTK-glh5wj31ps_Jw   \n",
       "4  ld0AperBXk1h6UbqmM80zw  _uN0OudeJ3Zl_tf6nxg5ww   \n",
       "\n",
       "                                     recommendations                date  \n",
       "0                     Avengers time with the ladies. 2012-05-18 02:17:21  \n",
       "1  They have lots of good deserts and tasty cuban... 2013-02-05 18:35:10  \n",
       "2             It's open even when you think it isn't 2013-08-18 00:56:08  \n",
       "3                          Very decent fried chicken 2017-06-27 23:05:38  \n",
       "4             Appetizers.. platter special for lunch 2012-10-06 19:43:09  "
      ]
     },
     "execution_count": 271,
     "metadata": {},
     "output_type": "execute_result"
    }
   ],
   "source": [
    "tips_df.head()"
   ]
  },
  {
   "cell_type": "code",
   "execution_count": 273,
   "metadata": {},
   "outputs": [
    {
     "name": "stdout",
     "output_type": "stream",
     "text": [
      "<class 'pandas.core.frame.DataFrame'>\n",
      "RangeIndex: 908915 entries, 0 to 908914\n",
      "Data columns (total 4 columns):\n",
      " #   Column           Non-Null Count   Dtype         \n",
      "---  ------           --------------   -----         \n",
      " 0   user_id          908915 non-null  object        \n",
      " 1   business_id      908915 non-null  object        \n",
      " 2   recommendations  908915 non-null  object        \n",
      " 3   date             908915 non-null  datetime64[ns]\n",
      "dtypes: datetime64[ns](1), object(3)\n",
      "memory usage: 27.7+ MB\n"
     ]
    }
   ],
   "source": [
    "tips_df.info()"
   ]
  },
  {
   "cell_type": "markdown",
   "metadata": {},
   "source": [
    "#### Quantity of unique business_id in the tips data set"
   ]
  },
  {
   "cell_type": "code",
   "execution_count": 281,
   "metadata": {},
   "outputs": [
    {
     "data": {
      "text/plain": [
       "106193"
      ]
     },
     "metadata": {},
     "output_type": "display_data"
    }
   ],
   "source": [
    "display(tips_df['business_id'].unique().shape[0])"
   ]
  },
  {
   "cell_type": "markdown",
   "metadata": {},
   "source": [
    "#### Quantity of unique business_id in  data_df"
   ]
  },
  {
   "cell_type": "code",
   "execution_count": 283,
   "metadata": {},
   "outputs": [
    {
     "data": {
      "text/plain": [
       "150346"
      ]
     },
     "execution_count": 283,
     "metadata": {},
     "output_type": "execute_result"
    }
   ],
   "source": [
    "data_df['business_id'].unique().shape[0]"
   ]
  },
  {
   "cell_type": "markdown",
   "metadata": {},
   "source": [
    "#### Subset of *<font color='grey'>business_id</font>* in *<font color='grey'>data_df</font>* not found in *<font color='grey'>tips_df</font>*."
   ]
  },
  {
   "cell_type": "code",
   "execution_count": 286,
   "metadata": {},
   "outputs": [
    {
     "data": {
      "text/html": [
       "<div>\n",
       "<style scoped>\n",
       "    .dataframe tbody tr th:only-of-type {\n",
       "        vertical-align: middle;\n",
       "    }\n",
       "\n",
       "    .dataframe tbody tr th {\n",
       "        vertical-align: top;\n",
       "    }\n",
       "\n",
       "    .dataframe thead th {\n",
       "        text-align: right;\n",
       "    }\n",
       "</style>\n",
       "<table border=\"1\" class=\"dataframe\">\n",
       "  <thead>\n",
       "    <tr style=\"text-align: right;\">\n",
       "      <th></th>\n",
       "      <th>user_id</th>\n",
       "      <th>business_id</th>\n",
       "      <th>stars</th>\n",
       "      <th>review</th>\n",
       "      <th>date</th>\n",
       "      <th>name</th>\n",
       "      <th>address</th>\n",
       "      <th>city</th>\n",
       "      <th>state</th>\n",
       "      <th>postal_code</th>\n",
       "      <th>latitude</th>\n",
       "      <th>longitude</th>\n",
       "      <th>stars_avg</th>\n",
       "      <th>review_count</th>\n",
       "      <th>is_open</th>\n",
       "      <th>attributes</th>\n",
       "      <th>categories</th>\n",
       "      <th>hours</th>\n",
       "    </tr>\n",
       "  </thead>\n",
       "  <tbody>\n",
       "    <tr>\n",
       "      <th>33</th>\n",
       "      <td>yFuE8SPF-d1GXJUWYgKtzg</td>\n",
       "      <td>X8lfGPagfLzfOsx0k08NRQ</td>\n",
       "      <td>5</td>\n",
       "      <td>Took my vehicle here for some work a few years...</td>\n",
       "      <td>2017-05-13 14:15:29</td>\n",
       "      <td>Landa Muffler &amp; Brake</td>\n",
       "      <td>816 E 4th St</td>\n",
       "      <td>Reno</td>\n",
       "      <td>NV</td>\n",
       "      <td>89512</td>\n",
       "      <td>39.531787</td>\n",
       "      <td>-119.802696</td>\n",
       "      <td>3.5</td>\n",
       "      <td>29</td>\n",
       "      <td>1</td>\n",
       "      <td>{'BusinessAcceptsCreditCards': 'True'}</td>\n",
       "      <td>Auto Repair, Smog Check Stations, Auto Parts &amp;...</td>\n",
       "      <td>{'Monday': '8:0-17:0', 'Tuesday': '8:0-17:0', ...</td>\n",
       "    </tr>\n",
       "    <tr>\n",
       "      <th>54</th>\n",
       "      <td>dKoIp8vsKFH4cbmGSYy2IQ</td>\n",
       "      <td>0ICfbEImE0gUZc4kSZ7QHg</td>\n",
       "      <td>5</td>\n",
       "      <td>Replaced 2 old 70s lennox with 2 new ones.  Th...</td>\n",
       "      <td>2013-11-14 04:58:09</td>\n",
       "      <td>Reliance The Furnace Company</td>\n",
       "      <td>8545 Coronet Road</td>\n",
       "      <td>Edmonton</td>\n",
       "      <td>AB</td>\n",
       "      <td>T6E 4N7</td>\n",
       "      <td>53.499624</td>\n",
       "      <td>-113.456746</td>\n",
       "      <td>2.5</td>\n",
       "      <td>27</td>\n",
       "      <td>1</td>\n",
       "      <td>None</td>\n",
       "      <td>Contractors, Home Services, Plumbing, Water Pu...</td>\n",
       "      <td>{'Monday': '0:0-0:0', 'Tuesday': '0:0-0:0', 'W...</td>\n",
       "    </tr>\n",
       "    <tr>\n",
       "      <th>56</th>\n",
       "      <td>IMd3NQbclta91pFKk3AJZg</td>\n",
       "      <td>qO9dNNIvNbCBd8ZgjxMxgQ</td>\n",
       "      <td>5</td>\n",
       "      <td>Farmhouse, rustic, chic.Helpful staff with gre...</td>\n",
       "      <td>2017-04-08 00:33:11</td>\n",
       "      <td>HOME Santa Barbara</td>\n",
       "      <td>14 Parker Way</td>\n",
       "      <td>Santa Barbara</td>\n",
       "      <td>CA</td>\n",
       "      <td>93101</td>\n",
       "      <td>34.414912</td>\n",
       "      <td>-119.694171</td>\n",
       "      <td>4.5</td>\n",
       "      <td>13</td>\n",
       "      <td>1</td>\n",
       "      <td>{'WheelchairAccessible': 'True', 'BikeParking'...</td>\n",
       "      <td>Home &amp; Garden, Furniture Stores, Home Decor, S...</td>\n",
       "      <td>{'Monday': '9:0-17:0', 'Tuesday': '9:0-17:0', ...</td>\n",
       "    </tr>\n",
       "    <tr>\n",
       "      <th>76</th>\n",
       "      <td>B6G4f3UX1Z5_CpyV1xXm8Q</td>\n",
       "      <td>AgbRp5NLsP1-J1fdg6Hdcw</td>\n",
       "      <td>5</td>\n",
       "      <td>Awesome little shop.  The owner really knows h...</td>\n",
       "      <td>2017-05-13 17:15:09</td>\n",
       "      <td>Hands On Bicycle</td>\n",
       "      <td>1453 Gulf To Bay Blvd</td>\n",
       "      <td>Clearwater</td>\n",
       "      <td>FL</td>\n",
       "      <td>33755</td>\n",
       "      <td>27.963000</td>\n",
       "      <td>-82.777749</td>\n",
       "      <td>5.0</td>\n",
       "      <td>13</td>\n",
       "      <td>1</td>\n",
       "      <td>{'BusinessParking': '{'garage': False, 'street...</td>\n",
       "      <td>Sporting Goods, Bikes, Shopping</td>\n",
       "      <td>{'Monday': '6:0-17:0', 'Tuesday': '6:0-17:0', ...</td>\n",
       "    </tr>\n",
       "    <tr>\n",
       "      <th>86</th>\n",
       "      <td>XN1ms_EBRYMF5GYSjfUHDQ</td>\n",
       "      <td>rJzLJL33mFyrM_90kAQKuw</td>\n",
       "      <td>5</td>\n",
       "      <td>I'm so incredibly happy with our pictures! Ang...</td>\n",
       "      <td>2017-12-02 18:40:48</td>\n",
       "      <td>Angela Clifton Photography</td>\n",
       "      <td>18205 Atherstone Trl</td>\n",
       "      <td>Land O Lakes</td>\n",
       "      <td>FL</td>\n",
       "      <td>34638</td>\n",
       "      <td>28.208604</td>\n",
       "      <td>-82.516107</td>\n",
       "      <td>5.0</td>\n",
       "      <td>9</td>\n",
       "      <td>1</td>\n",
       "      <td>{'BusinessAcceptsCreditCards': 'True'}</td>\n",
       "      <td>Event Photography, Session Photography, Art Sc...</td>\n",
       "      <td>{'Monday': '10:0-17:0', 'Tuesday': '10:0-17:0'...</td>\n",
       "    </tr>\n",
       "  </tbody>\n",
       "</table>\n",
       "</div>"
      ],
      "text/plain": [
       "                   user_id             business_id  stars  \\\n",
       "33  yFuE8SPF-d1GXJUWYgKtzg  X8lfGPagfLzfOsx0k08NRQ      5   \n",
       "54  dKoIp8vsKFH4cbmGSYy2IQ  0ICfbEImE0gUZc4kSZ7QHg      5   \n",
       "56  IMd3NQbclta91pFKk3AJZg  qO9dNNIvNbCBd8ZgjxMxgQ      5   \n",
       "76  B6G4f3UX1Z5_CpyV1xXm8Q  AgbRp5NLsP1-J1fdg6Hdcw      5   \n",
       "86  XN1ms_EBRYMF5GYSjfUHDQ  rJzLJL33mFyrM_90kAQKuw      5   \n",
       "\n",
       "                                               review                date  \\\n",
       "33  Took my vehicle here for some work a few years... 2017-05-13 14:15:29   \n",
       "54  Replaced 2 old 70s lennox with 2 new ones.  Th... 2013-11-14 04:58:09   \n",
       "56  Farmhouse, rustic, chic.Helpful staff with gre... 2017-04-08 00:33:11   \n",
       "76  Awesome little shop.  The owner really knows h... 2017-05-13 17:15:09   \n",
       "86  I'm so incredibly happy with our pictures! Ang... 2017-12-02 18:40:48   \n",
       "\n",
       "                            name                address           city state  \\\n",
       "33         Landa Muffler & Brake           816 E 4th St           Reno    NV   \n",
       "54  Reliance The Furnace Company      8545 Coronet Road       Edmonton    AB   \n",
       "56            HOME Santa Barbara          14 Parker Way  Santa Barbara    CA   \n",
       "76              Hands On Bicycle  1453 Gulf To Bay Blvd     Clearwater    FL   \n",
       "86    Angela Clifton Photography   18205 Atherstone Trl   Land O Lakes    FL   \n",
       "\n",
       "   postal_code   latitude   longitude  stars_avg  review_count  is_open  \\\n",
       "33       89512  39.531787 -119.802696        3.5            29        1   \n",
       "54     T6E 4N7  53.499624 -113.456746        2.5            27        1   \n",
       "56       93101  34.414912 -119.694171        4.5            13        1   \n",
       "76       33755  27.963000  -82.777749        5.0            13        1   \n",
       "86       34638  28.208604  -82.516107        5.0             9        1   \n",
       "\n",
       "                                           attributes  \\\n",
       "33             {'BusinessAcceptsCreditCards': 'True'}   \n",
       "54                                               None   \n",
       "56  {'WheelchairAccessible': 'True', 'BikeParking'...   \n",
       "76  {'BusinessParking': '{'garage': False, 'street...   \n",
       "86             {'BusinessAcceptsCreditCards': 'True'}   \n",
       "\n",
       "                                           categories  \\\n",
       "33  Auto Repair, Smog Check Stations, Auto Parts &...   \n",
       "54  Contractors, Home Services, Plumbing, Water Pu...   \n",
       "56  Home & Garden, Furniture Stores, Home Decor, S...   \n",
       "76                    Sporting Goods, Bikes, Shopping   \n",
       "86  Event Photography, Session Photography, Art Sc...   \n",
       "\n",
       "                                                hours  \n",
       "33  {'Monday': '8:0-17:0', 'Tuesday': '8:0-17:0', ...  \n",
       "54  {'Monday': '0:0-0:0', 'Tuesday': '0:0-0:0', 'W...  \n",
       "56  {'Monday': '9:0-17:0', 'Tuesday': '9:0-17:0', ...  \n",
       "76  {'Monday': '6:0-17:0', 'Tuesday': '6:0-17:0', ...  \n",
       "86  {'Monday': '10:0-17:0', 'Tuesday': '10:0-17:0'...  "
      ]
     },
     "execution_count": 286,
     "metadata": {},
     "output_type": "execute_result"
    }
   ],
   "source": [
    "no_tips_df = data_df[~data_df['business_id'].isin(tips_df['business_id'])]\n",
    "no_tips_df.head()"
   ]
  },
  {
   "cell_type": "code",
   "execution_count": null,
   "metadata": {},
   "outputs": [],
   "source": []
  },
  {
   "cell_type": "markdown",
   "metadata": {},
   "source": [
    "#### Number of *<font color='grey'>business_id</font>* in *<font color='grey'>data_df</font>* not found in *<font color='grey'>tips_df</font>*."
   ]
  },
  {
   "cell_type": "code",
   "execution_count": 289,
   "metadata": {},
   "outputs": [
    {
     "name": "stdout",
     "output_type": "stream",
     "text": [
      "Number of business_ids in tips_df not found in data_df: 44153\n"
     ]
    }
   ],
   "source": [
    "no_tips_df = data_df[~data_df['business_id'].isin(tips_df['business_id'])]\n",
    "not_found = no_tips_df['business_id'].unique().shape[0]\n",
    "print(f'Number of business_ids in tips_df not found in data_df: {not_found}')"
   ]
  },
  {
   "cell_type": "markdown",
   "metadata": {},
   "source": [
    "#### Evidence"
   ]
  },
  {
   "cell_type": "code",
   "execution_count": 293,
   "metadata": {},
   "outputs": [
    {
     "data": {
      "text/html": [
       "<div>\n",
       "<style scoped>\n",
       "    .dataframe tbody tr th:only-of-type {\n",
       "        vertical-align: middle;\n",
       "    }\n",
       "\n",
       "    .dataframe tbody tr th {\n",
       "        vertical-align: top;\n",
       "    }\n",
       "\n",
       "    .dataframe thead th {\n",
       "        text-align: right;\n",
       "    }\n",
       "</style>\n",
       "<table border=\"1\" class=\"dataframe\">\n",
       "  <thead>\n",
       "    <tr style=\"text-align: right;\">\n",
       "      <th></th>\n",
       "      <th>user_id</th>\n",
       "      <th>business_id</th>\n",
       "      <th>recommendations</th>\n",
       "      <th>date</th>\n",
       "    </tr>\n",
       "  </thead>\n",
       "  <tbody>\n",
       "  </tbody>\n",
       "</table>\n",
       "</div>"
      ],
      "text/plain": [
       "Empty DataFrame\n",
       "Columns: [user_id, business_id, recommendations, date]\n",
       "Index: []"
      ]
     },
     "execution_count": 293,
     "metadata": {},
     "output_type": "execute_result"
    }
   ],
   "source": [
    "tips_df.loc[tips_df['business_id'] == no_tips_df['business_id'].iloc[33]]"
   ]
  },
  {
   "cell_type": "code",
   "execution_count": null,
   "metadata": {},
   "outputs": [],
   "source": []
  },
  {
   "cell_type": "markdown",
   "metadata": {},
   "source": [
    "#### Merge"
   ]
  },
  {
   "cell_type": "code",
   "execution_count": 298,
   "metadata": {},
   "outputs": [],
   "source": [
    "test_df = pd.merge(tips_df,data_df,\n",
    "                   on = ['business_id','user_id'],\n",
    "                   how = 'inner')\n",
    "                         "
   ]
  },
  {
   "cell_type": "markdown",
   "metadata": {},
   "source": [
    "#### Overview"
   ]
  },
  {
   "cell_type": "code",
   "execution_count": 300,
   "metadata": {},
   "outputs": [
    {
     "name": "stdout",
     "output_type": "stream",
     "text": [
      "<class 'pandas.core.frame.DataFrame'>\n",
      "RangeIndex: 440640 entries, 0 to 440639\n",
      "Data columns (total 20 columns):\n",
      " #   Column           Non-Null Count   Dtype         \n",
      "---  ------           --------------   -----         \n",
      " 0   user_id          440640 non-null  object        \n",
      " 1   business_id      440640 non-null  object        \n",
      " 2   recommendations  440640 non-null  object        \n",
      " 3   date_x           440640 non-null  datetime64[ns]\n",
      " 4   stars            440640 non-null  int64         \n",
      " 5   review           440640 non-null  object        \n",
      " 6   date_y           440640 non-null  datetime64[ns]\n",
      " 7   name             440640 non-null  object        \n",
      " 8   address          440640 non-null  object        \n",
      " 9   city             440640 non-null  object        \n",
      " 10  state            440640 non-null  object        \n",
      " 11  postal_code      440640 non-null  object        \n",
      " 12  latitude         440640 non-null  float64       \n",
      " 13  longitude        440640 non-null  float64       \n",
      " 14  stars_avg        440640 non-null  float64       \n",
      " 15  review_count     440640 non-null  int64         \n",
      " 16  is_open          440640 non-null  int64         \n",
      " 17  attributes       434063 non-null  object        \n",
      " 18  categories       440623 non-null  object        \n",
      " 19  hours            412596 non-null  object        \n",
      "dtypes: datetime64[ns](2), float64(3), int64(3), object(12)\n",
      "memory usage: 67.2+ MB\n"
     ]
    }
   ],
   "source": [
    "test_df.info()"
   ]
  },
  {
   "cell_type": "code",
   "execution_count": 302,
   "metadata": {},
   "outputs": [
    {
     "data": {
      "text/html": [
       "<div>\n",
       "<style scoped>\n",
       "    .dataframe tbody tr th:only-of-type {\n",
       "        vertical-align: middle;\n",
       "    }\n",
       "\n",
       "    .dataframe tbody tr th {\n",
       "        vertical-align: top;\n",
       "    }\n",
       "\n",
       "    .dataframe thead th {\n",
       "        text-align: right;\n",
       "    }\n",
       "</style>\n",
       "<table border=\"1\" class=\"dataframe\">\n",
       "  <thead>\n",
       "    <tr style=\"text-align: right;\">\n",
       "      <th></th>\n",
       "      <th>user_id</th>\n",
       "      <th>business_id</th>\n",
       "      <th>recommendations</th>\n",
       "      <th>date_x</th>\n",
       "      <th>stars</th>\n",
       "      <th>review</th>\n",
       "      <th>date_y</th>\n",
       "      <th>name</th>\n",
       "      <th>address</th>\n",
       "      <th>city</th>\n",
       "      <th>state</th>\n",
       "      <th>postal_code</th>\n",
       "      <th>latitude</th>\n",
       "      <th>longitude</th>\n",
       "      <th>stars_avg</th>\n",
       "      <th>review_count</th>\n",
       "      <th>is_open</th>\n",
       "      <th>attributes</th>\n",
       "      <th>categories</th>\n",
       "      <th>hours</th>\n",
       "    </tr>\n",
       "  </thead>\n",
       "  <tbody>\n",
       "    <tr>\n",
       "      <th>0</th>\n",
       "      <td>FjMQVZjSqY8syIO-53KFKw</td>\n",
       "      <td>hV-bABTK-glh5wj31ps_Jw</td>\n",
       "      <td>Very decent fried chicken</td>\n",
       "      <td>2017-06-27 23:05:38</td>\n",
       "      <td>2</td>\n",
       "      <td>Do not get the schezuan chicken. 1) it's not b...</td>\n",
       "      <td>2018-05-08 01:31:54</td>\n",
       "      <td>Wok Out Restaurant</td>\n",
       "      <td>1444 S Belcher Rd, Ste B</td>\n",
       "      <td>Clearwater</td>\n",
       "      <td>FL</td>\n",
       "      <td>33764</td>\n",
       "      <td>27.943694</td>\n",
       "      <td>-82.746285</td>\n",
       "      <td>3.5</td>\n",
       "      <td>59</td>\n",
       "      <td>1</td>\n",
       "      <td>{'RestaurantsDelivery': 'True', 'RestaurantsPr...</td>\n",
       "      <td>Chinese, Restaurants</td>\n",
       "      <td>{'Monday': '11:0-23:0', 'Tuesday': '11:0-23:0'...</td>\n",
       "    </tr>\n",
       "    <tr>\n",
       "      <th>1</th>\n",
       "      <td>ld0AperBXk1h6UbqmM80zw</td>\n",
       "      <td>_uN0OudeJ3Zl_tf6nxg5ww</td>\n",
       "      <td>Appetizers.. platter special for lunch</td>\n",
       "      <td>2012-10-06 19:43:09</td>\n",
       "      <td>1</td>\n",
       "      <td>So sad.....the menu is the same, but the taste...</td>\n",
       "      <td>2015-09-26 21:28:21</td>\n",
       "      <td>Siam Cuisine</td>\n",
       "      <td>265 White Bridge Pike</td>\n",
       "      <td>Nashville</td>\n",
       "      <td>TN</td>\n",
       "      <td>37209</td>\n",
       "      <td>36.143308</td>\n",
       "      <td>-86.858303</td>\n",
       "      <td>4.0</td>\n",
       "      <td>153</td>\n",
       "      <td>1</td>\n",
       "      <td>{'BusinessAcceptsCreditCards': 'True', 'Restau...</td>\n",
       "      <td>Restaurants, Thai</td>\n",
       "      <td>{'Monday': '0:0-0:0', 'Tuesday': '16:30-21:0',...</td>\n",
       "    </tr>\n",
       "    <tr>\n",
       "      <th>2</th>\n",
       "      <td>ld0AperBXk1h6UbqmM80zw</td>\n",
       "      <td>_uN0OudeJ3Zl_tf6nxg5ww</td>\n",
       "      <td>Appetizers.. platter special for lunch</td>\n",
       "      <td>2012-10-06 19:43:09</td>\n",
       "      <td>4</td>\n",
       "      <td>Yummie...best thai food in the west side of Na...</td>\n",
       "      <td>2013-11-16 13:28:55</td>\n",
       "      <td>Siam Cuisine</td>\n",
       "      <td>265 White Bridge Pike</td>\n",
       "      <td>Nashville</td>\n",
       "      <td>TN</td>\n",
       "      <td>37209</td>\n",
       "      <td>36.143308</td>\n",
       "      <td>-86.858303</td>\n",
       "      <td>4.0</td>\n",
       "      <td>153</td>\n",
       "      <td>1</td>\n",
       "      <td>{'BusinessAcceptsCreditCards': 'True', 'Restau...</td>\n",
       "      <td>Restaurants, Thai</td>\n",
       "      <td>{'Monday': '0:0-0:0', 'Tuesday': '16:30-21:0',...</td>\n",
       "    </tr>\n",
       "    <tr>\n",
       "      <th>3</th>\n",
       "      <td>trf3Qcz8qvCDKXiTgjUcEg</td>\n",
       "      <td>7Rm9Ba50bw23KTA8RedZYg</td>\n",
       "      <td>Chili Cup + Single Cheeseburger with onion, pi...</td>\n",
       "      <td>2012-03-13 04:00:52</td>\n",
       "      <td>4</td>\n",
       "      <td>Bottom Line:  All your typical Steak n' Shake ...</td>\n",
       "      <td>2010-10-23 21:32:13</td>\n",
       "      <td>Steak ’n Shake</td>\n",
       "      <td>1300 Lemay Ferry Rd</td>\n",
       "      <td>St. Louis</td>\n",
       "      <td>MO</td>\n",
       "      <td>63125</td>\n",
       "      <td>38.531844</td>\n",
       "      <td>-90.288109</td>\n",
       "      <td>2.0</td>\n",
       "      <td>23</td>\n",
       "      <td>0</td>\n",
       "      <td>{'RestaurantsGoodForGroups': 'True', 'Alcohol'...</td>\n",
       "      <td>American (Traditional), Burgers, Diners, Ameri...</td>\n",
       "      <td>{'Monday': '0:0-0:0', 'Tuesday': '0:0-0:0', 'W...</td>\n",
       "    </tr>\n",
       "    <tr>\n",
       "      <th>4</th>\n",
       "      <td>SMGAlRjyfuYu-c-22zIyOg</td>\n",
       "      <td>kH-0iXqkL7b8UXNpguBMKg</td>\n",
       "      <td>Saturday, Dec 7th 2013, ride Patco's Silver Sl...</td>\n",
       "      <td>2013-12-03 23:42:15</td>\n",
       "      <td>4</td>\n",
       "      <td>Patco (sometimes referred to as the \"High Spee...</td>\n",
       "      <td>2013-12-02 13:24:17</td>\n",
       "      <td>PATCO</td>\n",
       "      <td>901 Berlin Rd N</td>\n",
       "      <td>Lindenwold</td>\n",
       "      <td>NJ</td>\n",
       "      <td>08021</td>\n",
       "      <td>39.834038</td>\n",
       "      <td>-75.000662</td>\n",
       "      <td>3.5</td>\n",
       "      <td>74</td>\n",
       "      <td>1</td>\n",
       "      <td>None</td>\n",
       "      <td>Travel Services, Hotels &amp; Travel, Transportati...</td>\n",
       "      <td>{'Monday': '8:0-17:0', 'Tuesday': '8:0-17:0', ...</td>\n",
       "    </tr>\n",
       "  </tbody>\n",
       "</table>\n",
       "</div>"
      ],
      "text/plain": [
       "                  user_id             business_id  \\\n",
       "0  FjMQVZjSqY8syIO-53KFKw  hV-bABTK-glh5wj31ps_Jw   \n",
       "1  ld0AperBXk1h6UbqmM80zw  _uN0OudeJ3Zl_tf6nxg5ww   \n",
       "2  ld0AperBXk1h6UbqmM80zw  _uN0OudeJ3Zl_tf6nxg5ww   \n",
       "3  trf3Qcz8qvCDKXiTgjUcEg  7Rm9Ba50bw23KTA8RedZYg   \n",
       "4  SMGAlRjyfuYu-c-22zIyOg  kH-0iXqkL7b8UXNpguBMKg   \n",
       "\n",
       "                                     recommendations              date_x  \\\n",
       "0                          Very decent fried chicken 2017-06-27 23:05:38   \n",
       "1             Appetizers.. platter special for lunch 2012-10-06 19:43:09   \n",
       "2             Appetizers.. platter special for lunch 2012-10-06 19:43:09   \n",
       "3  Chili Cup + Single Cheeseburger with onion, pi... 2012-03-13 04:00:52   \n",
       "4  Saturday, Dec 7th 2013, ride Patco's Silver Sl... 2013-12-03 23:42:15   \n",
       "\n",
       "   stars                                             review  \\\n",
       "0      2  Do not get the schezuan chicken. 1) it's not b...   \n",
       "1      1  So sad.....the menu is the same, but the taste...   \n",
       "2      4  Yummie...best thai food in the west side of Na...   \n",
       "3      4  Bottom Line:  All your typical Steak n' Shake ...   \n",
       "4      4  Patco (sometimes referred to as the \"High Spee...   \n",
       "\n",
       "               date_y                name                   address  \\\n",
       "0 2018-05-08 01:31:54  Wok Out Restaurant  1444 S Belcher Rd, Ste B   \n",
       "1 2015-09-26 21:28:21        Siam Cuisine     265 White Bridge Pike   \n",
       "2 2013-11-16 13:28:55        Siam Cuisine     265 White Bridge Pike   \n",
       "3 2010-10-23 21:32:13      Steak ’n Shake       1300 Lemay Ferry Rd   \n",
       "4 2013-12-02 13:24:17               PATCO           901 Berlin Rd N   \n",
       "\n",
       "         city state postal_code   latitude  longitude  stars_avg  \\\n",
       "0  Clearwater    FL       33764  27.943694 -82.746285        3.5   \n",
       "1   Nashville    TN       37209  36.143308 -86.858303        4.0   \n",
       "2   Nashville    TN       37209  36.143308 -86.858303        4.0   \n",
       "3   St. Louis    MO       63125  38.531844 -90.288109        2.0   \n",
       "4  Lindenwold    NJ       08021  39.834038 -75.000662        3.5   \n",
       "\n",
       "   review_count  is_open                                         attributes  \\\n",
       "0            59        1  {'RestaurantsDelivery': 'True', 'RestaurantsPr...   \n",
       "1           153        1  {'BusinessAcceptsCreditCards': 'True', 'Restau...   \n",
       "2           153        1  {'BusinessAcceptsCreditCards': 'True', 'Restau...   \n",
       "3            23        0  {'RestaurantsGoodForGroups': 'True', 'Alcohol'...   \n",
       "4            74        1                                               None   \n",
       "\n",
       "                                          categories  \\\n",
       "0                               Chinese, Restaurants   \n",
       "1                                  Restaurants, Thai   \n",
       "2                                  Restaurants, Thai   \n",
       "3  American (Traditional), Burgers, Diners, Ameri...   \n",
       "4  Travel Services, Hotels & Travel, Transportati...   \n",
       "\n",
       "                                               hours  \n",
       "0  {'Monday': '11:0-23:0', 'Tuesday': '11:0-23:0'...  \n",
       "1  {'Monday': '0:0-0:0', 'Tuesday': '16:30-21:0',...  \n",
       "2  {'Monday': '0:0-0:0', 'Tuesday': '16:30-21:0',...  \n",
       "3  {'Monday': '0:0-0:0', 'Tuesday': '0:0-0:0', 'W...  \n",
       "4  {'Monday': '8:0-17:0', 'Tuesday': '8:0-17:0', ...  "
      ]
     },
     "execution_count": 302,
     "metadata": {},
     "output_type": "execute_result"
    }
   ],
   "source": [
    "test_df.head()"
   ]
  },
  {
   "cell_type": "markdown",
   "metadata": {},
   "source": [
    "#### Comparison review vs. recommendations"
   ]
  },
  {
   "cell_type": "code",
   "execution_count": 316,
   "metadata": {},
   "outputs": [
    {
     "data": {
      "text/html": [
       "<div>\n",
       "<style scoped>\n",
       "    .dataframe tbody tr th:only-of-type {\n",
       "        vertical-align: middle;\n",
       "    }\n",
       "\n",
       "    .dataframe tbody tr th {\n",
       "        vertical-align: top;\n",
       "    }\n",
       "\n",
       "    .dataframe thead th {\n",
       "        text-align: right;\n",
       "    }\n",
       "</style>\n",
       "<table border=\"1\" class=\"dataframe\">\n",
       "  <thead>\n",
       "    <tr style=\"text-align: right;\">\n",
       "      <th></th>\n",
       "      <th>review</th>\n",
       "      <th>recommendations</th>\n",
       "    </tr>\n",
       "  </thead>\n",
       "  <tbody>\n",
       "    <tr>\n",
       "      <th>0</th>\n",
       "      <td>Do not get the schezuan chicken. 1) it's not b...</td>\n",
       "      <td>Very decent fried chicken</td>\n",
       "    </tr>\n",
       "    <tr>\n",
       "      <th>1</th>\n",
       "      <td>So sad.....the menu is the same, but the taste...</td>\n",
       "      <td>Appetizers.. platter special for lunch</td>\n",
       "    </tr>\n",
       "    <tr>\n",
       "      <th>2</th>\n",
       "      <td>Yummie...best thai food in the west side of Na...</td>\n",
       "      <td>Appetizers.. platter special for lunch</td>\n",
       "    </tr>\n",
       "    <tr>\n",
       "      <th>3</th>\n",
       "      <td>Bottom Line:  All your typical Steak n' Shake ...</td>\n",
       "      <td>Chili Cup + Single Cheeseburger with onion, pi...</td>\n",
       "    </tr>\n",
       "    <tr>\n",
       "      <th>4</th>\n",
       "      <td>Patco (sometimes referred to as the \"High Spee...</td>\n",
       "      <td>Saturday, Dec 7th 2013, ride Patco's Silver Sl...</td>\n",
       "    </tr>\n",
       "  </tbody>\n",
       "</table>\n",
       "</div>"
      ],
      "text/plain": [
       "                                              review  \\\n",
       "0  Do not get the schezuan chicken. 1) it's not b...   \n",
       "1  So sad.....the menu is the same, but the taste...   \n",
       "2  Yummie...best thai food in the west side of Na...   \n",
       "3  Bottom Line:  All your typical Steak n' Shake ...   \n",
       "4  Patco (sometimes referred to as the \"High Spee...   \n",
       "\n",
       "                                     recommendations  \n",
       "0                          Very decent fried chicken  \n",
       "1             Appetizers.. platter special for lunch  \n",
       "2             Appetizers.. platter special for lunch  \n",
       "3  Chili Cup + Single Cheeseburger with onion, pi...  \n",
       "4  Saturday, Dec 7th 2013, ride Patco's Silver Sl...  "
      ]
     },
     "execution_count": 316,
     "metadata": {},
     "output_type": "execute_result"
    }
   ],
   "source": [
    "test_df[['review','recommendations']].head()"
   ]
  },
  {
   "cell_type": "markdown",
   "metadata": {},
   "source": [
    "#### **<font color='orange'> Notes:</font>**\n",
    "**The <font color='grey'>data_df</font> has approximately <font color='green'>7 million</font> entries and <font color='grey'>tips_df</font> about <font color='green'>1 million</font> after merging them we end up the a little under half a million**.<br>\n",
    "**In the comparison above I don't see a difference between a review from the *reviews data set* and a recommendation from the *tips data set*, as**<br>\n",
    "**above we stand to loose a significant amount of data if a merge is performed**."
   ]
  },
  {
   "cell_type": "code",
   "execution_count": null,
   "metadata": {},
   "outputs": [],
   "source": []
  },
  {
   "cell_type": "code",
   "execution_count": null,
   "metadata": {},
   "outputs": [],
   "source": []
  },
  {
   "cell_type": "code",
   "execution_count": null,
   "metadata": {},
   "outputs": [],
   "source": []
  },
  {
   "cell_type": "code",
   "execution_count": null,
   "metadata": {},
   "outputs": [],
   "source": []
  },
  {
   "cell_type": "code",
   "execution_count": null,
   "metadata": {},
   "outputs": [],
   "source": []
  },
  {
   "cell_type": "code",
   "execution_count": null,
   "metadata": {},
   "outputs": [],
   "source": []
  },
  {
   "cell_type": "code",
   "execution_count": null,
   "metadata": {},
   "outputs": [],
   "source": []
  },
  {
   "cell_type": "code",
   "execution_count": null,
   "metadata": {},
   "outputs": [],
   "source": [
    "# Installing gdown (uncomment if needed)\n",
    "# %pip install gdown --quiet"
   ]
  },
  {
   "cell_type": "code",
   "execution_count": null,
   "metadata": {},
   "outputs": [],
   "source": [
    "# Imports and dependencies\n",
    "import os\n",
    "import re\n",
    "import numpy as np\n",
    "import scipy as sp\n",
    "import pandas as pd\n",
    "import matplotlib.pyplot as plt\n",
    "import seaborn as sns\n",
    "\n",
    "# json\n",
    "import json\n",
    "\n",
    "# gdown\n",
    "import gdown"
   ]
  },
  {
   "cell_type": "markdown",
   "metadata": {},
   "source": [
    "#### Resources path"
   ]
  },
  {
   "cell_type": "code",
   "execution_count": null,
   "metadata": {},
   "outputs": [],
   "source": [
    "# Defining a function to access datasets through `gdown`\n",
    "def fetch_data(set):\n",
    "    # Declaring `url` and `output` for dataset\n",
    "    match set:\n",
    "        case 'business':\n",
    "            url = 'https://drive.google.com/file/d/1t-_rOjZ8oMqPcMJunVaMgY3OEbhnuSCv/view?usp=sharing'\n",
    "            output = 'Resources/business_dataset.csv'\n",
    "        case 'checkin':\n",
    "            url = 'https://drive.google.com/file/d/1_AVWp31ymfvf4QgTiMN_WLAeapfr0omf/view?usp=sharing'\n",
    "            output = 'Resources/checkin_dataset.csv'\n",
    "        case 'reviews':\n",
    "            url = 'https://drive.google.com/file/d/1L8rFjhOQyU90Ycr9t_OLA70vCYM0e7ck/view?usp=sharing'\n",
    "            output = 'Resources/reviews_dataset.csv'\n",
    "        case 'tip':\n",
    "            url = 'https://drive.google.com/file/d/1LMkCi5AFC_58_m7ELmn1hR8YDykuXwqq/view?usp=sharing'\n",
    "            output = 'Resources/tip_dataset.csv'\n",
    "        case 'user':\n",
    "            url = 'https://drive.google.com/file/d/1kQ522qcod7AjD5DO9vj8qFcSKxwJCDrO/view?usp=sharing'\n",
    "            output = 'Resources/user_dataset.csv'\n",
    "        case _:\n",
    "            print('Invalid dataset selected, please try again')\n",
    "            return None\n",
    "    \n",
    "    # Downloading dataset\n",
    "    gdown.download(url, output, fuzzy=True, quiet=True)\n",
    "\n",
    "    # Reading in the dataset\n",
    "    df = pd.read_csv(output)\n",
    "\n",
    "    # Returning the dataset\n",
    "    return df"
   ]
  },
  {
   "cell_type": "markdown",
   "metadata": {},
   "source": [
    "---"
   ]
  },
  {
   "cell_type": "markdown",
   "metadata": {},
   "source": [
    "#### Business dataset"
   ]
  },
  {
   "cell_type": "markdown",
   "metadata": {},
   "source": [
    "#### <font color='blue'> Description:</font> \n",
    "**Contains business data including location data, attributes, and categories.**"
   ]
  },
  {
   "cell_type": "markdown",
   "metadata": {},
   "source": [
    "#### Loading data"
   ]
  },
  {
   "cell_type": "code",
   "execution_count": null,
   "metadata": {},
   "outputs": [],
   "source": [
    "# Fetching `business_dataset`\n",
    "business_df = fetch_data('business')"
   ]
  },
  {
   "cell_type": "markdown",
   "metadata": {},
   "source": [
    "#### Overview"
   ]
  },
  {
   "cell_type": "code",
   "execution_count": null,
   "metadata": {},
   "outputs": [],
   "source": [
    "business_df.head()"
   ]
  },
  {
   "cell_type": "markdown",
   "metadata": {},
   "source": [
    "#### Info"
   ]
  },
  {
   "cell_type": "code",
   "execution_count": null,
   "metadata": {},
   "outputs": [],
   "source": [
    "business_df.info()"
   ]
  },
  {
   "cell_type": "markdown",
   "metadata": {},
   "source": [
    "---"
   ]
  },
  {
   "cell_type": "markdown",
   "metadata": {},
   "source": [
    "#### Checkin dataset"
   ]
  },
  {
   "cell_type": "markdown",
   "metadata": {},
   "source": [
    "#### <font color='blue'> Description:</font>\n",
    "**Checkins on a business.**"
   ]
  },
  {
   "cell_type": "markdown",
   "metadata": {},
   "source": [
    "#### Loading Data"
   ]
  },
  {
   "cell_type": "code",
   "execution_count": null,
   "metadata": {},
   "outputs": [],
   "source": [
    "# Fethching `checkin_dataset`\n",
    "checkin_df = fetch_data('checkin')"
   ]
  },
  {
   "cell_type": "markdown",
   "metadata": {},
   "source": [
    "#### Overview"
   ]
  },
  {
   "cell_type": "code",
   "execution_count": null,
   "metadata": {},
   "outputs": [],
   "source": [
    "checkin_df.head()"
   ]
  },
  {
   "cell_type": "markdown",
   "metadata": {},
   "source": [
    "#### Info"
   ]
  },
  {
   "cell_type": "code",
   "execution_count": null,
   "metadata": {},
   "outputs": [],
   "source": [
    "checkin_df.info()"
   ]
  },
  {
   "cell_type": "markdown",
   "metadata": {},
   "source": [
    "#### **<font color='orange'> Notes:</font>**\n",
    "**The team has determined this dataset would not add any value to our training data.**"
   ]
  },
  {
   "cell_type": "markdown",
   "metadata": {},
   "source": [
    "---"
   ]
  },
  {
   "cell_type": "markdown",
   "metadata": {},
   "source": [
    "#### Reviews dataset"
   ]
  },
  {
   "cell_type": "markdown",
   "metadata": {},
   "source": [
    "#### <font color = 'blue'>Description:</font>\n",
    "**Contains full review text data including the user_id that wrote the review and the business_id the review is written for.**"
   ]
  },
  {
   "cell_type": "markdown",
   "metadata": {},
   "source": [
    "#### Loading Data"
   ]
  },
  {
   "cell_type": "code",
   "execution_count": null,
   "metadata": {},
   "outputs": [],
   "source": [
    "# Fetching `reviews_dataset`\n",
    "reviews_df = fetch_data('reviews')"
   ]
  },
  {
   "cell_type": "markdown",
   "metadata": {},
   "source": [
    "#### Overview"
   ]
  },
  {
   "cell_type": "code",
   "execution_count": null,
   "metadata": {},
   "outputs": [],
   "source": [
    "reviews_df.head()"
   ]
  },
  {
   "cell_type": "markdown",
   "metadata": {},
   "source": [
    "#### Info"
   ]
  },
  {
   "cell_type": "code",
   "execution_count": null,
   "metadata": {},
   "outputs": [],
   "source": [
    "reviews_df.info()"
   ]
  },
  {
   "cell_type": "markdown",
   "metadata": {},
   "source": [
    "#### Na count"
   ]
  },
  {
   "cell_type": "code",
   "execution_count": null,
   "metadata": {},
   "outputs": [],
   "source": [
    "reviews_df.isna().sum()"
   ]
  },
  {
   "cell_type": "markdown",
   "metadata": {},
   "source": [
    "#### Dropping columns:\n",
    "- **review_id**\n",
    "- **useful**\n",
    "- **funny**\n",
    "- **cool**"
   ]
  },
  {
   "cell_type": "code",
   "execution_count": null,
   "metadata": {},
   "outputs": [],
   "source": [
    "reviews_df.drop(columns = ['review_id','useful','funny','cool'],\n",
    "                inplace = True)"
   ]
  },
  {
   "cell_type": "markdown",
   "metadata": {},
   "source": [
    "#### Renaming the 'text' field to 'review'"
   ]
  },
  {
   "cell_type": "code",
   "execution_count": null,
   "metadata": {},
   "outputs": [],
   "source": [
    "reviews_df.rename(columns = {'text':'review'},inplace = True)\n",
    "reviews_df.head()"
   ]
  },
  {
   "cell_type": "markdown",
   "metadata": {},
   "source": [
    "#### **<font color='orange'> Notes:</font>**\n",
    "- **review_id: Eliminated due to low informational value.**\n",
    "- **useful: Eliminated due to low relevance.**\n",
    "- **funny: Eliminated due to low relevance.**\n",
    "- **cool: Eliminated due to low relevance.**\n",
    "\n",
    "  **The *<font color='green'>'business_id'</font>* feature will be used as the identifier, *<font color='green'>'stars'</font>* is the rating metric and the *<font color='grey'>'review'</font>*  field encapsulates**<br>\n",
    "  **the data to be processed. the *<font color='green'>'date'</font>* variable is in place if time series analysis is needed.**"
   ]
  },
  {
   "cell_type": "markdown",
   "metadata": {},
   "source": [
    "---"
   ]
  },
  {
   "cell_type": "markdown",
   "metadata": {},
   "source": [
    "#### Tips dataset"
   ]
  },
  {
   "cell_type": "markdown",
   "metadata": {},
   "source": [
    "#### <font color='blue'>Description:</font>\n",
    "**Tips written by a user on a business. Tips are shorter than reviews and tend to convey quick suggestions.**"
   ]
  },
  {
   "cell_type": "markdown",
   "metadata": {},
   "source": [
    "#### Loading Data"
   ]
  },
  {
   "cell_type": "code",
   "execution_count": null,
   "metadata": {},
   "outputs": [],
   "source": [
    "# Fetching `tips_dataset`\n",
    "tips_df = fetch_data('tip')"
   ]
  },
  {
   "cell_type": "markdown",
   "metadata": {},
   "source": [
    "#### Overview"
   ]
  },
  {
   "cell_type": "code",
   "execution_count": null,
   "metadata": {},
   "outputs": [],
   "source": [
    "tips_df.head()"
   ]
  },
  {
   "cell_type": "markdown",
   "metadata": {},
   "source": [
    "#### Info"
   ]
  },
  {
   "cell_type": "code",
   "execution_count": null,
   "metadata": {},
   "outputs": [],
   "source": [
    "tips_df.info()"
   ]
  },
  {
   "cell_type": "markdown",
   "metadata": {},
   "source": [
    "#### Dropping columns:\n",
    "- **compliment_count**"
   ]
  },
  {
   "cell_type": "code",
   "execution_count": null,
   "metadata": {},
   "outputs": [],
   "source": [
    "tips_df.drop(columns = ['compliment_count'],\n",
    "             inplace =True)"
   ]
  },
  {
   "cell_type": "markdown",
   "metadata": {},
   "source": [
    "#### Renaming the 'text' column to 'recommendations'"
   ]
  },
  {
   "cell_type": "code",
   "execution_count": null,
   "metadata": {},
   "outputs": [],
   "source": [
    "tips_df.rename(columns = {'text':'recommendations'},inplace = True)\n",
    "tips_df.head()"
   ]
  },
  {
   "cell_type": "markdown",
   "metadata": {},
   "source": [
    "#### **<font color='orange'> Notes:</font>**\n",
    "- **compliment_count: Eliminated due to low informational value.**\n",
    "\n",
    "\n",
    " **Since this data set has recommendations from the user to improve customer experience the 'recommendations' field could be a useful target variable.**"
   ]
  },
  {
   "cell_type": "markdown",
   "metadata": {},
   "source": [
    "---"
   ]
  },
  {
   "cell_type": "markdown",
   "metadata": {},
   "source": [
    "#### User dataset"
   ]
  },
  {
   "cell_type": "markdown",
   "metadata": {},
   "source": [
    "#### <font color = 'blue'>Note:</font>\n",
    "**User data including the user's friend mapping and all the metadata associated with the user.**"
   ]
  },
  {
   "cell_type": "markdown",
   "metadata": {},
   "source": [
    "#### Loading Data"
   ]
  },
  {
   "cell_type": "code",
   "execution_count": null,
   "metadata": {},
   "outputs": [],
   "source": [
    "# Fetching `user_dataset`\n",
    "user_df = fetch_data('user')"
   ]
  },
  {
   "cell_type": "markdown",
   "metadata": {},
   "source": [
    "#### Overview"
   ]
  },
  {
   "cell_type": "code",
   "execution_count": null,
   "metadata": {},
   "outputs": [],
   "source": [
    "user_df.head()"
   ]
  },
  {
   "cell_type": "markdown",
   "metadata": {},
   "source": [
    "#### Info"
   ]
  },
  {
   "cell_type": "code",
   "execution_count": null,
   "metadata": {},
   "outputs": [],
   "source": [
    "user_df.info()"
   ]
  },
  {
   "cell_type": "markdown",
   "metadata": {},
   "source": [
    "#### **<font color='orange'> Notes:</font>**\n",
    "**This data set will not be included in the training data to preserve user anonimity.**"
   ]
  },
  {
   "cell_type": "markdown",
   "metadata": {},
   "source": [
    "# //////////////////////////////////////////////////////////////////////////////////////////////////////////////////////////"
   ]
  },
  {
   "cell_type": "markdown",
   "metadata": {},
   "source": [
    "## **<font color = 'darkgrey'>Merging the reviews data set and the business data set</font>**"
   ]
  },
  {
   "cell_type": "markdown",
   "metadata": {},
   "source": [
    "#### <font color = 'blue'>Description:</font>\n",
    "**This data set contains the fields that will be used to train the model**"
   ]
  },
  {
   "cell_type": "code",
   "execution_count": null,
   "metadata": {},
   "outputs": [],
   "source": [
    "data_df = reviews_df.merge(business_df,how='left',on = 'business_id')"
   ]
  },
  {
   "cell_type": "code",
   "execution_count": null,
   "metadata": {},
   "outputs": [],
   "source": [
    "data_df.info()"
   ]
  },
  {
   "cell_type": "code",
   "execution_count": null,
   "metadata": {},
   "outputs": [],
   "source": [
    "data_df.head()"
   ]
  },
  {
   "cell_type": "markdown",
   "metadata": {},
   "source": [
    "#### Na count"
   ]
  },
  {
   "cell_type": "code",
   "execution_count": null,
   "metadata": {},
   "outputs": [],
   "source": [
    "data_df.isna().sum()"
   ]
  },
  {
   "cell_type": "code",
   "execution_count": null,
   "metadata": {},
   "outputs": [],
   "source": [
    "na_prcnt = data_df[['attributes','categories','hours']].isna().sum()/data_df.shape[0]*100\n",
    "nas_df = pd.DataFrame(na_prcnt, columns=['percentage'])\n",
    "nas_df = nas_df.transpose()\n",
    "nas_df.round(4)"
   ]
  },
  {
   "cell_type": "code",
   "execution_count": null,
   "metadata": {},
   "outputs": [],
   "source": [
    "sns.barplot(data = nas_df).set_title('Na percentage')"
   ]
  },
  {
   "cell_type": "markdown",
   "metadata": {},
   "source": [
    "#### **<font color='orange'> Notes:</font>**\n",
    "**After consulting with the team we decided to drop all three columns.**"
   ]
  },
  {
   "cell_type": "markdown",
   "metadata": {},
   "source": [
    "#### Dropping rows with na values"
   ]
  },
  {
   "cell_type": "code",
   "execution_count": null,
   "metadata": {},
   "outputs": [],
   "source": [
    "data_df.drop(columns = ['attributes','categories','hours'],inplace=True)"
   ]
  },
  {
   "cell_type": "code",
   "execution_count": null,
   "metadata": {},
   "outputs": [],
   "source": [
    "data_df.isna().sum()"
   ]
  },
  {
   "cell_type": "markdown",
   "metadata": {},
   "source": [
    "#### *<font color='grey'>stars_x* and *<font color='grey'>stars_y* comparison"
   ]
  },
  {
   "cell_type": "code",
   "execution_count": null,
   "metadata": {},
   "outputs": [],
   "source": [
    "data_df.loc[data_df['stars_x'] != data_df['stars_y']][['stars_x','stars_y']].head()"
   ]
  },
  {
   "cell_type": "markdown",
   "metadata": {},
   "source": [
    "#### *<font color='grey'>stars_x* and *<font color='grey'>stars_y*  for the same customer"
   ]
  },
  {
   "cell_type": "code",
   "execution_count": null,
   "metadata": {},
   "outputs": [],
   "source": [
    "data_df.loc[data_df['business_id']=='XQfwVwDr-v0ZS3_CbbE5Xw'][['stars_x','stars_y']].head()"
   ]
  },
  {
   "cell_type": "markdown",
   "metadata": {},
   "source": [
    "#### *<font color='grey'>stars_x* average"
   ]
  },
  {
   "cell_type": "code",
   "execution_count": null,
   "metadata": {},
   "outputs": [],
   "source": [
    "round(data_df.loc[data_df['business_id']=='XQfwVwDr-v0ZS3_CbbE5Xw']['stars_x'].mean(),2)"
   ]
  },
  {
   "cell_type": "markdown",
   "metadata": {},
   "source": [
    "#### **<font color='orange'> Notes:</font>**\n",
    "**Because** *<font color='grey'> star_y</font>* **represents the average star rating, renaming** *<font color='grey'> star_y:</font>* **to:** *<font color='grey'> star_avg:</font>*"
   ]
  },
  {
   "cell_type": "markdown",
   "metadata": {},
   "source": [
    "#### Renaming"
   ]
  },
  {
   "cell_type": "code",
   "execution_count": null,
   "metadata": {},
   "outputs": [],
   "source": [
    "data_df.rename(columns={'stars_y':'stars_avg','stars_x':'stars'},inplace = True)"
   ]
  },
  {
   "cell_type": "markdown",
   "metadata": {},
   "source": [
    "#### Dropping is_open feature"
   ]
  },
  {
   "cell_type": "code",
   "execution_count": null,
   "metadata": {},
   "outputs": [],
   "source": [
    "fig,ax = plt.subplots()\n",
    "sns.countplot(data_df,\n",
    "             x='is_open',\n",
    "             hue = 'is_open',\n",
    "             ax = ax).set_title('is_open Feature')"
   ]
  },
  {
   "cell_type": "markdown",
   "metadata": {},
   "source": [
    "#### droppin is_open"
   ]
  },
  {
   "cell_type": "code",
   "execution_count": null,
   "metadata": {},
   "outputs": [],
   "source": [
    "data_df.drop(columns = ['is_open'],inplace = True)"
   ]
  },
  {
   "cell_type": "markdown",
   "metadata": {},
   "source": [
    "#### **<font color='orange'> Notes:</font>**\n",
    "**After cosulting with the team we decided to drop this feature due low informational value and feature imbalance**"
   ]
  },
  {
   "cell_type": "markdown",
   "metadata": {},
   "source": [
    "# //////////////////////////////////////////////////////////////////////////////////////////////////"
   ]
  },
  {
   "cell_type": "markdown",
   "metadata": {},
   "source": [
    "## **<font color='darkgrey'>Merging with the tips data set exploration</font>**"
   ]
  },
  {
   "cell_type": "markdown",
   "metadata": {},
   "source": [
    "#### <font color = 'blue'>Description:</font>\n",
    "**Contains customer recommendatins to improve experience**"
   ]
  },
  {
   "cell_type": "code",
   "execution_count": null,
   "metadata": {},
   "outputs": [],
   "source": [
    "tips_df.head()"
   ]
  },
  {
   "cell_type": "code",
   "execution_count": null,
   "metadata": {},
   "outputs": [],
   "source": [
    "tips_df.info()"
   ]
  },
  {
   "cell_type": "markdown",
   "metadata": {},
   "source": [
    "#### Quantity of unique business_id in the tips data set"
   ]
  },
  {
   "cell_type": "code",
   "execution_count": null,
   "metadata": {},
   "outputs": [],
   "source": [
    "display(tips_df['business_id'].unique().shape[0])"
   ]
  },
  {
   "cell_type": "markdown",
   "metadata": {},
   "source": [
    "#### Quantity of unique business_id in  data_df"
   ]
  },
  {
   "cell_type": "code",
   "execution_count": null,
   "metadata": {},
   "outputs": [],
   "source": [
    "data_df['business_id'].unique().shape[0]"
   ]
  },
  {
   "cell_type": "markdown",
   "metadata": {},
   "source": [
    "#### Subset of *<font color='grey'>business_id</font>* in *<font color='grey'>data_df</font>* not found in *<font color='grey'>tips_df</font>*."
   ]
  },
  {
   "cell_type": "code",
   "execution_count": null,
   "metadata": {},
   "outputs": [],
   "source": [
    "no_tips_df = data_df[~data_df['business_id'].isin(tips_df['business_id'])]\n",
    "no_tips_df.head()"
   ]
  },
  {
   "cell_type": "markdown",
   "metadata": {},
   "source": [
    "#### Number of *<font color='grey'>business_id</font>* in *<font color='grey'>data_df</font>* not found in *<font color='grey'>tips_df</font>*."
   ]
  },
  {
   "cell_type": "code",
   "execution_count": null,
   "metadata": {},
   "outputs": [],
   "source": [
    "no_tips_df = data_df[~data_df['business_id'].isin(tips_df['business_id'])]\n",
    "not_found = no_tips_df['business_id'].unique().shape[0]\n",
    "print(f'Number of business_ids in tips_df not found in data_df: {not_found}')"
   ]
  },
  {
   "cell_type": "markdown",
   "metadata": {},
   "source": [
    "#### Evidence"
   ]
  },
  {
   "cell_type": "code",
   "execution_count": null,
   "metadata": {},
   "outputs": [],
   "source": [
    "tips_df.loc[tips_df['business_id'] == no_tips_df['business_id'].iloc[33]]"
   ]
  },
  {
   "cell_type": "markdown",
   "metadata": {},
   "source": [
    "#### Merge"
   ]
  },
  {
   "cell_type": "code",
   "execution_count": null,
   "metadata": {},
   "outputs": [],
   "source": [
    "test_df = pd.merge(tips_df,data_df,\n",
    "                   on = ['business_id','user_id'],\n",
    "                   how = 'inner')\n",
    "                         "
   ]
  },
  {
   "cell_type": "markdown",
   "metadata": {},
   "source": [
    "#### Overview"
   ]
  },
  {
   "cell_type": "code",
   "execution_count": null,
   "metadata": {},
   "outputs": [],
   "source": [
    "test_df.info()"
   ]
  },
  {
   "cell_type": "code",
   "execution_count": null,
   "metadata": {},
   "outputs": [],
   "source": [
    "test_df.head()"
   ]
  },
  {
   "cell_type": "markdown",
   "metadata": {},
   "source": [
    "#### Comparison review vs. recommendations"
   ]
  },
  {
   "cell_type": "code",
   "execution_count": null,
   "metadata": {},
   "outputs": [],
   "source": [
    "test_df[['review','recommendations']].head()"
   ]
  },
  {
   "cell_type": "markdown",
   "metadata": {},
   "source": [
    "##### **<font color='orange'> Notes:</font>**\n",
    "**The <font color='grey'>data_df</font> has approximately <font color='green'>7 million</font> entries and <font color='grey'>tips_df</font> about <font color='green'>1 million</font> after merging them we end up the a little under half a million**.<br>\n",
    "**In the comparison above I don't see a difference between a review from the *reviews data set* and a recommendation from the *tips data set***.<br>\n",
    "**As shown above we stand to loose a significant amount of data if a merge is performed**."
   ]
  },
  {
   "cell_type": "markdown",
   "metadata": {},
   "source": [
    "# ///////////////////////////////////////////////////////////////////////////////////////////////////"
   ]
  },
  {
   "cell_type": "markdown",
   "metadata": {},
   "source": [
    "## <font color='darkgrey'>Final Data Overview</font>"
   ]
  },
  {
   "cell_type": "markdown",
   "metadata": {},
   "source": [
    "#### Dropping the user_id column to preserv user anonimity"
   ]
  },
  {
   "cell_type": "code",
   "execution_count": null,
   "metadata": {},
   "outputs": [],
   "source": [
    "data_df.drop(columns = ['user_id'],inplace = True)"
   ]
  },
  {
   "cell_type": "markdown",
   "metadata": {},
   "source": [
    "#### Overview"
   ]
  },
  {
   "cell_type": "code",
   "execution_count": null,
   "metadata": {},
   "outputs": [],
   "source": [
    "data_df.head()"
   ]
  },
  {
   "cell_type": "markdown",
   "metadata": {},
   "source": [
    "#### Info"
   ]
  },
  {
   "cell_type": "code",
   "execution_count": null,
   "metadata": {},
   "outputs": [],
   "source": [
    "data_df.info()"
   ]
  },
  {
   "cell_type": "markdown",
   "metadata": {},
   "source": [
    "#### Na verification"
   ]
  },
  {
   "cell_type": "code",
   "execution_count": null,
   "metadata": {},
   "outputs": [],
   "source": [
    "data_df.isna().sum()"
   ]
  },
  {
   "cell_type": "markdown",
   "metadata": {},
   "source": [
    "*End Code Space*"
   ]
  },
  {
   "cell_type": "markdown",
   "metadata": {},
   "source": [
    "# **Leigh's Code Space**"
   ]
  },
  {
   "cell_type": "code",
   "execution_count": null,
   "metadata": {},
   "outputs": [],
   "source": []
  },
  {
   "cell_type": "markdown",
   "metadata": {},
   "source": [
    "*End Code Space*"
   ]
  },
  {
   "cell_type": "markdown",
   "metadata": {},
   "source": [
    "# **Angelica's Code Space**"
   ]
  },
  {
   "cell_type": "code",
   "execution_count": null,
   "metadata": {},
   "outputs": [],
   "source": [
    "#import required libraries\n",
    "from selenium import webdriver\n",
    "from selenium.webdriver.chrome.service import Service as ChromeService\n",
    "from webdriver_manager.chrome import ChromeDriverManager\n",
    "from bs4 import BeautifulSoup\n",
    "import time\n",
    "from selenium.webdriver.support.ui import WebDriverWait\n",
    "from selenium.webdriver.common.by import By\n",
    "from selenium.webdriver.support import expected_conditions as EC\n",
    "import pandas as pd\n",
    "\n",
    "# # create a function to get the address of the each location and add it to a dataframe \n",
    "# def address_Addition(business,address1,new_df):\n",
    "#     new_df['business_name'] = business\n",
    "#     address_list = address1.split(',')\n",
    "#     new_df['address'] = address_list[0]\n",
    "#     new_df['city'] = address_list[1]\n",
    "#     return new_df\n",
    "\n",
    "# initiate driver\n",
    "driver = webdriver.Chrome(service = ChromeService(ChromeDriverManager().install()))\n",
    "\n",
    "# url list with business locations\n",
    "#url = ['https://www.google.com/maps/place/Tim+Hortons/@43.7607366,-79.5321831,14z/data=!4m10!1m2!2m1!1stim+hortons!3m6!1s0x882b31d93eab2809:0xa9ea7bb65f9da6ec!8m2!3d43.7607366!4d-79.4992241!15sCgt0aW0gaG9ydG9ucyIDiAEBWg0iC3RpbSBob3J0b25zkgEKcmVzdGF1cmFudOABAA!16s%2Fg%2F1vyxk0xz','https://www.google.com/maps/place/Tim+Hortons/@43.7607366,-79.5321831,14z/data=!4m10!1m2!2m1!1stim+hortons!3m6!1s0x882b302d70a29891:0xc279061e4a5c71bc!8m2!3d43.756124!4d-79.5152637!15sCgt0aW0gaG9ydG9ucyIDiAEBWg0iC3RpbSBob3J0b25zkgEKcmVzdGF1cmFudOABAA!16s%2Fg%2F1td38wkb']\n",
    "url = [\"https://www.google.com/maps/place/McDonald's/@43.7607329,-79.5321831,14z/data=!4m10!1m2!2m1!1sMcDonald's!3m6!1s0x882b31e6d3859eb1:0xc92a9af2d1385093!8m2!3d43.7624131!4d-79.490243!15sCgpNY0RvbmFsZCdzIgOIAQFaDCIKbWNkb25hbGQnc5IBFGZhc3RfZm9vZF9yZXN0YXVyYW504AEA!16s%2Fg%2F1hc604hjv?entry=ttu\"]\n",
    "\n",
    "\n",
    "driver.get(url[0])\n",
    "time.sleep(5)\n",
    "\n",
    "# Find the address of the location\n",
    "response = BeautifulSoup(driver.page_source, 'html.parser')\n",
    "business_name = response.find('h1',class_='DUwDvf lfPIob').text\n",
    "business_name\n",
    "\n",
    "\n",
    "\n",
    "    # address = response.find('div',class_= 'rogA2c').text"
   ]
  },
  {
   "cell_type": "code",
   "execution_count": null,
   "metadata": {},
   "outputs": [],
   "source": [
    "business_name"
   ]
  },
  {
   "cell_type": "code",
   "execution_count": null,
   "metadata": {},
   "outputs": [],
   "source": [
    "#import required libraries\n",
    "from selenium import webdriver\n",
    "from selenium.webdriver.chrome.service import Service as ChromeService\n",
    "from webdriver_manager.chrome import ChromeDriverManager\n",
    "from bs4 import BeautifulSoup\n",
    "import time\n",
    "from selenium.webdriver.support.ui import WebDriverWait\n",
    "from selenium.webdriver.common.by import By\n",
    "from selenium.webdriver.support import expected_conditions as EC\n",
    "import pandas as pd\n",
    "\n",
    "# create a function to get the address of the each location and add it to a dataframe \n",
    "def business_Overview(business,avg_rating,address1,new_df):\n",
    "    new_df['business_name'] = business\n",
    "    new_df['avg_rating'] = avg_rating\n",
    "    address_list = address1.split(',')\n",
    "    new_df['address'] = address_list[0]\n",
    "    new_df['city'] = address_list[1]\n",
    "    return new_df\n",
    "\n",
    "# initiate driver\n",
    "driver = webdriver.Chrome(service = ChromeService(ChromeDriverManager().install()))\n",
    "\n",
    "# url list with business locations\n",
    "#url = ['https://www.google.com/maps/place/Tim+Hortons/@43.7607366,-79.5321831,14z/data=!4m10!1m2!2m1!1stim+hortons!3m6!1s0x882b31d93eab2809:0xa9ea7bb65f9da6ec!8m2!3d43.7607366!4d-79.4992241!15sCgt0aW0gaG9ydG9ucyIDiAEBWg0iC3RpbSBob3J0b25zkgEKcmVzdGF1cmFudOABAA!16s%2Fg%2F1vyxk0xz','https://www.google.com/maps/place/Tim+Hortons/@43.7607366,-79.5321831,14z/data=!4m10!1m2!2m1!1stim+hortons!3m6!1s0x882b302d70a29891:0xc279061e4a5c71bc!8m2!3d43.756124!4d-79.5152637!15sCgt0aW0gaG9ydG9ucyIDiAEBWg0iC3RpbSBob3J0b25zkgEKcmVzdGF1cmFudOABAA!16s%2Fg%2F1td38wkb']\n",
    "url = [\"https://www.google.com/maps/place/McDonald's/@43.7607329,-79.5321831,14z/data=!4m10!1m2!2m1!1sMcDonald's!3m6!1s0x882b31e6d3859eb1:0xc92a9af2d1385093!8m2!3d43.7624131!4d-79.490243!15sCgpNY0RvbmFsZCdzIgOIAQFaDCIKbWNkb25hbGQnc5IBFGZhc3RfZm9vZF9yZXN0YXVyYW504AEA!16s%2Fg%2F1hc604hjv?entry=ttu\"]\n",
    "\n",
    "\n",
    "#create for loop to parse through the different locations in the url list above\n",
    "c = 0\n",
    "for i in range(0,len(url)):\n",
    "    c = c+1\n",
    "    driver.get(url[i])\n",
    "    time.sleep(5)\n",
    "\n",
    "    # Find the address of the location\n",
    "    response = BeautifulSoup(driver.page_source, 'html.parser')\n",
    "    business_name = response.find('h1',class_='DUwDvf lfPIob').text\n",
    "    avg_rating = response.find('div',class_='fontDisplayLarge').text\n",
    "    address = response.find('div',class_= 'rogA2c').text\n",
    "    driver.find_element('xpath','//*[@id=\"QA0Szd\"]/div/div/div[1]/div[3]/div/div[1]/div/div/div[2]/div[2]/div[1]/div[1]/div[2]/div/div[1]/div[2]').click()\n",
    "    time.sleep(3)\n",
    "    \n",
    "    # By default, only 10 reviews can be extracted - to extract more reviews we have to scroll down the apge\n",
    "    SCROLL_PAUSE_TIME = 5\n",
    "\n",
    "    # Get scroll height\n",
    "    last_height = driver.execute_script(\"return document.body.scrollHeight\")\n",
    "\n",
    "    number = 0\n",
    "\n",
    "    while True:\n",
    "        number = number+1\n",
    "\n",
    "        # Scroll down to bottom\n",
    "\n",
    "        #old_==ele = driver.find_element('xpath','//*[@id=\"QA0Szd\"]/div/div/div[1]/div[2]/div/div[1]/div/div/div[2]')\n",
    "        ele = driver.find_element('xpath','//*[@id=\"QA0Szd\"]/div/div/div[1]/div[3]/div/div[1]/div/div/div[2]')\n",
    "        driver.execute_script('arguments[0].scrollBy(0, 5000);', ele)\n",
    "\n",
    "        # Wait to load page\n",
    "        time.sleep(SCROLL_PAUSE_TIME)\n",
    "\n",
    "        # Calculate new scroll height and compare with last scroll height\n",
    "        #print(f'last height: {last_height}')\n",
    "\n",
    "        ele = driver.find_element('xpath','//*[@id=\"QA0Szd\"]/div/div/div[1]/div[3]/div/div[1]/div/div/div[2]')\n",
    "\n",
    "        new_height = driver.execute_script(\"return arguments[0].scrollHeight\", ele)\n",
    "\n",
    "        #print(f'new height: {new_height}')\n",
    "\n",
    "        if number == 5:\n",
    "            break\n",
    "\n",
    "        if new_height == last_height:\n",
    "            break\n",
    "\n",
    "        #print('cont')\n",
    "        last_height = new_height\n",
    "    next_item = driver.find_elements('xpath','//*[@id=\"QA0Szd\"]/div/div/div[1]/div[3]/div/div[1]/div/div/div[2]/div[9]')\n",
    "    time.sleep(3)\n",
    "\n",
    "    #expand review by click on 'more' button\n",
    "    for i in next_item:\n",
    "        button = i.find_elements(By.TAG_NAME,'button')\n",
    "        for m in button:\n",
    "            if m.text == \"More\":\n",
    "                m.click()\n",
    "        time.sleep(5)\n",
    "\n",
    "    response = BeautifulSoup(driver.page_source, 'html.parser')\n",
    "    next_2 = response.find_all('div',class_ = 'jftiEf')\n",
    "\n",
    "    #get review by passing it to a dictionary\n",
    "    def get_review_summary(result_set):\n",
    "        rev_dict = {\n",
    "            'Review Name': [],\n",
    "            'Review Text' : [],\n",
    "            'Review Rating' : []}\n",
    "\n",
    "        for result in result_set:\n",
    "            review_name = result.find(class_='d4r55').text\n",
    "            review_text = result.find('span',class_='wiI7pd').text\n",
    "            review_rating = result.find(class_='kvMYJc')['aria-label']\n",
    "            rev_dict['Review Name'].append(review_name)\n",
    "            rev_dict['Review Text'].append(review_text)\n",
    "            rev_dict['Review Rating'].append(review_rating)\n",
    "        \n",
    "         \n",
    "        return(pd.DataFrame(rev_dict))\n",
    "\n",
    "    df = get_review_summary(next_2)\n",
    "    if c == 1:\n",
    "        df1 = df.copy()\n",
    "        final_df = business_Overview(business_name,avg_rating,address,df1)\n",
    "    else:\n",
    "        df2 = df.copy()\n",
    "        final_df = business_Overview(business_name,avg_rating,address,df2)\n",
    "        final_df = pd.concat([df1,final_df],axis = 0)\n",
    "    \n",
    "\n",
    "print(final_df)"
   ]
  },
  {
   "cell_type": "code",
   "execution_count": null,
   "metadata": {},
   "outputs": [],
   "source": [
    "# review df with reviews and locations\n",
    "final_df\n"
   ]
  },
  {
   "cell_type": "markdown",
   "metadata": {},
   "source": [
    "*End Code Space*"
   ]
  },
  {
   "cell_type": "markdown",
   "metadata": {},
   "source": [
    "# **Odele's Code Space**"
   ]
  },
  {
   "cell_type": "code",
   "execution_count": null,
   "metadata": {},
   "outputs": [],
   "source": []
  },
  {
   "cell_type": "markdown",
   "metadata": {},
   "source": [
    "*End Code Space*"
   ]
  },
  {
   "cell_type": "markdown",
   "metadata": {},
   "source": [
    "# **Vanessa's Code Space**"
   ]
  },
  {
   "cell_type": "code",
   "execution_count": null,
   "metadata": {},
   "outputs": [],
   "source": []
  },
  {
   "cell_type": "markdown",
   "metadata": {},
   "source": [
    "*End Code Space*"
   ]
  },
  {
   "cell_type": "markdown",
   "metadata": {},
   "source": [
    "# **Train Test Splitting**"
   ]
  },
  {
   "cell_type": "code",
   "execution_count": null,
   "metadata": {},
   "outputs": [],
   "source": []
  },
  {
   "cell_type": "markdown",
   "metadata": {},
   "source": [
    "# **Scaling and Encoding**"
   ]
  },
  {
   "cell_type": "code",
   "execution_count": null,
   "metadata": {},
   "outputs": [],
   "source": []
  },
  {
   "cell_type": "markdown",
   "metadata": {},
   "source": [
    "# **Modeling**"
   ]
  },
  {
   "cell_type": "code",
   "execution_count": null,
   "metadata": {},
   "outputs": [],
   "source": []
  },
  {
   "cell_type": "markdown",
   "metadata": {},
   "source": [
    "# **Application (?)**"
   ]
  },
  {
   "cell_type": "code",
   "execution_count": null,
   "metadata": {},
   "outputs": [],
   "source": []
  },
  {
   "cell_type": "markdown",
   "metadata": {},
   "source": [
    "# **Findings**"
   ]
  },
  {
   "cell_type": "markdown",
   "metadata": {},
   "source": [
    "# **Citations and Licenses**"
   ]
  },
  {
   "cell_type": "markdown",
   "metadata": {},
   "source": [
    "## Citations"
   ]
  },
  {
   "cell_type": "markdown",
   "metadata": {},
   "source": [
    "## Licenses"
   ]
  },
  {
   "cell_type": "markdown",
   "metadata": {},
   "source": []
  }
 ],
 "metadata": {
  "kernelspec": {
   "display_name": "Python 3 (ipykernel)",
   "language": "python",
   "name": "python3"
  },
  "language_info": {
   "codemirror_mode": {
    "name": "ipython",
    "version": 3
   },
   "file_extension": ".py",
   "mimetype": "text/x-python",
   "name": "python",
   "nbconvert_exporter": "python",
   "pygments_lexer": "ipython3",
   "version": "3.11.7"
  }
 },
 "nbformat": 4,
 "nbformat_minor": 4
}
>>>>>>> main

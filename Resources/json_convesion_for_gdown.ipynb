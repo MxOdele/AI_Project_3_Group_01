{
 "cells": [
  {
   "cell_type": "markdown",
   "metadata": {},
   "source": [
    "Due to the large size of the necessary training files for our models, alternatie storage options to Git were needed. Due to simplicity of use, we selected `gdown` as our method of choice. This short notebook was written to convert our source files and test the functions for retrieval. Once proven viable, `Cell 3` was copied to our working notebook for use moving forward. This notebook was retained in `Resources/` for reference."
   ]
  },
  {
   "cell_type": "markdown",
   "metadata": {},
   "source": [
    "Download packages"
   ]
  },
  {
   "cell_type": "code",
   "execution_count": null,
   "metadata": {},
   "outputs": [],
   "source": [
    "# Installing gdown (uncomment if needed)\n",
    "# %pip install gdown --quiet"
   ]
  },
  {
   "cell_type": "markdown",
   "metadata": {},
   "source": [
    "Imports and dependencies"
   ]
  },
  {
   "cell_type": "code",
   "execution_count": null,
   "metadata": {},
   "outputs": [],
   "source": [
    "# Imports and dependencies\n",
    "import os\n",
    "import re\n",
    "import numpy as np\n",
    "import scipy as sp\n",
    "import pandas as pd\n",
    "import matplotlib.pyplot as plt\n",
    "import seaborn as sns\n",
    "\n",
    "# json\n",
    "import json\n",
    "\n",
    "# gdown\n",
    "import gdown\n",
    "\n"
   ]
  },
  {
   "cell_type": "markdown",
   "metadata": {},
   "source": [
    "Loading `.json` files retrieved from __[Yelp](https://www.yelp.com/dataset)__\n",
    "\n",
    "*Code commented out due to lack of functionality without storage of source files.*"
   ]
  },
  {
   "cell_type": "code",
   "execution_count": null,
   "metadata": {},
   "outputs": [],
   "source": [
    "# # Load the large JSON file\n",
    "# path = os.getcwd()+'\\\\Resources'\n",
    "\n",
    "# business_dataset = path+'\\\\yelp_academic_dataset_business.json'\n",
    "# checkin_dataset  = path +'\\\\yelp_academic_dataset_checkin.json'\n",
    "# reviews_dataset  = path + '\\\\yelp_academic_dataset_review.json'\n",
    "# tip_dataset      = path + '\\\\yelp_academic_dataset_tip.json'\n",
    "# user_dataset     = path + '\\\\yelp_academic_dataset_user.json'"
   ]
  },
  {
   "cell_type": "code",
   "execution_count": null,
   "metadata": {},
   "outputs": [],
   "source": [
    "# with open(business_dataset, \"r\",encoding = 'utf8') as f:\n",
    "#     business_df = pd.read_json(f, orient=\"records\", lines=True,)\n",
    "\n",
    "# with open(checkin_dataset, \"r\",encoding = 'utf8') as f:\n",
    "#     checkin_df = pd.read_json(f, orient=\"records\", lines=True,)\n",
    "\n",
    "# with open(reviews_dataset, \"r\",encoding = 'utf8') as f:\n",
    "#     reviews_df = pd.read_json(f, orient=\"records\", lines=True,)\n",
    "\n",
    "# with open(tip_dataset, \"r\",encoding = 'utf8') as f:\n",
    "#     tip_df = pd.read_json(f, orient=\"records\", lines=True,)\n",
    "\n",
    "# with open(user_dataset, \"r\",encoding = 'utf8') as f:\n",
    "#     user_df = pd.read_json(f, orient=\"records\", lines=True,)"
   ]
  },
  {
   "cell_type": "markdown",
   "metadata": {},
   "source": [
    "Convering `.json` files to `.csv` for upload to Google Drive\n",
    "\n",
    "*Code commented out due to lack of functionality without storage of source files.*"
   ]
  },
  {
   "cell_type": "code",
   "execution_count": null,
   "metadata": {},
   "outputs": [],
   "source": [
    "# business_df.to_csv('Resources/business_dataset.csv', index=False, header=True)\n",
    "# checkin_df.to_csv('Resources/checkin_dataset.csv', index=False, header=True)\n",
    "# reviews_df.to_csv('Resources/reviews_dataset.csv', index=False, header=True)\n",
    "# tip_df.to_csv('Resources/tip_dataset.csv', index=False, header=True)\n",
    "# user_df.to_csv('Resources/user_dataset.csv', index=False, header=True)"
   ]
  },
  {
   "cell_type": "markdown",
   "metadata": {},
   "source": [
    "Creating a function to fetch each dataset through `gdown`"
   ]
  },
  {
   "cell_type": "code",
   "execution_count": null,
   "metadata": {},
   "outputs": [],
   "source": [
    "# Defining a function to access datasets through `gdown`\n",
    "def fetch_data(set):\n",
    "    # Declaring `url` and `output` for dataset\n",
    "    match set:\n",
    "        case 'business':\n",
    "            url = 'https://drive.google.com/file/d/1t-_rOjZ8oMqPcMJunVaMgY3OEbhnuSCv/view?usp=sharing'\n",
    "            output = 'Resources/business_dataset.csv'\n",
    "        case 'checkin':\n",
    "            url = 'https://drive.google.com/file/d/1_AVWp31ymfvf4QgTiMN_WLAeapfr0omf/view?usp=sharing'\n",
    "            output = 'Resources/checkin_dataset.csv'\n",
    "        case 'reviews':\n",
    "            url = 'https://drive.google.com/file/d/1L8rFjhOQyU90Ycr9t_OLA70vCYM0e7ck/view?usp=sharing'\n",
    "            output = 'Resources/reviews_dataset.csv'\n",
    "        case 'tip':\n",
    "            url = 'https://drive.google.com/file/d/1LMkCi5AFC_58_m7ELmn1hR8YDykuXwqq/view?usp=sharing'\n",
    "            output = 'Resources/tip_dataset.csv'\n",
    "        case 'user':\n",
    "            url = 'https://drive.google.com/file/d/1kQ522qcod7AjD5DO9vj8qFcSKxwJCDrO/view?usp=sharing'\n",
    "            output = 'Resources/user_dataset.csv'\n",
    "        case _:\n",
    "            print('Invalid dataset selected, please try again')\n",
    "            return None\n",
    "    \n",
    "    # Downloading dataset\n",
    "    gdown.download(url, output, fuzzy=True, quiet=True)\n",
    "\n",
    "    # Reading in the dataset\n",
    "    df = pd.read_csv(output)\n",
    "\n",
    "    # Returning the dataset\n",
    "    return df"
   ]
  },
  {
   "cell_type": "markdown",
   "metadata": {},
   "source": [
    "Testing fetching of data"
   ]
  },
  {
   "cell_type": "code",
   "execution_count": null,
   "metadata": {},
   "outputs": [],
   "source": [
    "business_df = fetch_data('business')\n",
    "\n",
    "business_df.head()"
   ]
  },
  {
   "cell_type": "code",
   "execution_count": null,
   "metadata": {},
   "outputs": [],
   "source": []
  }
 ],
 "metadata": {
  "kernelspec": {
   "display_name": "ai_dev",
   "language": "python",
   "name": "ai_dev"
  },
  "language_info": {
   "codemirror_mode": {
    "name": "ipython",
    "version": 3
   },
   "file_extension": ".py",
   "mimetype": "text/x-python",
   "name": "python",
   "nbconvert_exporter": "python",
   "pygments_lexer": "ipython3",
   "version": "3.10.13"
  }
 },
 "nbformat": 4,
 "nbformat_minor": 2
}
